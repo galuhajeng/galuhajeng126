{
  "nbformat": 4,
  "nbformat_minor": 0,
  "metadata": {
    "colab": {
      "name": "ppwajeng1",
      "provenance": [],
      "collapsed_sections": []
    },
    "kernelspec": {
      "name": "python3",
      "display_name": "Python 3"
    },
    "language_info": {
      "name": "python"
    }
  },
  "cells": [
    {
      "cell_type": "code",
      "execution_count": null,
      "metadata": {
        "colab": {
          "base_uri": "https://localhost:8080/"
        },
        "id": "7GIdkvFle2NL",
        "outputId": "2901b6b9-bace-4a43-8a50-2710eb32bc79"
      },
      "outputs": [
        {
          "output_type": "stream",
          "name": "stdout",
          "text": [
            "Looking in indexes: https://pypi.org/simple, https://us-python.pkg.dev/colab-wheels/public/simple/\n",
            "Collecting scrapy\n",
            "  Downloading Scrapy-2.6.1-py2.py3-none-any.whl (264 kB)\n",
            "\u001b[K     |████████████████████████████████| 264 kB 15.8 MB/s \n",
            "\u001b[?25hCollecting cryptography>=2.0\n",
            "  Downloading cryptography-37.0.2-cp36-abi3-manylinux_2_24_x86_64.whl (4.0 MB)\n",
            "\u001b[K     |████████████████████████████████| 4.0 MB 73.0 MB/s \n",
            "\u001b[?25hRequirement already satisfied: setuptools in /usr/local/lib/python3.7/dist-packages (from scrapy) (57.4.0)\n",
            "Collecting protego>=0.1.15\n",
            "  Downloading Protego-0.2.1-py2.py3-none-any.whl (8.2 kB)\n",
            "Collecting zope.interface>=4.1.3\n",
            "  Downloading zope.interface-5.4.0-cp37-cp37m-manylinux2010_x86_64.whl (251 kB)\n",
            "\u001b[K     |████████████████████████████████| 251 kB 68.3 MB/s \n",
            "\u001b[?25hCollecting cssselect>=0.9.1\n",
            "  Downloading cssselect-1.1.0-py2.py3-none-any.whl (16 kB)\n",
            "Collecting itemadapter>=0.1.0\n",
            "  Downloading itemadapter-0.6.0-py3-none-any.whl (10 kB)\n",
            "Collecting itemloaders>=1.0.1\n",
            "  Downloading itemloaders-1.0.4-py3-none-any.whl (11 kB)\n",
            "Collecting PyDispatcher>=2.0.5\n",
            "  Downloading PyDispatcher-2.0.5.zip (47 kB)\n",
            "\u001b[K     |████████████████████████████████| 47 kB 5.9 MB/s \n",
            "\u001b[?25hRequirement already satisfied: lxml>=3.5.0 in /usr/local/lib/python3.7/dist-packages (from scrapy) (4.2.6)\n",
            "Collecting w3lib>=1.17.0\n",
            "  Downloading w3lib-1.22.0-py2.py3-none-any.whl (20 kB)\n",
            "Collecting tldextract\n",
            "  Downloading tldextract-3.3.0-py3-none-any.whl (93 kB)\n",
            "\u001b[K     |████████████████████████████████| 93 kB 2.5 MB/s \n",
            "\u001b[?25hCollecting service-identity>=16.0.0\n",
            "  Downloading service_identity-21.1.0-py2.py3-none-any.whl (12 kB)\n",
            "Collecting queuelib>=1.4.2\n",
            "  Downloading queuelib-1.6.2-py2.py3-none-any.whl (13 kB)\n",
            "Collecting Twisted>=17.9.0\n",
            "  Downloading Twisted-22.4.0-py3-none-any.whl (3.1 MB)\n",
            "\u001b[K     |████████████████████████████████| 3.1 MB 58.9 MB/s \n",
            "\u001b[?25hCollecting pyOpenSSL>=16.2.0\n",
            "  Downloading pyOpenSSL-22.0.0-py2.py3-none-any.whl (55 kB)\n",
            "\u001b[K     |████████████████████████████████| 55 kB 1.0 MB/s \n",
            "\u001b[?25hCollecting parsel>=1.5.0\n",
            "  Downloading parsel-1.6.0-py2.py3-none-any.whl (13 kB)\n",
            "Requirement already satisfied: cffi>=1.12 in /usr/local/lib/python3.7/dist-packages (from cryptography>=2.0->scrapy) (1.15.0)\n",
            "Requirement already satisfied: pycparser in /usr/local/lib/python3.7/dist-packages (from cffi>=1.12->cryptography>=2.0->scrapy) (2.21)\n",
            "Collecting jmespath>=0.9.5\n",
            "  Downloading jmespath-1.0.0-py3-none-any.whl (23 kB)\n",
            "Requirement already satisfied: six>=1.6.0 in /usr/local/lib/python3.7/dist-packages (from parsel>=1.5.0->scrapy) (1.15.0)\n",
            "Requirement already satisfied: attrs>=19.1.0 in /usr/local/lib/python3.7/dist-packages (from service-identity>=16.0.0->scrapy) (21.4.0)\n",
            "Requirement already satisfied: pyasn1-modules in /usr/local/lib/python3.7/dist-packages (from service-identity>=16.0.0->scrapy) (0.2.8)\n",
            "Requirement already satisfied: pyasn1 in /usr/local/lib/python3.7/dist-packages (from service-identity>=16.0.0->scrapy) (0.4.8)\n",
            "Collecting hyperlink>=17.1.1\n",
            "  Downloading hyperlink-21.0.0-py2.py3-none-any.whl (74 kB)\n",
            "\u001b[K     |████████████████████████████████| 74 kB 3.8 MB/s \n",
            "\u001b[?25hRequirement already satisfied: typing-extensions>=3.6.5 in /usr/local/lib/python3.7/dist-packages (from Twisted>=17.9.0->scrapy) (4.2.0)\n",
            "Collecting incremental>=21.3.0\n",
            "  Downloading incremental-21.3.0-py2.py3-none-any.whl (15 kB)\n",
            "Collecting constantly>=15.1\n",
            "  Downloading constantly-15.1.0-py2.py3-none-any.whl (7.9 kB)\n",
            "Collecting Automat>=0.8.0\n",
            "  Downloading Automat-20.2.0-py2.py3-none-any.whl (31 kB)\n",
            "Requirement already satisfied: idna>=2.5 in /usr/local/lib/python3.7/dist-packages (from hyperlink>=17.1.1->Twisted>=17.9.0->scrapy) (2.10)\n",
            "Collecting requests-file>=1.4\n",
            "  Downloading requests_file-1.5.1-py2.py3-none-any.whl (3.7 kB)\n",
            "Requirement already satisfied: requests>=2.1.0 in /usr/local/lib/python3.7/dist-packages (from tldextract->scrapy) (2.23.0)\n",
            "Requirement already satisfied: filelock>=3.0.8 in /usr/local/lib/python3.7/dist-packages (from tldextract->scrapy) (3.7.1)\n",
            "Requirement already satisfied: chardet<4,>=3.0.2 in /usr/local/lib/python3.7/dist-packages (from requests>=2.1.0->tldextract->scrapy) (3.0.4)\n",
            "Requirement already satisfied: certifi>=2017.4.17 in /usr/local/lib/python3.7/dist-packages (from requests>=2.1.0->tldextract->scrapy) (2022.5.18.1)\n",
            "Requirement already satisfied: urllib3!=1.25.0,!=1.25.1,<1.26,>=1.21.1 in /usr/local/lib/python3.7/dist-packages (from requests>=2.1.0->tldextract->scrapy) (1.24.3)\n",
            "Building wheels for collected packages: PyDispatcher\n",
            "  Building wheel for PyDispatcher (setup.py) ... \u001b[?25l\u001b[?25hdone\n",
            "  Created wheel for PyDispatcher: filename=PyDispatcher-2.0.5-py3-none-any.whl size=11516 sha256=8826f1128f13d79f1105d530fc1c106e53590c7ea3f5c91e3febe34df6ae27ab\n",
            "  Stored in directory: /root/.cache/pip/wheels/2d/18/21/3c6a732eaa69a339198e08bb63b7da2c45933a3428b29ec454\n",
            "Successfully built PyDispatcher\n",
            "Installing collected packages: w3lib, cssselect, zope.interface, requests-file, parsel, jmespath, itemadapter, incremental, hyperlink, cryptography, constantly, Automat, Twisted, tldextract, service-identity, queuelib, pyOpenSSL, PyDispatcher, protego, itemloaders, scrapy\n",
            "Successfully installed Automat-20.2.0 PyDispatcher-2.0.5 Twisted-22.4.0 constantly-15.1.0 cryptography-37.0.2 cssselect-1.1.0 hyperlink-21.0.0 incremental-21.3.0 itemadapter-0.6.0 itemloaders-1.0.4 jmespath-1.0.0 parsel-1.6.0 protego-0.2.1 pyOpenSSL-22.0.0 queuelib-1.6.2 requests-file-1.5.1 scrapy-2.6.1 service-identity-21.1.0 tldextract-3.3.0 w3lib-1.22.0 zope.interface-5.4.0\n"
          ]
        }
      ],
      "source": [
        "!pip install scrapy"
      ]
    },
    {
      "cell_type": "markdown",
      "source": [
        "Melakukan Crawling Data Berita\n"
      ],
      "metadata": {
        "id": "Mz0M7ROpfJeS"
      }
    },
    {
      "cell_type": "code",
      "source": [
        "import scrapy\n",
        "from scrapy.crawler import CrawlerProcess\n",
        "\n",
        "class Spider(scrapy.Spider):\n",
        "    name = \"sindonews\"\n",
        "    keyword = 'international'\n",
        "    start_urls = [\n",
        "        'https://international.sindonews.com/'+keyword\n",
        "        ]\n",
        "    custom_settings = {\n",
        "        'FEED_FORMAT': 'csv',\n",
        "        'FEED_URI': 'internasional.csv'\n",
        "        }\n",
        "\n",
        "    def parse(self, response):\n",
        "        for data in response.css('div.homelist-box'):\n",
        "            yield {\n",
        "                'Kategori': data.css('div.homelist-channel::text').get(),\n",
        "                'Tanggal': data.css('div.homelist-date::text').get(),\n",
        "                'Judul': data.css('div.homelist-title a::text').get(),\n",
        "                'Deskripsi': data.css('div.homelist-desc::text').get()\n",
        "                }\n",
        "proses = CrawlerProcess()\n",
        "proses.crawl(Spider)\n",
        "proses.start()\n"
      ],
      "metadata": {
        "colab": {
          "base_uri": "https://localhost:8080/"
        },
        "id": "d-cbNsDpfO_w",
        "outputId": "91e3fc56-ca89-42bd-f1e2-a11011ba1146"
      },
      "execution_count": null,
      "outputs": [
        {
          "output_type": "stream",
          "name": "stderr",
          "text": [
            "2022-06-15 21:00:20 [scrapy.utils.log] INFO: Scrapy 2.6.1 started (bot: scrapybot)\n",
            "2022-06-15 21:00:20 [scrapy.utils.log] INFO: Versions: lxml 4.2.6.0, libxml2 2.9.8, cssselect 1.1.0, parsel 1.6.0, w3lib 1.22.0, Twisted 22.4.0, Python 3.7.13 (default, Apr 24 2022, 01:04:09) - [GCC 7.5.0], pyOpenSSL 22.0.0 (OpenSSL 3.0.3 3 May 2022), cryptography 37.0.2, Platform Linux-5.4.188+-x86_64-with-Ubuntu-18.04-bionic\n",
            "2022-06-15 21:00:20 [scrapy.crawler] INFO: Overridden settings:\n",
            "{}\n",
            "2022-06-15 21:00:20 [scrapy.utils.log] DEBUG: Using reactor: twisted.internet.epollreactor.EPollReactor\n",
            "2022-06-15 21:00:20 [scrapy.extensions.telnet] INFO: Telnet Password: a75bf65c2616612c\n",
            "/usr/local/lib/python3.7/dist-packages/scrapy/extensions/feedexport.py:289: ScrapyDeprecationWarning: The `FEED_URI` and `FEED_FORMAT` settings have been deprecated in favor of the `FEEDS` setting. Please see the `FEEDS` setting docs for more details\n",
            "  exporter = cls(crawler)\n",
            "2022-06-15 21:00:20 [scrapy.middleware] INFO: Enabled extensions:\n",
            "['scrapy.extensions.corestats.CoreStats',\n",
            " 'scrapy.extensions.telnet.TelnetConsole',\n",
            " 'scrapy.extensions.memusage.MemoryUsage',\n",
            " 'scrapy.extensions.feedexport.FeedExporter',\n",
            " 'scrapy.extensions.logstats.LogStats']\n",
            "2022-06-15 21:00:20 [scrapy.middleware] INFO: Enabled downloader middlewares:\n",
            "['scrapy.downloadermiddlewares.httpauth.HttpAuthMiddleware',\n",
            " 'scrapy.downloadermiddlewares.downloadtimeout.DownloadTimeoutMiddleware',\n",
            " 'scrapy.downloadermiddlewares.defaultheaders.DefaultHeadersMiddleware',\n",
            " 'scrapy.downloadermiddlewares.useragent.UserAgentMiddleware',\n",
            " 'scrapy.downloadermiddlewares.retry.RetryMiddleware',\n",
            " 'scrapy.downloadermiddlewares.redirect.MetaRefreshMiddleware',\n",
            " 'scrapy.downloadermiddlewares.httpcompression.HttpCompressionMiddleware',\n",
            " 'scrapy.downloadermiddlewares.redirect.RedirectMiddleware',\n",
            " 'scrapy.downloadermiddlewares.cookies.CookiesMiddleware',\n",
            " 'scrapy.downloadermiddlewares.httpproxy.HttpProxyMiddleware',\n",
            " 'scrapy.downloadermiddlewares.stats.DownloaderStats']\n",
            "2022-06-15 21:00:20 [scrapy.middleware] INFO: Enabled spider middlewares:\n",
            "['scrapy.spidermiddlewares.httperror.HttpErrorMiddleware',\n",
            " 'scrapy.spidermiddlewares.offsite.OffsiteMiddleware',\n",
            " 'scrapy.spidermiddlewares.referer.RefererMiddleware',\n",
            " 'scrapy.spidermiddlewares.urllength.UrlLengthMiddleware',\n",
            " 'scrapy.spidermiddlewares.depth.DepthMiddleware']\n",
            "2022-06-15 21:00:20 [scrapy.middleware] INFO: Enabled item pipelines:\n",
            "[]\n",
            "2022-06-15 21:00:20 [scrapy.core.engine] INFO: Spider opened\n",
            "2022-06-15 21:00:20 [scrapy.extensions.logstats] INFO: Crawled 0 pages (at 0 pages/min), scraped 0 items (at 0 items/min)\n",
            "2022-06-15 21:00:20 [scrapy.extensions.telnet] INFO: Telnet console listening on 127.0.0.1:6023\n",
            "2022-06-15 21:00:21 [scrapy.downloadermiddlewares.redirect] DEBUG: Redirecting (301) to <GET https://international.sindonews.com/> from <GET https://international.sindonews.com/international>\n",
            "2022-06-15 21:00:21 [filelock] DEBUG: Attempting to acquire lock 139663238816976 on /root/.cache/python-tldextract/3.7.13.final__usr__7d8fdf__tldextract-3.3.0/publicsuffix.org-tlds/de84b5ca2167d4c83e38fb162f2e8738.tldextract.json.lock\n",
            "2022-06-15 21:00:21 [filelock] DEBUG: Lock 139663238816976 acquired on /root/.cache/python-tldextract/3.7.13.final__usr__7d8fdf__tldextract-3.3.0/publicsuffix.org-tlds/de84b5ca2167d4c83e38fb162f2e8738.tldextract.json.lock\n",
            "2022-06-15 21:00:21 [filelock] DEBUG: Attempting to acquire lock 139663238819024 on /root/.cache/python-tldextract/3.7.13.final__usr__7d8fdf__tldextract-3.3.0/urls/62bf135d1c2f3d4db4228b9ecaf507a2.tldextract.json.lock\n",
            "2022-06-15 21:00:21 [filelock] DEBUG: Lock 139663238819024 acquired on /root/.cache/python-tldextract/3.7.13.final__usr__7d8fdf__tldextract-3.3.0/urls/62bf135d1c2f3d4db4228b9ecaf507a2.tldextract.json.lock\n",
            "2022-06-15 21:00:21 [urllib3.connectionpool] DEBUG: Starting new HTTPS connection (1): publicsuffix.org:443\n",
            "2022-06-15 21:00:21 [urllib3.connectionpool] DEBUG: https://publicsuffix.org:443 \"GET /list/public_suffix_list.dat HTTP/1.1\" 200 None\n",
            "2022-06-15 21:00:21 [filelock] DEBUG: Attempting to release lock 139663238819024 on /root/.cache/python-tldextract/3.7.13.final__usr__7d8fdf__tldextract-3.3.0/urls/62bf135d1c2f3d4db4228b9ecaf507a2.tldextract.json.lock\n",
            "2022-06-15 21:00:21 [filelock] DEBUG: Lock 139663238819024 released on /root/.cache/python-tldextract/3.7.13.final__usr__7d8fdf__tldextract-3.3.0/urls/62bf135d1c2f3d4db4228b9ecaf507a2.tldextract.json.lock\n",
            "2022-06-15 21:00:21 [filelock] DEBUG: Attempting to release lock 139663238816976 on /root/.cache/python-tldextract/3.7.13.final__usr__7d8fdf__tldextract-3.3.0/publicsuffix.org-tlds/de84b5ca2167d4c83e38fb162f2e8738.tldextract.json.lock\n",
            "2022-06-15 21:00:21 [filelock] DEBUG: Lock 139663238816976 released on /root/.cache/python-tldextract/3.7.13.final__usr__7d8fdf__tldextract-3.3.0/publicsuffix.org-tlds/de84b5ca2167d4c83e38fb162f2e8738.tldextract.json.lock\n",
            "2022-06-15 21:00:21 [scrapy.core.engine] DEBUG: Crawled (200) <GET https://international.sindonews.com/> (referer: None)\n",
            "2022-06-15 21:00:21 [scrapy.core.scraper] DEBUG: Scraped from <200 https://international.sindonews.com/>\n",
            "{'Kategori': 'Eropa', 'Tanggal': 'Kamis, 16 Juni 2022 - 03:15 WIB', 'Judul': 'Ramzan Kadyrov Klaim Rebut Kota Komyshuvakha dari Pasukan Ukraina', 'Deskripsi': 'Pemimpin Chechnya, Ramzan Kadyrov, mengatakan kota Komyshuvakha di Republik Rakyat Luhansk telah dibebaskan dari pendudukan Ukraina.'}\n",
            "2022-06-15 21:00:21 [scrapy.core.scraper] DEBUG: Scraped from <200 https://international.sindonews.com/>\n",
            "{'Kategori': 'Eropa', 'Tanggal': 'Kamis, 16 Juni 2022 - 02:25 WIB', 'Judul': 'Milisi Donbass Tuding Pasukan Ukraina Gagalkan Koridor Kemanusiaan di Severodonetsk', 'Deskripsi': 'Tentara Ukraina yang bersembunyi di pabrik kimia Azot di Severodonetsk telah menggagalkan evakuasi warga sipil melalui koridor kemanusiaan yang disediakan oleh Rusia.'}\n",
            "2022-06-15 21:00:21 [scrapy.core.scraper] DEBUG: Scraped from <200 https://international.sindonews.com/>\n",
            "{'Kategori': 'Eropa', 'Tanggal': 'Kamis, 16 Juni 2022 - 02:13 WIB', 'Judul': 'Serang Bandara Suriah, Rusia Minta Klarifikasi Israel', 'Deskripsi': 'Rusia menyatakan keprihatinan serius kepada Duta Besar Israel terkait serangan udara yang membuat Bandara Internasional Damaskus Suriah berhenti beroperasi pekan lalu.'}\n",
            "2022-06-15 21:00:21 [scrapy.core.scraper] DEBUG: Scraped from <200 https://international.sindonews.com/>\n",
            "{'Kategori': 'Video', 'Tanggal': 'Sabtu, 28 Mei 2022 - 17:39 WIB', 'Judul': 'Partai Perindo: Mars Partai Perindo dengan QR Code', 'Deskripsi': 'Lahir dari semangat untuk mengembalikan cita-cita kemerdekaan, Partai Perindo hadir untuk membangun Indonesia menjadi negara bersatu, berdaulat, adil dan makmur berlandaskan Pancasila.'}\n",
            "2022-06-15 21:00:21 [scrapy.core.scraper] DEBUG: Scraped from <200 https://international.sindonews.com/>\n",
            "{'Kategori': 'Eropa', 'Tanggal': 'Kamis, 16 Juni 2022 - 00:58 WIB', 'Judul': 'Suami Tak Ada Kabar, Istri Prajurit Rusia Turun ke Jalan Menuntut Jawaban', 'Deskripsi': 'Istri tentara yang berperang untuk Rusia di wilayah Donbas, Ukraina, turun ke jalan menuntut jawaban atas keberadaan suami mereka yang tidak ada kabar lebih dari 100 hari setelah invasi dimulai.'}\n",
            "2022-06-15 21:00:21 [scrapy.core.scraper] DEBUG: Scraped from <200 https://international.sindonews.com/>\n",
            "{'Kategori': 'Afrika', 'Tanggal': 'Kamis, 16 Juni 2022 - 00:07 WIB', 'Judul': 'Pejabat Kongo: Jika Rwanda Inginkan Perang, Maka Mereka Akan Dapatkan', 'Deskripsi': 'Hubungan antara Rwanda dan Kongo telah penuh ketegangan selama beberapa dekade.'}\n",
            "2022-06-15 21:00:21 [scrapy.core.scraper] DEBUG: Scraped from <200 https://international.sindonews.com/>\n",
            "{'Kategori': 'Asia Pasifik', 'Tanggal': 'Rabu, 15 Juni 2022 - 23:10 WIB', 'Judul': 'Sempat Tersiar, China Hapus Laporan Mendeteksi Sinyal dari Alien', 'Deskripsi': 'Sebuah laporan dari Science and Technology Daily China mengatakan bahwa teleskop raksasa milik negara itu, Sky Eye, mungkin telah menangkap tanda-tanda peradaban alien.'}\n",
            "2022-06-15 21:00:21 [scrapy.core.scraper] DEBUG: Scraped from <200 https://international.sindonews.com/>\n",
            "{'Kategori': 'Amerika', 'Tanggal': 'Rabu, 15 Juni 2022 - 22:56 WIB', 'Judul': 'AS Akan Umumkan Bantuan Senjata Tambahan untuk Ukraina, Termasuk Rudal Harpoon', 'Deskripsi': 'Pemerintahan Presiden Joe Biden akan segera mengumumkan bantuan tambahan senilai USD650 juta atau sekitar Rp9,6 triliun dalam bentuk senjata dan peralatan untuk Ukraina.'}\n",
            "2022-06-15 21:00:21 [scrapy.core.scraper] DEBUG: Scraped from <200 https://international.sindonews.com/>\n",
            "{'Kategori': 'Eropa', 'Tanggal': 'Rabu, 15 Juni 2022 - 22:05 WIB', 'Judul': 'Kremlin Sebut Komunikasi dengan Washington Harus Tetap Berlanjut', 'Deskripsi': 'Meski banyak memiliki perbedaan, bahkan kerap terlibat konfrontasi, namun Kremlin menyatakan bahwa komunikasi tetap penting dalam hubungan dengan Amerika Serikat (AS).'}\n",
            "2022-06-15 21:00:21 [scrapy.core.scraper] DEBUG: Scraped from <200 https://international.sindonews.com/>\n",
            "{'Kategori': 'Eropa', 'Tanggal': 'Rabu, 15 Juni 2022 - 21:30 WIB', 'Judul': 'Ukraina Tuding Rusia Incar Wilayah dari Warsawa hingga Sofia', 'Deskripsi': 'Rusia tidak hanya tertarik pada (kota) Mariupol, Sievierodonetsk, Kharkiv dan Kiev kami. Tidak, ambisinya diarahkan pada wilayah yang luas dari Warsawa hingga Sofia, kata Zelensky.'}\n",
            "2022-06-15 21:00:21 [scrapy.core.scraper] DEBUG: Scraped from <200 https://international.sindonews.com/>\n",
            "{'Kategori': 'Okezone', 'Tanggal': 'Kamis, 16 Juni 2022 - 01:01 WIB', 'Judul': 'Germo Prostitusi Online di Bali Divonis 10 Bulan Penjara', 'Deskripsi': 'Menjatuhkan pidana kepada terdakwa dengan pidana penjara selama 10 bulan dikurangi selama terdakwa menjalani masa tahanan.'}\n",
            "2022-06-15 21:00:21 [scrapy.core.scraper] DEBUG: Scraped from <200 https://international.sindonews.com/>\n",
            "{'Kategori': 'iNews', 'Tanggal': 'Rabu, 15 Juni 2022 - 22:37 WIB', 'Judul': 'Sejarah Perjalanan Haji di Indonesia, dari Abad ke-16 hingga Era Kolonial Belanda', 'Deskripsi': 'Sebagai negara dengan penduduk Muslim terbanyak di dunia, Indonesia selalu mendapat kloter terbanyak ketika musim haji'}\n",
            "2022-06-15 21:00:21 [scrapy.core.scraper] DEBUG: Scraped from <200 https://international.sindonews.com/>\n",
            "{'Kategori': 'Timur Tengah', 'Tanggal': 'Rabu, 15 Juni 2022 - 21:00 WIB', 'Judul': 'Iran Mengaku Sedang Merencanakan Peluncuran Roket', 'Deskripsi': 'Pengakuan ini dilontarkan Teheran setelah foto-foto satelit menunjukkan persiapan di landasan peluncuran gurun yang sebelumnya digunakan dalam program tersebut.'}\n",
            "2022-06-15 21:00:21 [scrapy.core.scraper] DEBUG: Scraped from <200 https://international.sindonews.com/>\n",
            "{'Kategori': 'Asia Pasifik', 'Tanggal': 'Rabu, 15 Juni 2022 - 20:21 WIB', 'Judul': 'Xi Jinping Yakinkan Putin, China Akan Terus Dukung Rusia', 'Deskripsi': 'Presiden China Xi Jinping mengatakan kepada timpalannya dari Rusia Vladimir Putin melalui telepon pada Rabu (15/6/2022), bahwa Beijing akan terus mendukung Moskow pada kedaulatan dan keamanan.'}\n",
            "2022-06-15 21:00:21 [scrapy.core.scraper] DEBUG: Scraped from <200 https://international.sindonews.com/>\n",
            "{'Kategori': 'Asia Pasifik', 'Tanggal': 'Rabu, 15 Juni 2022 - 19:40 WIB', 'Judul': 'Agama Warga Negara India dan Persentasenya', 'Deskripsi': 'Negara ini menduduki urutan kedua sebagai negara dengan penduduk terbanyak di dunia, dengan populasi kurang lebih 1.406.631.776 jiwa pada tahun 2022.'}\n",
            "2022-06-15 21:00:21 [scrapy.core.scraper] DEBUG: Scraped from <200 https://international.sindonews.com/>\n",
            "{'Kategori': 'Eropa', 'Tanggal': 'Rabu, 15 Juni 2022 - 19:09 WIB', 'Judul': 'Rusia Akan Evakuasi Warga Sipil dari Pabrik Kimia Severodonetsk', 'Deskripsi': 'Rusia menyatakan akan membangun koridor kemanusiaan untuk mengevakuasi warga sipil dari pabrik kimia di Severodonetsk mulai Rabu (15/6/2022), saat pasukan Ukraina berjuang mati-matian untuk menguasai kota itu.'}\n",
            "2022-06-15 21:00:21 [scrapy.core.scraper] DEBUG: Scraped from <200 https://international.sindonews.com/>\n",
            "{'Kategori': 'Eropa', 'Tanggal': 'Rabu, 15 Juni 2022 - 18:30 WIB', 'Judul': 'Macron: Prancis Akan Lakukan Segalanya untuk Hentikan Pasukan Rusia', 'Deskripsi': 'Presiden Emmanuel Macron mulai bersuara keras pada Rusia, setelah ia mengunjungi pasukan Prancis dan sekutu di pangkalan NATO di Rumania, Rabu (15/6/2022).'}\n",
            "2022-06-15 21:00:22 [scrapy.core.scraper] DEBUG: Scraped from <200 https://international.sindonews.com/>\n",
            "{'Kategori': 'Asia Pasifik', 'Tanggal': 'Rabu, 15 Juni 2022 - 17:52 WIB', 'Judul': 'India Rombak Proses Rekrutmen Militer, Cari Pasukan yang Lebih Muda', 'Deskripsi': 'Militer India sedang merombak proses rekrutmen untuk personel di bawah pangkat perwira. Langkah ini bertujuan untuk mengerahkan pasukan yang lebih muda dan lebih bugar di garis depan.'}\n",
            "2022-06-15 21:00:22 [scrapy.core.scraper] DEBUG: Scraped from <200 https://international.sindonews.com/>\n",
            "{'Kategori': 'Asia Pasifik', 'Tanggal': 'Rabu, 15 Juni 2022 - 16:59 WIB', 'Judul': 'Pelapor Khusus PBB: Junta Myanmar Siksa dan Bunuh Anak-anak', 'Deskripsi': 'Puluhan anak telah tewas di Myanmar sejak kudeta tahun lalu. Anak-anak itu tak hanya tewas dalam baku tembak konflik, tetapi juga menjadi sasaran yang disengaja dari militer.'}\n",
            "2022-06-15 21:00:22 [scrapy.core.scraper] DEBUG: Scraped from <200 https://international.sindonews.com/>\n",
            "{'Kategori': 'Timur Tengah', 'Tanggal': 'Rabu, 15 Juni 2022 - 16:56 WIB', 'Judul': 'Kisah Sultan Abdulmejid 1, Penguasa Turki Utsmani Penolong Warga Kristen Irlandia dari Kelaparan', 'Deskripsi': 'Di pertengahan abad ke-19 atau pada tahun 1845 hingga 1852, bencana kelaparan terjadi di Irlandia sampai menyebabkan lebih dari satu juta kematian.'}\n",
            "2022-06-15 21:00:22 [scrapy.core.scraper] DEBUG: Scraped from <200 https://international.sindonews.com/>\n",
            "{'Kategori': 'Eropa', 'Tanggal': 'Rabu, 15 Juni 2022 - 16:30 WIB', 'Judul': 'Ukraina Kian Terdesak di Front Timur, Zelensky Minta Suplai Senjata Anti Rudal', 'Deskripsi': 'Pasukan Ukraina menderita kerugian yang menyakitkan dalam memerangi pasukan Rusia di kota timur Sievierodonetsk dan wilayah Kharkiv. Zelensky pun kembali meminta bantuan suplai senjata dari Barat.'}\n",
            "2022-06-15 21:00:22 [scrapy.core.scraper] DEBUG: Scraped from <200 https://international.sindonews.com/>\n",
            "{'Kategori': 'Eropa', 'Tanggal': 'Rabu, 15 Juni 2022 - 15:21 WIB', 'Judul': 'Dubes Rusia Prihatin AS Akan Kirim Lebih Banyak Artileri Roket HIMARS ke Ukraina', 'Deskripsi': 'Pada awal bulan ini, Presiden AS Joe Biden mengumumkan paket bantuan militer baru untuk Ukraina di tengah kerugian teritorial Kiev terhadap pasukan Rusia di Donbass.'}\n",
            "2022-06-15 21:00:22 [scrapy.core.scraper] DEBUG: Scraped from <200 https://international.sindonews.com/>\n",
            "{'Kategori': 'Eropa', 'Tanggal': 'Rabu, 15 Juni 2022 - 15:00 WIB', 'Judul': 'Profil Sheikh Yasser Al-habib, Penulis Skenario Film The Lady of Heaven yang Dilarang di Banyak Negara', 'Deskripsi': 'Dunia perfilman akhir-akhir ini dibuat geger dengan rilisnya film The Lady of Heaven. Film bertema drama sejarah yang disutradarai Eli King ini skenarionya ditulis Sheikh Yasser Al-Habib.'}\n",
            "2022-06-15 21:00:22 [scrapy.core.scraper] DEBUG: Scraped from <200 https://international.sindonews.com/>\n",
            "{'Kategori': 'Amerika', 'Tanggal': 'Rabu, 15 Juni 2022 - 14:25 WIB', 'Judul': 'AS akan Kirim Rudal Kendali Berat ke Ukraina, Bisa Kenai Target 70 Km', 'Deskripsi': 'Amerika Serikat (AS) mengirim rudal berpemandu berat ke Ukraina dengan jangkauan 70 km untuk digunakan dengan beberapa peluncur roket HIMARS.'}\n",
            "2022-06-15 21:00:22 [scrapy.core.scraper] DEBUG: Scraped from <200 https://international.sindonews.com/>\n",
            "{'Kategori': 'Eropa', 'Tanggal': 'Rabu, 15 Juni 2022 - 13:40 WIB', 'Judul': 'LPR: 1.200 Warga Sipil Mungkin Ditahan Radikal di Pabrik Azot Severodonetsk', 'Deskripsi': 'Republik Rakyat Luhansk (LPR) menyatakan sekitar 1.200 warga sipil mungkin ditahan kelompok radikal di pabrik Azot, Severodonetsk.'}\n",
            "2022-06-15 21:00:22 [scrapy.core.scraper] DEBUG: Scraped from <200 https://international.sindonews.com/>\n",
            "{'Kategori': 'Timur Tengah', 'Tanggal': 'Rabu, 15 Juni 2022 - 12:37 WIB', 'Judul': 'Terpukul Dampak Perang, Ukraina Ajukan Utang ke Israel Senilai Rp7 Triliun', 'Deskripsi': 'Ukraina telah meminta Israel memberi pinjaman USD500 juta (Rp7 triliun) karena ekonominya terus terkena dampak perang.'}\n",
            "2022-06-15 21:00:22 [scrapy.core.scraper] DEBUG: Scraped from <200 https://international.sindonews.com/>\n",
            "{'Kategori': 'Timur Tengah', 'Tanggal': 'Rabu, 15 Juni 2022 - 11:45 WIB', 'Judul': 'Detik-detik Warga Israel di Turki Diselamatkan sebelum Pembunuh Serang Hotel', 'Deskripsi': 'Beberapa warga Israel yang mengunjungi Istanbul dijemput dan diterbangkan keluar dari Turki oleh pejabat keamanan Israel untuk menyelamatkan mereka dari pembunuh Iran yang menunggu untuk membunuh mereka di hotel mereka.'}\n",
            "2022-06-15 21:00:22 [scrapy.core.scraper] DEBUG: Scraped from <200 https://international.sindonews.com/>\n",
            "{'Kategori': 'Amerika', 'Tanggal': 'Rabu, 15 Juni 2022 - 10:27 WIB', 'Judul': 'AS Sebut Selat Taiwan Jalur Perairan Internasional, China Marah', 'Deskripsi': 'Amerika Serikat (AS) pada Selasa (14/6/2022) mendukung pernyataan Taiwan bahwa selat yang memisahkan pulau itu dari daratan China adalah jalur perairan internasional.'}\n",
            "2022-06-15 21:00:22 [scrapy.core.scraper] DEBUG: Scraped from <200 https://international.sindonews.com/>\n",
            "{'Kategori': 'Timur Tengah', 'Tanggal': 'Rabu, 15 Juni 2022 - 09:18 WIB', 'Judul': 'Citra Satelit Ungkap Iran Bersiap untuk Peluncuran Roket', 'Deskripsi': 'Iran tampaknya bersiap untuk peluncuran luar angkasa pada Selasa (14/6/2022) saat citra satelit menunjukkan roket di landasan peluncuran gurun pedesaan.'}\n",
            "2022-06-15 21:00:22 [scrapy.core.scraper] DEBUG: Scraped from <200 https://international.sindonews.com/>\n",
            "{'Kategori': 'Eropa', 'Tanggal': 'Rabu, 15 Juni 2022 - 08:22 WIB', 'Judul': 'NATO Janjikan Lebih Banyak Senjata Berat untuk Ukraina', 'Deskripsi': 'Ukraina harus mendapatkan lebih banyak senjata berat NATO. Sekretaris Jenderal NATO Jens Stoltenberg mengungkapkan hal itu pada Selasa (14/6/2022).'}\n",
            "2022-06-15 21:00:22 [scrapy.core.scraper] DEBUG: Scraped from <200 https://international.sindonews.com/>\n",
            "{'Kategori': 'Amerika', 'Tanggal': 'Rabu, 15 Juni 2022 - 07:33 WIB', 'Judul': 'Kanada dan Denmark Akhiri Perang Wiski, Pulau Hans Dibagi Dua', 'Deskripsi': 'Kanada dan Denmark akhirnya secara resmi setuju membagi dua Pulau Hans yang terletak di tengah perbatasan Arktik mereka, di antara mereka sendiri.'}\n",
            "2022-06-15 21:00:22 [scrapy.core.scraper] DEBUG: Scraped from <200 https://international.sindonews.com/>\n",
            "{'Kategori': 'Eropa', 'Tanggal': 'Rabu, 15 Juni 2022 - 06:52 WIB', 'Judul': 'Ajudan Zelensky Ungkap Alasan Ukraina Pilih Perang Kota', 'Deskripsi': 'Mengambil posisi di kota-kota adalah taktik yang diperhitungkan militer Ukraina untuk meminimalkan kerugian mereka sendiri dan memaksimalkan kerugian pasukan Rusia.'}\n",
            "2022-06-15 21:00:22 [scrapy.core.scraper] DEBUG: Scraped from <200 https://international.sindonews.com/>\n",
            "{'Kategori': 'Eropa', 'Tanggal': 'Rabu, 15 Juni 2022 - 05:43 WIB', 'Judul': 'Rusia Kuasai 80% Kota Severodonetsk dan Potong Jalur Pelarian', 'Deskripsi': 'Pasukan Rusia telah menguasai sekitar 80% kota Severodonetsk di timur Ukraina yang diperebutkan dengan sengit dan telah menghancurkan ketiga jembatan yang menuju ke sana.'}\n",
            "2022-06-15 21:00:22 [scrapy.core.engine] INFO: Closing spider (finished)\n",
            "2022-06-15 21:00:22 [scrapy.extensions.feedexport] INFO: Stored csv feed (33 items) in: internasional.csv\n",
            "2022-06-15 21:00:22 [scrapy.statscollectors] INFO: Dumping Scrapy stats:\n",
            "{'downloader/request_bytes': 467,\n",
            " 'downloader/request_count': 2,\n",
            " 'downloader/request_method_count/GET': 2,\n",
            " 'downloader/response_bytes': 25098,\n",
            " 'downloader/response_count': 2,\n",
            " 'downloader/response_status_count/200': 1,\n",
            " 'downloader/response_status_count/301': 1,\n",
            " 'elapsed_time_seconds': 1.111127,\n",
            " 'feedexport/success_count/FileFeedStorage': 1,\n",
            " 'finish_reason': 'finished',\n",
            " 'finish_time': datetime.datetime(2022, 6, 15, 21, 0, 22, 34880),\n",
            " 'httpcompression/response_bytes': 109516,\n",
            " 'httpcompression/response_count': 1,\n",
            " 'item_scraped_count': 33,\n",
            " 'log_count/DEBUG': 46,\n",
            " 'log_count/INFO': 11,\n",
            " 'memusage/max': 131842048,\n",
            " 'memusage/startup': 131842048,\n",
            " 'response_received_count': 1,\n",
            " 'scheduler/dequeued': 2,\n",
            " 'scheduler/dequeued/memory': 2,\n",
            " 'scheduler/enqueued': 2,\n",
            " 'scheduler/enqueued/memory': 2,\n",
            " 'start_time': datetime.datetime(2022, 6, 15, 21, 0, 20, 923753)}\n",
            "2022-06-15 21:00:22 [scrapy.core.engine] INFO: Spider closed (finished)\n"
          ]
        }
      ]
    },
    {
      "cell_type": "markdown",
      "source": [
        "Import Library"
      ],
      "metadata": {
        "id": "V3r8tjSGPNi4"
      }
    },
    {
      "cell_type": "code",
      "source": [
        "!pip install numpy\n",
        "!pip install pandas\n",
        "!pip install nltk\n",
        "!pip install swifter\n",
        "!pip install sastrawi\n",
        "!pip install Stemmer\n",
        "!pip install sklearn\n",
        "!pip install matplotlib\n",
        "!pip install seaborn"
      ],
      "metadata": {
        "id": "h6HLpfaGf_OY",
        "colab": {
          "base_uri": "https://localhost:8080/"
        },
        "outputId": "3e6adf31-2d9c-4c19-ea5e-5f20f3333a91"
      },
      "execution_count": null,
      "outputs": [
        {
          "output_type": "stream",
          "name": "stdout",
          "text": [
            "Looking in indexes: https://pypi.org/simple, https://us-python.pkg.dev/colab-wheels/public/simple/\n",
            "Requirement already satisfied: numpy in /usr/local/lib/python3.7/dist-packages (1.21.6)\n",
            "Looking in indexes: https://pypi.org/simple, https://us-python.pkg.dev/colab-wheels/public/simple/\n",
            "Requirement already satisfied: pandas in /usr/local/lib/python3.7/dist-packages (1.3.5)\n",
            "Requirement already satisfied: pytz>=2017.3 in /usr/local/lib/python3.7/dist-packages (from pandas) (2022.1)\n",
            "Requirement already satisfied: python-dateutil>=2.7.3 in /usr/local/lib/python3.7/dist-packages (from pandas) (2.8.2)\n",
            "Requirement already satisfied: numpy>=1.17.3 in /usr/local/lib/python3.7/dist-packages (from pandas) (1.21.6)\n",
            "Requirement already satisfied: six>=1.5 in /usr/local/lib/python3.7/dist-packages (from python-dateutil>=2.7.3->pandas) (1.15.0)\n",
            "Looking in indexes: https://pypi.org/simple, https://us-python.pkg.dev/colab-wheels/public/simple/\n",
            "Requirement already satisfied: nltk in /usr/local/lib/python3.7/dist-packages (3.7)\n",
            "Requirement already satisfied: joblib in /usr/local/lib/python3.7/dist-packages (from nltk) (1.1.0)\n",
            "Requirement already satisfied: click in /usr/local/lib/python3.7/dist-packages (from nltk) (7.1.2)\n",
            "Requirement already satisfied: tqdm in /usr/local/lib/python3.7/dist-packages (from nltk) (4.64.0)\n",
            "Requirement already satisfied: regex>=2021.8.3 in /usr/local/lib/python3.7/dist-packages (from nltk) (2022.6.2)\n",
            "Looking in indexes: https://pypi.org/simple, https://us-python.pkg.dev/colab-wheels/public/simple/\n",
            "Requirement already satisfied: swifter in /usr/local/lib/python3.7/dist-packages (1.1.3)\n",
            "Requirement already satisfied: psutil>=5.6.6 in /usr/local/lib/python3.7/dist-packages (from swifter) (5.9.1)\n",
            "Requirement already satisfied: bleach>=3.1.1 in /usr/local/lib/python3.7/dist-packages (from swifter) (5.0.0)\n",
            "Requirement already satisfied: tqdm>=4.33.0 in /usr/local/lib/python3.7/dist-packages (from swifter) (4.64.0)\n",
            "Requirement already satisfied: dask[dataframe]>=2.10.0 in /usr/local/lib/python3.7/dist-packages (from swifter) (2.12.0)\n",
            "Requirement already satisfied: parso>0.4.0 in /usr/local/lib/python3.7/dist-packages (from swifter) (0.8.3)\n",
            "Requirement already satisfied: pandas>=1.0.0 in /usr/local/lib/python3.7/dist-packages (from swifter) (1.3.5)\n",
            "Requirement already satisfied: cloudpickle>=0.2.2 in /usr/local/lib/python3.7/dist-packages (from swifter) (1.3.0)\n",
            "Requirement already satisfied: ipywidgets>=7.0.0 in /usr/local/lib/python3.7/dist-packages (from swifter) (7.7.0)\n",
            "Requirement already satisfied: six>=1.9.0 in /usr/local/lib/python3.7/dist-packages (from bleach>=3.1.1->swifter) (1.15.0)\n",
            "Requirement already satisfied: webencodings in /usr/local/lib/python3.7/dist-packages (from bleach>=3.1.1->swifter) (0.5.1)\n",
            "Requirement already satisfied: fsspec>=0.6.0 in /usr/local/lib/python3.7/dist-packages (from dask[dataframe]>=2.10.0->swifter) (2022.5.0)\n",
            "Requirement already satisfied: toolz>=0.7.3 in /usr/local/lib/python3.7/dist-packages (from dask[dataframe]>=2.10.0->swifter) (0.11.2)\n",
            "Requirement already satisfied: partd>=0.3.10 in /usr/local/lib/python3.7/dist-packages (from dask[dataframe]>=2.10.0->swifter) (1.2.0)\n",
            "Requirement already satisfied: numpy>=1.13.0 in /usr/local/lib/python3.7/dist-packages (from dask[dataframe]>=2.10.0->swifter) (1.21.6)\n",
            "Requirement already satisfied: nbformat>=4.2.0 in /usr/local/lib/python3.7/dist-packages (from ipywidgets>=7.0.0->swifter) (5.4.0)\n",
            "Requirement already satisfied: ipython-genutils~=0.2.0 in /usr/local/lib/python3.7/dist-packages (from ipywidgets>=7.0.0->swifter) (0.2.0)\n",
            "Requirement already satisfied: widgetsnbextension~=3.6.0 in /usr/local/lib/python3.7/dist-packages (from ipywidgets>=7.0.0->swifter) (3.6.0)\n",
            "Requirement already satisfied: jupyterlab-widgets>=1.0.0 in /usr/local/lib/python3.7/dist-packages (from ipywidgets>=7.0.0->swifter) (1.1.0)\n",
            "Requirement already satisfied: ipython>=4.0.0 in /usr/local/lib/python3.7/dist-packages (from ipywidgets>=7.0.0->swifter) (5.5.0)\n",
            "Requirement already satisfied: ipykernel>=4.5.1 in /usr/local/lib/python3.7/dist-packages (from ipywidgets>=7.0.0->swifter) (4.10.1)\n",
            "Requirement already satisfied: traitlets>=4.3.1 in /usr/local/lib/python3.7/dist-packages (from ipywidgets>=7.0.0->swifter) (5.1.1)\n",
            "Requirement already satisfied: tornado>=4.0 in /usr/local/lib/python3.7/dist-packages (from ipykernel>=4.5.1->ipywidgets>=7.0.0->swifter) (5.1.1)\n",
            "Requirement already satisfied: jupyter-client in /usr/local/lib/python3.7/dist-packages (from ipykernel>=4.5.1->ipywidgets>=7.0.0->swifter) (5.3.5)\n",
            "Requirement already satisfied: pickleshare in /usr/local/lib/python3.7/dist-packages (from ipython>=4.0.0->ipywidgets>=7.0.0->swifter) (0.7.5)\n",
            "Requirement already satisfied: setuptools>=18.5 in /usr/local/lib/python3.7/dist-packages (from ipython>=4.0.0->ipywidgets>=7.0.0->swifter) (57.4.0)\n",
            "Requirement already satisfied: simplegeneric>0.8 in /usr/local/lib/python3.7/dist-packages (from ipython>=4.0.0->ipywidgets>=7.0.0->swifter) (0.8.1)\n",
            "Requirement already satisfied: pygments in /usr/local/lib/python3.7/dist-packages (from ipython>=4.0.0->ipywidgets>=7.0.0->swifter) (2.6.1)\n",
            "Requirement already satisfied: decorator in /usr/local/lib/python3.7/dist-packages (from ipython>=4.0.0->ipywidgets>=7.0.0->swifter) (4.4.2)\n",
            "Requirement already satisfied: pexpect in /usr/local/lib/python3.7/dist-packages (from ipython>=4.0.0->ipywidgets>=7.0.0->swifter) (4.8.0)\n",
            "Requirement already satisfied: prompt-toolkit<2.0.0,>=1.0.4 in /usr/local/lib/python3.7/dist-packages (from ipython>=4.0.0->ipywidgets>=7.0.0->swifter) (1.0.18)\n",
            "Requirement already satisfied: jupyter-core in /usr/local/lib/python3.7/dist-packages (from nbformat>=4.2.0->ipywidgets>=7.0.0->swifter) (4.10.0)\n",
            "Requirement already satisfied: jsonschema>=2.6 in /usr/local/lib/python3.7/dist-packages (from nbformat>=4.2.0->ipywidgets>=7.0.0->swifter) (4.3.3)\n",
            "Requirement already satisfied: fastjsonschema in /usr/local/lib/python3.7/dist-packages (from nbformat>=4.2.0->ipywidgets>=7.0.0->swifter) (2.15.3)\n",
            "Requirement already satisfied: attrs>=17.4.0 in /usr/local/lib/python3.7/dist-packages (from jsonschema>=2.6->nbformat>=4.2.0->ipywidgets>=7.0.0->swifter) (21.4.0)\n",
            "Requirement already satisfied: importlib-resources>=1.4.0 in /usr/local/lib/python3.7/dist-packages (from jsonschema>=2.6->nbformat>=4.2.0->ipywidgets>=7.0.0->swifter) (5.7.1)\n",
            "Requirement already satisfied: pyrsistent!=0.17.0,!=0.17.1,!=0.17.2,>=0.14.0 in /usr/local/lib/python3.7/dist-packages (from jsonschema>=2.6->nbformat>=4.2.0->ipywidgets>=7.0.0->swifter) (0.18.1)\n",
            "Requirement already satisfied: importlib-metadata in /usr/local/lib/python3.7/dist-packages (from jsonschema>=2.6->nbformat>=4.2.0->ipywidgets>=7.0.0->swifter) (4.11.4)\n",
            "Requirement already satisfied: typing-extensions in /usr/local/lib/python3.7/dist-packages (from jsonschema>=2.6->nbformat>=4.2.0->ipywidgets>=7.0.0->swifter) (4.2.0)\n",
            "Requirement already satisfied: zipp>=3.1.0 in /usr/local/lib/python3.7/dist-packages (from importlib-resources>=1.4.0->jsonschema>=2.6->nbformat>=4.2.0->ipywidgets>=7.0.0->swifter) (3.8.0)\n",
            "Requirement already satisfied: python-dateutil>=2.7.3 in /usr/local/lib/python3.7/dist-packages (from pandas>=1.0.0->swifter) (2.8.2)\n",
            "Requirement already satisfied: pytz>=2017.3 in /usr/local/lib/python3.7/dist-packages (from pandas>=1.0.0->swifter) (2022.1)\n",
            "Requirement already satisfied: locket in /usr/local/lib/python3.7/dist-packages (from partd>=0.3.10->dask[dataframe]>=2.10.0->swifter) (1.0.0)\n",
            "Requirement already satisfied: wcwidth in /usr/local/lib/python3.7/dist-packages (from prompt-toolkit<2.0.0,>=1.0.4->ipython>=4.0.0->ipywidgets>=7.0.0->swifter) (0.2.5)\n",
            "Requirement already satisfied: notebook>=4.4.1 in /usr/local/lib/python3.7/dist-packages (from widgetsnbextension~=3.6.0->ipywidgets>=7.0.0->swifter) (5.3.1)\n",
            "Requirement already satisfied: terminado>=0.8.1 in /usr/local/lib/python3.7/dist-packages (from notebook>=4.4.1->widgetsnbextension~=3.6.0->ipywidgets>=7.0.0->swifter) (0.13.3)\n",
            "Requirement already satisfied: jinja2 in /usr/local/lib/python3.7/dist-packages (from notebook>=4.4.1->widgetsnbextension~=3.6.0->ipywidgets>=7.0.0->swifter) (2.11.3)\n",
            "Requirement already satisfied: Send2Trash in /usr/local/lib/python3.7/dist-packages (from notebook>=4.4.1->widgetsnbextension~=3.6.0->ipywidgets>=7.0.0->swifter) (1.8.0)\n",
            "Requirement already satisfied: nbconvert in /usr/local/lib/python3.7/dist-packages (from notebook>=4.4.1->widgetsnbextension~=3.6.0->ipywidgets>=7.0.0->swifter) (5.6.1)\n",
            "Requirement already satisfied: pyzmq>=13 in /usr/local/lib/python3.7/dist-packages (from jupyter-client->ipykernel>=4.5.1->ipywidgets>=7.0.0->swifter) (23.1.0)\n",
            "Requirement already satisfied: ptyprocess in /usr/local/lib/python3.7/dist-packages (from terminado>=0.8.1->notebook>=4.4.1->widgetsnbextension~=3.6.0->ipywidgets>=7.0.0->swifter) (0.7.0)\n",
            "Requirement already satisfied: MarkupSafe>=0.23 in /usr/local/lib/python3.7/dist-packages (from jinja2->notebook>=4.4.1->widgetsnbextension~=3.6.0->ipywidgets>=7.0.0->swifter) (2.0.1)\n",
            "Requirement already satisfied: entrypoints>=0.2.2 in /usr/local/lib/python3.7/dist-packages (from nbconvert->notebook>=4.4.1->widgetsnbextension~=3.6.0->ipywidgets>=7.0.0->swifter) (0.4)\n",
            "Requirement already satisfied: testpath in /usr/local/lib/python3.7/dist-packages (from nbconvert->notebook>=4.4.1->widgetsnbextension~=3.6.0->ipywidgets>=7.0.0->swifter) (0.6.0)\n",
            "Requirement already satisfied: pandocfilters>=1.4.1 in /usr/local/lib/python3.7/dist-packages (from nbconvert->notebook>=4.4.1->widgetsnbextension~=3.6.0->ipywidgets>=7.0.0->swifter) (1.5.0)\n",
            "Requirement already satisfied: mistune<2,>=0.8.1 in /usr/local/lib/python3.7/dist-packages (from nbconvert->notebook>=4.4.1->widgetsnbextension~=3.6.0->ipywidgets>=7.0.0->swifter) (0.8.4)\n",
            "Requirement already satisfied: defusedxml in /usr/local/lib/python3.7/dist-packages (from nbconvert->notebook>=4.4.1->widgetsnbextension~=3.6.0->ipywidgets>=7.0.0->swifter) (0.7.1)\n",
            "Looking in indexes: https://pypi.org/simple, https://us-python.pkg.dev/colab-wheels/public/simple/\n",
            "Collecting sastrawi\n",
            "  Downloading Sastrawi-1.0.1-py2.py3-none-any.whl (209 kB)\n",
            "\u001b[K     |████████████████████████████████| 209 kB 13.3 MB/s \n",
            "\u001b[?25hInstalling collected packages: sastrawi\n",
            "Successfully installed sastrawi-1.0.1\n",
            "Looking in indexes: https://pypi.org/simple, https://us-python.pkg.dev/colab-wheels/public/simple/\n",
            "\u001b[31mERROR: Could not find a version that satisfies the requirement Stemmer (from versions: none)\u001b[0m\n",
            "\u001b[31mERROR: No matching distribution found for Stemmer\u001b[0m\n",
            "Looking in indexes: https://pypi.org/simple, https://us-python.pkg.dev/colab-wheels/public/simple/\n",
            "Requirement already satisfied: sklearn in /usr/local/lib/python3.7/dist-packages (0.0)\n",
            "Requirement already satisfied: scikit-learn in /usr/local/lib/python3.7/dist-packages (from sklearn) (1.0.2)\n",
            "Requirement already satisfied: joblib>=0.11 in /usr/local/lib/python3.7/dist-packages (from scikit-learn->sklearn) (1.1.0)\n",
            "Requirement already satisfied: scipy>=1.1.0 in /usr/local/lib/python3.7/dist-packages (from scikit-learn->sklearn) (1.4.1)\n",
            "Requirement already satisfied: threadpoolctl>=2.0.0 in /usr/local/lib/python3.7/dist-packages (from scikit-learn->sklearn) (3.1.0)\n",
            "Requirement already satisfied: numpy>=1.14.6 in /usr/local/lib/python3.7/dist-packages (from scikit-learn->sklearn) (1.21.6)\n",
            "Looking in indexes: https://pypi.org/simple, https://us-python.pkg.dev/colab-wheels/public/simple/\n",
            "Requirement already satisfied: matplotlib in /usr/local/lib/python3.7/dist-packages (3.2.2)\n",
            "Requirement already satisfied: numpy>=1.11 in /usr/local/lib/python3.7/dist-packages (from matplotlib) (1.21.6)\n",
            "Requirement already satisfied: kiwisolver>=1.0.1 in /usr/local/lib/python3.7/dist-packages (from matplotlib) (1.4.2)\n",
            "Requirement already satisfied: pyparsing!=2.0.4,!=2.1.2,!=2.1.6,>=2.0.1 in /usr/local/lib/python3.7/dist-packages (from matplotlib) (3.0.9)\n",
            "Requirement already satisfied: python-dateutil>=2.1 in /usr/local/lib/python3.7/dist-packages (from matplotlib) (2.8.2)\n",
            "Requirement already satisfied: cycler>=0.10 in /usr/local/lib/python3.7/dist-packages (from matplotlib) (0.11.0)\n",
            "Requirement already satisfied: typing-extensions in /usr/local/lib/python3.7/dist-packages (from kiwisolver>=1.0.1->matplotlib) (4.2.0)\n",
            "Requirement already satisfied: six>=1.5 in /usr/local/lib/python3.7/dist-packages (from python-dateutil>=2.1->matplotlib) (1.15.0)\n",
            "Looking in indexes: https://pypi.org/simple, https://us-python.pkg.dev/colab-wheels/public/simple/\n",
            "Requirement already satisfied: seaborn in /usr/local/lib/python3.7/dist-packages (0.11.2)\n",
            "Requirement already satisfied: matplotlib>=2.2 in /usr/local/lib/python3.7/dist-packages (from seaborn) (3.2.2)\n",
            "Requirement already satisfied: numpy>=1.15 in /usr/local/lib/python3.7/dist-packages (from seaborn) (1.21.6)\n",
            "Requirement already satisfied: pandas>=0.23 in /usr/local/lib/python3.7/dist-packages (from seaborn) (1.3.5)\n",
            "Requirement already satisfied: scipy>=1.0 in /usr/local/lib/python3.7/dist-packages (from seaborn) (1.4.1)\n",
            "Requirement already satisfied: kiwisolver>=1.0.1 in /usr/local/lib/python3.7/dist-packages (from matplotlib>=2.2->seaborn) (1.4.2)\n",
            "Requirement already satisfied: cycler>=0.10 in /usr/local/lib/python3.7/dist-packages (from matplotlib>=2.2->seaborn) (0.11.0)\n",
            "Requirement already satisfied: python-dateutil>=2.1 in /usr/local/lib/python3.7/dist-packages (from matplotlib>=2.2->seaborn) (2.8.2)\n",
            "Requirement already satisfied: pyparsing!=2.0.4,!=2.1.2,!=2.1.6,>=2.0.1 in /usr/local/lib/python3.7/dist-packages (from matplotlib>=2.2->seaborn) (3.0.9)\n",
            "Requirement already satisfied: typing-extensions in /usr/local/lib/python3.7/dist-packages (from kiwisolver>=1.0.1->matplotlib>=2.2->seaborn) (4.2.0)\n",
            "Requirement already satisfied: pytz>=2017.3 in /usr/local/lib/python3.7/dist-packages (from pandas>=0.23->seaborn) (2022.1)\n",
            "Requirement already satisfied: six>=1.5 in /usr/local/lib/python3.7/dist-packages (from python-dateutil>=2.1->matplotlib>=2.2->seaborn) (1.15.0)\n"
          ]
        }
      ]
    },
    {
      "cell_type": "code",
      "source": [
        "import nltk\n",
        "nltk.download('stopwords')"
      ],
      "metadata": {
        "id": "kf9tOB49hdrG",
        "colab": {
          "base_uri": "https://localhost:8080/"
        },
        "outputId": "e90bcdcd-f95e-4ce5-a2de-47b2a632e16e"
      },
      "execution_count": null,
      "outputs": [
        {
          "output_type": "stream",
          "name": "stderr",
          "text": [
            "[nltk_data] Downloading package stopwords to /root/nltk_data...\n",
            "[nltk_data]   Package stopwords is already up-to-date!\n"
          ]
        },
        {
          "output_type": "execute_result",
          "data": {
            "text/plain": [
              "True"
            ]
          },
          "metadata": {},
          "execution_count": 32
        }
      ]
    },
    {
      "cell_type": "markdown",
      "source": [
        "Import Modul"
      ],
      "metadata": {
        "id": "MG9axbqMPTNd"
      }
    },
    {
      "cell_type": "code",
      "source": [
        "# data visualisation and manipulation\n",
        "import numpy as np\n",
        "import pandas as pd\n",
        "import matplotlib.pyplot as plt\n",
        "from matplotlib import style\n",
        "import seaborn as sns\n",
        "#configure\n",
        "# sets matplotlib to inline and displays graphs below the corressponding cell.\n",
        "%matplotlib inline  \n",
        "style.use('fivethirtyeight')\n",
        "sns.set(style='whitegrid',color_codes=True)\n",
        "\n",
        "#import nltk\n",
        "import nltk\n",
        "from nltk.corpus import stopwords\n",
        "from nltk.tokenize import word_tokenize,sent_tokenize\n",
        "\n",
        "#preprocessing\n",
        "from nltk.corpus import stopwords  #stopwords\n",
        "from nltk import word_tokenize,sent_tokenize # tokenizing\n",
        "from nltk.stem import PorterStemmer,LancasterStemmer  # using the Porter Stemmer and Lancaster Stemmer and others\n",
        "from nltk.stem.snowball import SnowballStemmer\n",
        "from nltk.stem import WordNetLemmatizer  # lammatizer from WordNet\n",
        "\n",
        "# for named entity recognition (NER)\n",
        "from nltk import ne_chunk\n",
        "\n",
        "# vectorizers for creating the document-term-matrix (DTM)\n",
        "from sklearn.feature_extraction.text import TfidfVectorizer,CountVectorizer\n",
        "\n",
        "#stop-words\n",
        "stop_words=set(nltk.corpus.stopwords.words('english'))"
      ],
      "metadata": {
        "id": "wOxlaxPbgvRq",
        "colab": {
          "base_uri": "https://localhost:8080/"
        },
        "outputId": "16fac6b9-5573-4186-d48f-ad8265fc0e8c"
      },
      "execution_count": null,
      "outputs": [
        {
          "output_type": "stream",
          "name": "stderr",
          "text": [
            "2022-06-15 21:05:35 [matplotlib.pyplot] DEBUG: Loaded backend module://ipykernel.pylab.backend_inline version unknown.\n"
          ]
        }
      ]
    },
    {
      "cell_type": "markdown",
      "source": [
        "Melakukan Load Data"
      ],
      "metadata": {
        "id": "OExeGvk7PcMk"
      }
    },
    {
      "cell_type": "code",
      "source": [
        "df=pd.read_csv('internasional.csv')\n",
        "df.head()"
      ],
      "metadata": {
        "id": "KAJ56dqqh_5a",
        "colab": {
          "base_uri": "https://localhost:8080/",
          "height": 206
        },
        "outputId": "c9db24a6-4a1f-484e-ba35-1aa20e792f90"
      },
      "execution_count": null,
      "outputs": [
        {
          "output_type": "execute_result",
          "data": {
            "text/plain": [
              "  Kategori                          Tanggal  \\\n",
              "0    Eropa  Kamis, 16 Juni 2022 - 03:15 WIB   \n",
              "1    Eropa  Kamis, 16 Juni 2022 - 02:25 WIB   \n",
              "2    Eropa  Kamis, 16 Juni 2022 - 02:13 WIB   \n",
              "3    Video   Sabtu, 28 Mei 2022 - 17:39 WIB   \n",
              "4    Eropa  Kamis, 16 Juni 2022 - 00:58 WIB   \n",
              "\n",
              "                                               Judul  \\\n",
              "0  Ramzan Kadyrov Klaim Rebut Kota Komyshuvakha d...   \n",
              "1  Milisi Donbass Tuding Pasukan Ukraina Gagalkan...   \n",
              "2  Serang Bandara Suriah, Rusia Minta Klarifikasi...   \n",
              "3  Partai Perindo: Mars Partai Perindo dengan QR ...   \n",
              "4  Suami Tak Ada Kabar, Istri Prajurit Rusia Turu...   \n",
              "\n",
              "                                           Deskripsi  \n",
              "0  Pemimpin Chechnya, Ramzan Kadyrov, mengatakan ...  \n",
              "1  Tentara Ukraina yang bersembunyi di pabrik kim...  \n",
              "2  Rusia menyatakan keprihatinan serius kepada Du...  \n",
              "3  Lahir dari semangat untuk mengembalikan cita-c...  \n",
              "4  Istri tentara yang berperang untuk Rusia di wi...  "
            ],
            "text/html": [
              "\n",
              "  <div id=\"df-bbd83e30-b54c-428b-bafe-fe9a8066cbc1\">\n",
              "    <div class=\"colab-df-container\">\n",
              "      <div>\n",
              "<style scoped>\n",
              "    .dataframe tbody tr th:only-of-type {\n",
              "        vertical-align: middle;\n",
              "    }\n",
              "\n",
              "    .dataframe tbody tr th {\n",
              "        vertical-align: top;\n",
              "    }\n",
              "\n",
              "    .dataframe thead th {\n",
              "        text-align: right;\n",
              "    }\n",
              "</style>\n",
              "<table border=\"1\" class=\"dataframe\">\n",
              "  <thead>\n",
              "    <tr style=\"text-align: right;\">\n",
              "      <th></th>\n",
              "      <th>Kategori</th>\n",
              "      <th>Tanggal</th>\n",
              "      <th>Judul</th>\n",
              "      <th>Deskripsi</th>\n",
              "    </tr>\n",
              "  </thead>\n",
              "  <tbody>\n",
              "    <tr>\n",
              "      <th>0</th>\n",
              "      <td>Eropa</td>\n",
              "      <td>Kamis, 16 Juni 2022 - 03:15 WIB</td>\n",
              "      <td>Ramzan Kadyrov Klaim Rebut Kota Komyshuvakha d...</td>\n",
              "      <td>Pemimpin Chechnya, Ramzan Kadyrov, mengatakan ...</td>\n",
              "    </tr>\n",
              "    <tr>\n",
              "      <th>1</th>\n",
              "      <td>Eropa</td>\n",
              "      <td>Kamis, 16 Juni 2022 - 02:25 WIB</td>\n",
              "      <td>Milisi Donbass Tuding Pasukan Ukraina Gagalkan...</td>\n",
              "      <td>Tentara Ukraina yang bersembunyi di pabrik kim...</td>\n",
              "    </tr>\n",
              "    <tr>\n",
              "      <th>2</th>\n",
              "      <td>Eropa</td>\n",
              "      <td>Kamis, 16 Juni 2022 - 02:13 WIB</td>\n",
              "      <td>Serang Bandara Suriah, Rusia Minta Klarifikasi...</td>\n",
              "      <td>Rusia menyatakan keprihatinan serius kepada Du...</td>\n",
              "    </tr>\n",
              "    <tr>\n",
              "      <th>3</th>\n",
              "      <td>Video</td>\n",
              "      <td>Sabtu, 28 Mei 2022 - 17:39 WIB</td>\n",
              "      <td>Partai Perindo: Mars Partai Perindo dengan QR ...</td>\n",
              "      <td>Lahir dari semangat untuk mengembalikan cita-c...</td>\n",
              "    </tr>\n",
              "    <tr>\n",
              "      <th>4</th>\n",
              "      <td>Eropa</td>\n",
              "      <td>Kamis, 16 Juni 2022 - 00:58 WIB</td>\n",
              "      <td>Suami Tak Ada Kabar, Istri Prajurit Rusia Turu...</td>\n",
              "      <td>Istri tentara yang berperang untuk Rusia di wi...</td>\n",
              "    </tr>\n",
              "  </tbody>\n",
              "</table>\n",
              "</div>\n",
              "      <button class=\"colab-df-convert\" onclick=\"convertToInteractive('df-bbd83e30-b54c-428b-bafe-fe9a8066cbc1')\"\n",
              "              title=\"Convert this dataframe to an interactive table.\"\n",
              "              style=\"display:none;\">\n",
              "        \n",
              "  <svg xmlns=\"http://www.w3.org/2000/svg\" height=\"24px\"viewBox=\"0 0 24 24\"\n",
              "       width=\"24px\">\n",
              "    <path d=\"M0 0h24v24H0V0z\" fill=\"none\"/>\n",
              "    <path d=\"M18.56 5.44l.94 2.06.94-2.06 2.06-.94-2.06-.94-.94-2.06-.94 2.06-2.06.94zm-11 1L8.5 8.5l.94-2.06 2.06-.94-2.06-.94L8.5 2.5l-.94 2.06-2.06.94zm10 10l.94 2.06.94-2.06 2.06-.94-2.06-.94-.94-2.06-.94 2.06-2.06.94z\"/><path d=\"M17.41 7.96l-1.37-1.37c-.4-.4-.92-.59-1.43-.59-.52 0-1.04.2-1.43.59L10.3 9.45l-7.72 7.72c-.78.78-.78 2.05 0 2.83L4 21.41c.39.39.9.59 1.41.59.51 0 1.02-.2 1.41-.59l7.78-7.78 2.81-2.81c.8-.78.8-2.07 0-2.86zM5.41 20L4 18.59l7.72-7.72 1.47 1.35L5.41 20z\"/>\n",
              "  </svg>\n",
              "      </button>\n",
              "      \n",
              "  <style>\n",
              "    .colab-df-container {\n",
              "      display:flex;\n",
              "      flex-wrap:wrap;\n",
              "      gap: 12px;\n",
              "    }\n",
              "\n",
              "    .colab-df-convert {\n",
              "      background-color: #E8F0FE;\n",
              "      border: none;\n",
              "      border-radius: 50%;\n",
              "      cursor: pointer;\n",
              "      display: none;\n",
              "      fill: #1967D2;\n",
              "      height: 32px;\n",
              "      padding: 0 0 0 0;\n",
              "      width: 32px;\n",
              "    }\n",
              "\n",
              "    .colab-df-convert:hover {\n",
              "      background-color: #E2EBFA;\n",
              "      box-shadow: 0px 1px 2px rgba(60, 64, 67, 0.3), 0px 1px 3px 1px rgba(60, 64, 67, 0.15);\n",
              "      fill: #174EA6;\n",
              "    }\n",
              "\n",
              "    [theme=dark] .colab-df-convert {\n",
              "      background-color: #3B4455;\n",
              "      fill: #D2E3FC;\n",
              "    }\n",
              "\n",
              "    [theme=dark] .colab-df-convert:hover {\n",
              "      background-color: #434B5C;\n",
              "      box-shadow: 0px 1px 3px 1px rgba(0, 0, 0, 0.15);\n",
              "      filter: drop-shadow(0px 1px 2px rgba(0, 0, 0, 0.3));\n",
              "      fill: #FFFFFF;\n",
              "    }\n",
              "  </style>\n",
              "\n",
              "      <script>\n",
              "        const buttonEl =\n",
              "          document.querySelector('#df-bbd83e30-b54c-428b-bafe-fe9a8066cbc1 button.colab-df-convert');\n",
              "        buttonEl.style.display =\n",
              "          google.colab.kernel.accessAllowed ? 'block' : 'none';\n",
              "\n",
              "        async function convertToInteractive(key) {\n",
              "          const element = document.querySelector('#df-bbd83e30-b54c-428b-bafe-fe9a8066cbc1');\n",
              "          const dataTable =\n",
              "            await google.colab.kernel.invokeFunction('convertToInteractive',\n",
              "                                                     [key], {});\n",
              "          if (!dataTable) return;\n",
              "\n",
              "          const docLinkHtml = 'Like what you see? Visit the ' +\n",
              "            '<a target=\"_blank\" href=https://colab.research.google.com/notebooks/data_table.ipynb>data table notebook</a>'\n",
              "            + ' to learn more about interactive tables.';\n",
              "          element.innerHTML = '';\n",
              "          dataTable['output_type'] = 'display_data';\n",
              "          await google.colab.output.renderOutput(dataTable, element);\n",
              "          const docLink = document.createElement('div');\n",
              "          docLink.innerHTML = docLinkHtml;\n",
              "          element.appendChild(docLink);\n",
              "        }\n",
              "      </script>\n",
              "    </div>\n",
              "  </div>\n",
              "  "
            ]
          },
          "metadata": {},
          "execution_count": 44
        }
      ]
    },
    {
      "cell_type": "markdown",
      "source": [
        "Menghapus kolom 'Kategori', 'Tanggal', 'Judul', karena tidak diperlukan"
      ],
      "metadata": {
        "id": "kXZZQ02qPfjx"
      }
    },
    {
      "cell_type": "code",
      "source": [
        "#drop the publish date\n",
        "df.drop(['Kategori'],axis=1,inplace=True)\n",
        "df.drop(['Tanggal'],axis=1,inplace=True)\n",
        "df.drop(['Judul'],axis=1,inplace=True)"
      ],
      "metadata": {
        "id": "T1qkGu1CMuYo"
      },
      "execution_count": null,
      "outputs": []
    },
    {
      "cell_type": "code",
      "source": [
        "df.head()"
      ],
      "metadata": {
        "colab": {
          "base_uri": "https://localhost:8080/",
          "height": 206
        },
        "id": "dcHrQb4QNUBO",
        "outputId": "0e5b02a1-3559-4e0e-fb90-49d5942746ad"
      },
      "execution_count": null,
      "outputs": [
        {
          "output_type": "execute_result",
          "data": {
            "text/plain": [
              "                                           Deskripsi\n",
              "0  Pemimpin Chechnya, Ramzan Kadyrov, mengatakan ...\n",
              "1  Tentara Ukraina yang bersembunyi di pabrik kim...\n",
              "2  Rusia menyatakan keprihatinan serius kepada Du...\n",
              "3  Lahir dari semangat untuk mengembalikan cita-c...\n",
              "4  Istri tentara yang berperang untuk Rusia di wi..."
            ],
            "text/html": [
              "\n",
              "  <div id=\"df-cb051258-8a7b-4264-b6e4-5a5030b0afe0\">\n",
              "    <div class=\"colab-df-container\">\n",
              "      <div>\n",
              "<style scoped>\n",
              "    .dataframe tbody tr th:only-of-type {\n",
              "        vertical-align: middle;\n",
              "    }\n",
              "\n",
              "    .dataframe tbody tr th {\n",
              "        vertical-align: top;\n",
              "    }\n",
              "\n",
              "    .dataframe thead th {\n",
              "        text-align: right;\n",
              "    }\n",
              "</style>\n",
              "<table border=\"1\" class=\"dataframe\">\n",
              "  <thead>\n",
              "    <tr style=\"text-align: right;\">\n",
              "      <th></th>\n",
              "      <th>Deskripsi</th>\n",
              "    </tr>\n",
              "  </thead>\n",
              "  <tbody>\n",
              "    <tr>\n",
              "      <th>0</th>\n",
              "      <td>Pemimpin Chechnya, Ramzan Kadyrov, mengatakan ...</td>\n",
              "    </tr>\n",
              "    <tr>\n",
              "      <th>1</th>\n",
              "      <td>Tentara Ukraina yang bersembunyi di pabrik kim...</td>\n",
              "    </tr>\n",
              "    <tr>\n",
              "      <th>2</th>\n",
              "      <td>Rusia menyatakan keprihatinan serius kepada Du...</td>\n",
              "    </tr>\n",
              "    <tr>\n",
              "      <th>3</th>\n",
              "      <td>Lahir dari semangat untuk mengembalikan cita-c...</td>\n",
              "    </tr>\n",
              "    <tr>\n",
              "      <th>4</th>\n",
              "      <td>Istri tentara yang berperang untuk Rusia di wi...</td>\n",
              "    </tr>\n",
              "  </tbody>\n",
              "</table>\n",
              "</div>\n",
              "      <button class=\"colab-df-convert\" onclick=\"convertToInteractive('df-cb051258-8a7b-4264-b6e4-5a5030b0afe0')\"\n",
              "              title=\"Convert this dataframe to an interactive table.\"\n",
              "              style=\"display:none;\">\n",
              "        \n",
              "  <svg xmlns=\"http://www.w3.org/2000/svg\" height=\"24px\"viewBox=\"0 0 24 24\"\n",
              "       width=\"24px\">\n",
              "    <path d=\"M0 0h24v24H0V0z\" fill=\"none\"/>\n",
              "    <path d=\"M18.56 5.44l.94 2.06.94-2.06 2.06-.94-2.06-.94-.94-2.06-.94 2.06-2.06.94zm-11 1L8.5 8.5l.94-2.06 2.06-.94-2.06-.94L8.5 2.5l-.94 2.06-2.06.94zm10 10l.94 2.06.94-2.06 2.06-.94-2.06-.94-.94-2.06-.94 2.06-2.06.94z\"/><path d=\"M17.41 7.96l-1.37-1.37c-.4-.4-.92-.59-1.43-.59-.52 0-1.04.2-1.43.59L10.3 9.45l-7.72 7.72c-.78.78-.78 2.05 0 2.83L4 21.41c.39.39.9.59 1.41.59.51 0 1.02-.2 1.41-.59l7.78-7.78 2.81-2.81c.8-.78.8-2.07 0-2.86zM5.41 20L4 18.59l7.72-7.72 1.47 1.35L5.41 20z\"/>\n",
              "  </svg>\n",
              "      </button>\n",
              "      \n",
              "  <style>\n",
              "    .colab-df-container {\n",
              "      display:flex;\n",
              "      flex-wrap:wrap;\n",
              "      gap: 12px;\n",
              "    }\n",
              "\n",
              "    .colab-df-convert {\n",
              "      background-color: #E8F0FE;\n",
              "      border: none;\n",
              "      border-radius: 50%;\n",
              "      cursor: pointer;\n",
              "      display: none;\n",
              "      fill: #1967D2;\n",
              "      height: 32px;\n",
              "      padding: 0 0 0 0;\n",
              "      width: 32px;\n",
              "    }\n",
              "\n",
              "    .colab-df-convert:hover {\n",
              "      background-color: #E2EBFA;\n",
              "      box-shadow: 0px 1px 2px rgba(60, 64, 67, 0.3), 0px 1px 3px 1px rgba(60, 64, 67, 0.15);\n",
              "      fill: #174EA6;\n",
              "    }\n",
              "\n",
              "    [theme=dark] .colab-df-convert {\n",
              "      background-color: #3B4455;\n",
              "      fill: #D2E3FC;\n",
              "    }\n",
              "\n",
              "    [theme=dark] .colab-df-convert:hover {\n",
              "      background-color: #434B5C;\n",
              "      box-shadow: 0px 1px 3px 1px rgba(0, 0, 0, 0.15);\n",
              "      filter: drop-shadow(0px 1px 2px rgba(0, 0, 0, 0.3));\n",
              "      fill: #FFFFFF;\n",
              "    }\n",
              "  </style>\n",
              "\n",
              "      <script>\n",
              "        const buttonEl =\n",
              "          document.querySelector('#df-cb051258-8a7b-4264-b6e4-5a5030b0afe0 button.colab-df-convert');\n",
              "        buttonEl.style.display =\n",
              "          google.colab.kernel.accessAllowed ? 'block' : 'none';\n",
              "\n",
              "        async function convertToInteractive(key) {\n",
              "          const element = document.querySelector('#df-cb051258-8a7b-4264-b6e4-5a5030b0afe0');\n",
              "          const dataTable =\n",
              "            await google.colab.kernel.invokeFunction('convertToInteractive',\n",
              "                                                     [key], {});\n",
              "          if (!dataTable) return;\n",
              "\n",
              "          const docLinkHtml = 'Like what you see? Visit the ' +\n",
              "            '<a target=\"_blank\" href=https://colab.research.google.com/notebooks/data_table.ipynb>data table notebook</a>'\n",
              "            + ' to learn more about interactive tables.';\n",
              "          element.innerHTML = '';\n",
              "          dataTable['output_type'] = 'display_data';\n",
              "          await google.colab.output.renderOutput(dataTable, element);\n",
              "          const docLink = document.createElement('div');\n",
              "          docLink.innerHTML = docLinkHtml;\n",
              "          element.appendChild(docLink);\n",
              "        }\n",
              "      </script>\n",
              "    </div>\n",
              "  </div>\n",
              "  "
            ]
          },
          "metadata": {},
          "execution_count": 46
        }
      ]
    },
    {
      "cell_type": "markdown",
      "source": [
        "**Data Cleaning & Pre-Processing**"
      ],
      "metadata": {
        "id": "oDoKymDmliuy"
      }
    },
    {
      "cell_type": "markdown",
      "source": [
        "Di sini saya telah melakukan pra-pengolahan data. Saya sudah menggunakan lemmatizer dan bisa juga menggunakan stemmer. Juga kata-kata berhenti telah digunakan bersama dengan kata-kata dengan panjang lebih pendek dari 3 karakter untuk mengurangi beberapa kata yang menyimpang."
      ],
      "metadata": {
        "id": "9fIJTx39P3XW"
      }
    },
    {
      "cell_type": "code",
      "source": [
        "def clean_text(Deskripsi):\n",
        "  le=WordNetLemmatizer()\n",
        "  word_tokens=word_tokenize(Deskripsi)\n",
        "  tokens=[le.lemmatize(w) for w in word_tokens if w not in stop_words and len(w)>3]\n",
        "  cleaned_text=\" \".join(tokens)\n",
        "  return cleaned_text"
      ],
      "metadata": {
        "id": "7yTEUUK-lmSb"
      },
      "execution_count": null,
      "outputs": []
    },
    {
      "cell_type": "code",
      "source": [
        "import nltk\n",
        "nltk.download('wordnet')"
      ],
      "metadata": {
        "id": "FMkcnTy4pajW",
        "colab": {
          "base_uri": "https://localhost:8080/"
        },
        "outputId": "16753e61-4f6e-49da-cd12-9ab8d0305583"
      },
      "execution_count": null,
      "outputs": [
        {
          "output_type": "stream",
          "name": "stderr",
          "text": [
            "[nltk_data] Downloading package wordnet to /root/nltk_data...\n",
            "[nltk_data]   Package wordnet is already up-to-date!\n"
          ]
        },
        {
          "output_type": "execute_result",
          "data": {
            "text/plain": [
              "True"
            ]
          },
          "metadata": {},
          "execution_count": 48
        }
      ]
    },
    {
      "cell_type": "code",
      "source": [
        "import nltk\n",
        "nltk.download('omw-1.4')"
      ],
      "metadata": {
        "id": "1wlYdpTKp0mu",
        "colab": {
          "base_uri": "https://localhost:8080/"
        },
        "outputId": "0bfc83de-2db5-4871-db8f-a9f30ee5f818"
      },
      "execution_count": null,
      "outputs": [
        {
          "output_type": "stream",
          "name": "stderr",
          "text": [
            "[nltk_data] Downloading package omw-1.4 to /root/nltk_data...\n",
            "[nltk_data]   Package omw-1.4 is already up-to-date!\n"
          ]
        },
        {
          "output_type": "execute_result",
          "data": {
            "text/plain": [
              "True"
            ]
          },
          "metadata": {},
          "execution_count": 49
        }
      ]
    },
    {
      "cell_type": "code",
      "source": [
        "import nltk\n",
        "nltk.download('punkt')"
      ],
      "metadata": {
        "id": "LxgIffsxFMpR",
        "colab": {
          "base_uri": "https://localhost:8080/"
        },
        "outputId": "9f3beedc-d132-4149-87af-8ba81e366feb"
      },
      "execution_count": null,
      "outputs": [
        {
          "output_type": "stream",
          "name": "stderr",
          "text": [
            "[nltk_data] Downloading package punkt to /root/nltk_data...\n",
            "[nltk_data]   Package punkt is already up-to-date!\n"
          ]
        },
        {
          "output_type": "execute_result",
          "data": {
            "text/plain": [
              "True"
            ]
          },
          "metadata": {},
          "execution_count": 50
        }
      ]
    },
    {
      "cell_type": "markdown",
      "source": [
        "Lalu hapus kolom yang belum di lakukan cleaning data."
      ],
      "metadata": {
        "id": "Cg8fNLcWQHY5"
      }
    },
    {
      "cell_type": "code",
      "source": [
        "\n",
        "\n",
        "# time taking\n",
        "df['Deskripsi_cleaned_text']=df['Deskripsi'].apply(clean_text)\n",
        "\n"
      ],
      "metadata": {
        "id": "1M8X1waaoWan"
      },
      "execution_count": null,
      "outputs": []
    },
    {
      "cell_type": "code",
      "source": [
        "df.head()"
      ],
      "metadata": {
        "id": "i0lSUxjnqAPL",
        "colab": {
          "base_uri": "https://localhost:8080/",
          "height": 206
        },
        "outputId": "e7262dca-4dd8-40e8-84e0-fcd3bc5a9c5e"
      },
      "execution_count": null,
      "outputs": [
        {
          "output_type": "execute_result",
          "data": {
            "text/plain": [
              "                                           Deskripsi  \\\n",
              "0  Pemimpin Chechnya, Ramzan Kadyrov, mengatakan ...   \n",
              "1  Tentara Ukraina yang bersembunyi di pabrik kim...   \n",
              "2  Rusia menyatakan keprihatinan serius kepada Du...   \n",
              "3  Lahir dari semangat untuk mengembalikan cita-c...   \n",
              "4  Istri tentara yang berperang untuk Rusia di wi...   \n",
              "\n",
              "                              Deskripsi_cleaned_text  \n",
              "0  Pemimpin Chechnya Ramzan Kadyrov mengatakan ko...  \n",
              "1  Tentara Ukraina yang bersembunyi pabrik kimia ...  \n",
              "2  Rusia menyatakan keprihatinan serius kepada Du...  \n",
              "3  Lahir dari semangat untuk mengembalikan cita-c...  \n",
              "4  Istri tentara yang berperang untuk Rusia wilay...  "
            ],
            "text/html": [
              "\n",
              "  <div id=\"df-bec7b242-00b9-434d-9b51-7a835e0aeba2\">\n",
              "    <div class=\"colab-df-container\">\n",
              "      <div>\n",
              "<style scoped>\n",
              "    .dataframe tbody tr th:only-of-type {\n",
              "        vertical-align: middle;\n",
              "    }\n",
              "\n",
              "    .dataframe tbody tr th {\n",
              "        vertical-align: top;\n",
              "    }\n",
              "\n",
              "    .dataframe thead th {\n",
              "        text-align: right;\n",
              "    }\n",
              "</style>\n",
              "<table border=\"1\" class=\"dataframe\">\n",
              "  <thead>\n",
              "    <tr style=\"text-align: right;\">\n",
              "      <th></th>\n",
              "      <th>Deskripsi</th>\n",
              "      <th>Deskripsi_cleaned_text</th>\n",
              "    </tr>\n",
              "  </thead>\n",
              "  <tbody>\n",
              "    <tr>\n",
              "      <th>0</th>\n",
              "      <td>Pemimpin Chechnya, Ramzan Kadyrov, mengatakan ...</td>\n",
              "      <td>Pemimpin Chechnya Ramzan Kadyrov mengatakan ko...</td>\n",
              "    </tr>\n",
              "    <tr>\n",
              "      <th>1</th>\n",
              "      <td>Tentara Ukraina yang bersembunyi di pabrik kim...</td>\n",
              "      <td>Tentara Ukraina yang bersembunyi pabrik kimia ...</td>\n",
              "    </tr>\n",
              "    <tr>\n",
              "      <th>2</th>\n",
              "      <td>Rusia menyatakan keprihatinan serius kepada Du...</td>\n",
              "      <td>Rusia menyatakan keprihatinan serius kepada Du...</td>\n",
              "    </tr>\n",
              "    <tr>\n",
              "      <th>3</th>\n",
              "      <td>Lahir dari semangat untuk mengembalikan cita-c...</td>\n",
              "      <td>Lahir dari semangat untuk mengembalikan cita-c...</td>\n",
              "    </tr>\n",
              "    <tr>\n",
              "      <th>4</th>\n",
              "      <td>Istri tentara yang berperang untuk Rusia di wi...</td>\n",
              "      <td>Istri tentara yang berperang untuk Rusia wilay...</td>\n",
              "    </tr>\n",
              "  </tbody>\n",
              "</table>\n",
              "</div>\n",
              "      <button class=\"colab-df-convert\" onclick=\"convertToInteractive('df-bec7b242-00b9-434d-9b51-7a835e0aeba2')\"\n",
              "              title=\"Convert this dataframe to an interactive table.\"\n",
              "              style=\"display:none;\">\n",
              "        \n",
              "  <svg xmlns=\"http://www.w3.org/2000/svg\" height=\"24px\"viewBox=\"0 0 24 24\"\n",
              "       width=\"24px\">\n",
              "    <path d=\"M0 0h24v24H0V0z\" fill=\"none\"/>\n",
              "    <path d=\"M18.56 5.44l.94 2.06.94-2.06 2.06-.94-2.06-.94-.94-2.06-.94 2.06-2.06.94zm-11 1L8.5 8.5l.94-2.06 2.06-.94-2.06-.94L8.5 2.5l-.94 2.06-2.06.94zm10 10l.94 2.06.94-2.06 2.06-.94-2.06-.94-.94-2.06-.94 2.06-2.06.94z\"/><path d=\"M17.41 7.96l-1.37-1.37c-.4-.4-.92-.59-1.43-.59-.52 0-1.04.2-1.43.59L10.3 9.45l-7.72 7.72c-.78.78-.78 2.05 0 2.83L4 21.41c.39.39.9.59 1.41.59.51 0 1.02-.2 1.41-.59l7.78-7.78 2.81-2.81c.8-.78.8-2.07 0-2.86zM5.41 20L4 18.59l7.72-7.72 1.47 1.35L5.41 20z\"/>\n",
              "  </svg>\n",
              "      </button>\n",
              "      \n",
              "  <style>\n",
              "    .colab-df-container {\n",
              "      display:flex;\n",
              "      flex-wrap:wrap;\n",
              "      gap: 12px;\n",
              "    }\n",
              "\n",
              "    .colab-df-convert {\n",
              "      background-color: #E8F0FE;\n",
              "      border: none;\n",
              "      border-radius: 50%;\n",
              "      cursor: pointer;\n",
              "      display: none;\n",
              "      fill: #1967D2;\n",
              "      height: 32px;\n",
              "      padding: 0 0 0 0;\n",
              "      width: 32px;\n",
              "    }\n",
              "\n",
              "    .colab-df-convert:hover {\n",
              "      background-color: #E2EBFA;\n",
              "      box-shadow: 0px 1px 2px rgba(60, 64, 67, 0.3), 0px 1px 3px 1px rgba(60, 64, 67, 0.15);\n",
              "      fill: #174EA6;\n",
              "    }\n",
              "\n",
              "    [theme=dark] .colab-df-convert {\n",
              "      background-color: #3B4455;\n",
              "      fill: #D2E3FC;\n",
              "    }\n",
              "\n",
              "    [theme=dark] .colab-df-convert:hover {\n",
              "      background-color: #434B5C;\n",
              "      box-shadow: 0px 1px 3px 1px rgba(0, 0, 0, 0.15);\n",
              "      filter: drop-shadow(0px 1px 2px rgba(0, 0, 0, 0.3));\n",
              "      fill: #FFFFFF;\n",
              "    }\n",
              "  </style>\n",
              "\n",
              "      <script>\n",
              "        const buttonEl =\n",
              "          document.querySelector('#df-bec7b242-00b9-434d-9b51-7a835e0aeba2 button.colab-df-convert');\n",
              "        buttonEl.style.display =\n",
              "          google.colab.kernel.accessAllowed ? 'block' : 'none';\n",
              "\n",
              "        async function convertToInteractive(key) {\n",
              "          const element = document.querySelector('#df-bec7b242-00b9-434d-9b51-7a835e0aeba2');\n",
              "          const dataTable =\n",
              "            await google.colab.kernel.invokeFunction('convertToInteractive',\n",
              "                                                     [key], {});\n",
              "          if (!dataTable) return;\n",
              "\n",
              "          const docLinkHtml = 'Like what you see? Visit the ' +\n",
              "            '<a target=\"_blank\" href=https://colab.research.google.com/notebooks/data_table.ipynb>data table notebook</a>'\n",
              "            + ' to learn more about interactive tables.';\n",
              "          element.innerHTML = '';\n",
              "          dataTable['output_type'] = 'display_data';\n",
              "          await google.colab.output.renderOutput(dataTable, element);\n",
              "          const docLink = document.createElement('div');\n",
              "          docLink.innerHTML = docLinkHtml;\n",
              "          element.appendChild(docLink);\n",
              "        }\n",
              "      </script>\n",
              "    </div>\n",
              "  </div>\n",
              "  "
            ]
          },
          "metadata": {},
          "execution_count": 52
        }
      ]
    },
    {
      "cell_type": "code",
      "source": [
        "df.drop(['Deskripsi'],axis=1,inplace=True)"
      ],
      "metadata": {
        "id": "nErseu6wq9HZ"
      },
      "execution_count": null,
      "outputs": []
    },
    {
      "cell_type": "code",
      "source": [
        "df.head()"
      ],
      "metadata": {
        "id": "OMhHMMpirCtd",
        "colab": {
          "base_uri": "https://localhost:8080/",
          "height": 206
        },
        "outputId": "691e1695-dafc-4ecb-d2c8-23de587522d5"
      },
      "execution_count": null,
      "outputs": [
        {
          "output_type": "execute_result",
          "data": {
            "text/plain": [
              "                              Deskripsi_cleaned_text\n",
              "0  Pemimpin Chechnya Ramzan Kadyrov mengatakan ko...\n",
              "1  Tentara Ukraina yang bersembunyi pabrik kimia ...\n",
              "2  Rusia menyatakan keprihatinan serius kepada Du...\n",
              "3  Lahir dari semangat untuk mengembalikan cita-c...\n",
              "4  Istri tentara yang berperang untuk Rusia wilay..."
            ],
            "text/html": [
              "\n",
              "  <div id=\"df-89e924c9-fd98-4e65-9f1a-e6dcceca8d61\">\n",
              "    <div class=\"colab-df-container\">\n",
              "      <div>\n",
              "<style scoped>\n",
              "    .dataframe tbody tr th:only-of-type {\n",
              "        vertical-align: middle;\n",
              "    }\n",
              "\n",
              "    .dataframe tbody tr th {\n",
              "        vertical-align: top;\n",
              "    }\n",
              "\n",
              "    .dataframe thead th {\n",
              "        text-align: right;\n",
              "    }\n",
              "</style>\n",
              "<table border=\"1\" class=\"dataframe\">\n",
              "  <thead>\n",
              "    <tr style=\"text-align: right;\">\n",
              "      <th></th>\n",
              "      <th>Deskripsi_cleaned_text</th>\n",
              "    </tr>\n",
              "  </thead>\n",
              "  <tbody>\n",
              "    <tr>\n",
              "      <th>0</th>\n",
              "      <td>Pemimpin Chechnya Ramzan Kadyrov mengatakan ko...</td>\n",
              "    </tr>\n",
              "    <tr>\n",
              "      <th>1</th>\n",
              "      <td>Tentara Ukraina yang bersembunyi pabrik kimia ...</td>\n",
              "    </tr>\n",
              "    <tr>\n",
              "      <th>2</th>\n",
              "      <td>Rusia menyatakan keprihatinan serius kepada Du...</td>\n",
              "    </tr>\n",
              "    <tr>\n",
              "      <th>3</th>\n",
              "      <td>Lahir dari semangat untuk mengembalikan cita-c...</td>\n",
              "    </tr>\n",
              "    <tr>\n",
              "      <th>4</th>\n",
              "      <td>Istri tentara yang berperang untuk Rusia wilay...</td>\n",
              "    </tr>\n",
              "  </tbody>\n",
              "</table>\n",
              "</div>\n",
              "      <button class=\"colab-df-convert\" onclick=\"convertToInteractive('df-89e924c9-fd98-4e65-9f1a-e6dcceca8d61')\"\n",
              "              title=\"Convert this dataframe to an interactive table.\"\n",
              "              style=\"display:none;\">\n",
              "        \n",
              "  <svg xmlns=\"http://www.w3.org/2000/svg\" height=\"24px\"viewBox=\"0 0 24 24\"\n",
              "       width=\"24px\">\n",
              "    <path d=\"M0 0h24v24H0V0z\" fill=\"none\"/>\n",
              "    <path d=\"M18.56 5.44l.94 2.06.94-2.06 2.06-.94-2.06-.94-.94-2.06-.94 2.06-2.06.94zm-11 1L8.5 8.5l.94-2.06 2.06-.94-2.06-.94L8.5 2.5l-.94 2.06-2.06.94zm10 10l.94 2.06.94-2.06 2.06-.94-2.06-.94-.94-2.06-.94 2.06-2.06.94z\"/><path d=\"M17.41 7.96l-1.37-1.37c-.4-.4-.92-.59-1.43-.59-.52 0-1.04.2-1.43.59L10.3 9.45l-7.72 7.72c-.78.78-.78 2.05 0 2.83L4 21.41c.39.39.9.59 1.41.59.51 0 1.02-.2 1.41-.59l7.78-7.78 2.81-2.81c.8-.78.8-2.07 0-2.86zM5.41 20L4 18.59l7.72-7.72 1.47 1.35L5.41 20z\"/>\n",
              "  </svg>\n",
              "      </button>\n",
              "      \n",
              "  <style>\n",
              "    .colab-df-container {\n",
              "      display:flex;\n",
              "      flex-wrap:wrap;\n",
              "      gap: 12px;\n",
              "    }\n",
              "\n",
              "    .colab-df-convert {\n",
              "      background-color: #E8F0FE;\n",
              "      border: none;\n",
              "      border-radius: 50%;\n",
              "      cursor: pointer;\n",
              "      display: none;\n",
              "      fill: #1967D2;\n",
              "      height: 32px;\n",
              "      padding: 0 0 0 0;\n",
              "      width: 32px;\n",
              "    }\n",
              "\n",
              "    .colab-df-convert:hover {\n",
              "      background-color: #E2EBFA;\n",
              "      box-shadow: 0px 1px 2px rgba(60, 64, 67, 0.3), 0px 1px 3px 1px rgba(60, 64, 67, 0.15);\n",
              "      fill: #174EA6;\n",
              "    }\n",
              "\n",
              "    [theme=dark] .colab-df-convert {\n",
              "      background-color: #3B4455;\n",
              "      fill: #D2E3FC;\n",
              "    }\n",
              "\n",
              "    [theme=dark] .colab-df-convert:hover {\n",
              "      background-color: #434B5C;\n",
              "      box-shadow: 0px 1px 3px 1px rgba(0, 0, 0, 0.15);\n",
              "      filter: drop-shadow(0px 1px 2px rgba(0, 0, 0, 0.3));\n",
              "      fill: #FFFFFF;\n",
              "    }\n",
              "  </style>\n",
              "\n",
              "      <script>\n",
              "        const buttonEl =\n",
              "          document.querySelector('#df-89e924c9-fd98-4e65-9f1a-e6dcceca8d61 button.colab-df-convert');\n",
              "        buttonEl.style.display =\n",
              "          google.colab.kernel.accessAllowed ? 'block' : 'none';\n",
              "\n",
              "        async function convertToInteractive(key) {\n",
              "          const element = document.querySelector('#df-89e924c9-fd98-4e65-9f1a-e6dcceca8d61');\n",
              "          const dataTable =\n",
              "            await google.colab.kernel.invokeFunction('convertToInteractive',\n",
              "                                                     [key], {});\n",
              "          if (!dataTable) return;\n",
              "\n",
              "          const docLinkHtml = 'Like what you see? Visit the ' +\n",
              "            '<a target=\"_blank\" href=https://colab.research.google.com/notebooks/data_table.ipynb>data table notebook</a>'\n",
              "            + ' to learn more about interactive tables.';\n",
              "          element.innerHTML = '';\n",
              "          dataTable['output_type'] = 'display_data';\n",
              "          await google.colab.output.renderOutput(dataTable, element);\n",
              "          const docLink = document.createElement('div');\n",
              "          docLink.innerHTML = docLinkHtml;\n",
              "          element.appendChild(docLink);\n",
              "        }\n",
              "      </script>\n",
              "    </div>\n",
              "  </div>\n",
              "  "
            ]
          },
          "metadata": {},
          "execution_count": 54
        }
      ]
    },
    {
      "cell_type": "markdown",
      "source": [
        "Dapat dilihat deskripsi dari sebuah dokumen tertentu"
      ],
      "metadata": {
        "id": "zFfPvCR_QnXu"
      }
    },
    {
      "cell_type": "code",
      "source": [
        "df['Deskripsi_cleaned_text'][0]"
      ],
      "metadata": {
        "id": "Y5IskYbLrJpa",
        "colab": {
          "base_uri": "https://localhost:8080/",
          "height": 35
        },
        "outputId": "b0e3e418-30d7-4530-82c3-01102110c7a1"
      },
      "execution_count": null,
      "outputs": [
        {
          "output_type": "execute_result",
          "data": {
            "text/plain": [
              "'Pemimpin Chechnya Ramzan Kadyrov mengatakan kota Komyshuvakha Republik Rakyat Luhansk telah dibebaskan dari pendudukan Ukraina'"
            ],
            "application/vnd.google.colaboratory.intrinsic+json": {
              "type": "string"
            }
          },
          "metadata": {},
          "execution_count": 55
        }
      ]
    },
    {
      "cell_type": "markdown",
      "source": [
        "**EXTRACTING THE FEATURES AND CREATING THE DOCUMENT-TERM-MATRIX ( DTM )**\n",
        "**MENGEKSTRAK FITUR DAN MEMBUAT DOCUMENT-TERM-MATRIX ( DTM ) **"
      ],
      "metadata": {
        "id": "t5ukmxxWrT-S"
      }
    },
    {
      "cell_type": "markdown",
      "source": [
        "Dalam DTM nilainya adalah nilai TFidf.\n",
        "\n",
        "Saya juga telah menentukan beberapa parameter dari vectorizer Tfidf.\n",
        "\n",
        "Beberapa poin penting:\n",
        "\n",
        "1) LSA umumnya diimplementasikan dengan nilai Tfidf di mana-mana dan tidak dengan Count Vectorizer.\n",
        "\n",
        "2) max_features tergantung pada daya komputasi Anda dan juga pada eval. metrik (skor koherensi adalah metrik untuk model topik). Coba nilai yang memberikan evaluasi terbaik. metrik dan tidak membatasi kekuatan pemrosesan.\n",
        "\n",
        "3) Nilai default untuk min_df & max_df bekerja dengan baik.\n",
        "\n",
        "4) Dapat mencoba nilai yang berbeda untuk ngram_range."
      ],
      "metadata": {
        "id": "zRtkXCplQ_qc"
      }
    },
    {
      "cell_type": "code",
      "source": [
        "vect =TfidfVectorizer(stop_words=stop_words,max_features=1000) # to play with. min_df,max_df,max_features etc..."
      ],
      "metadata": {
        "id": "JP3JvTcYrWl7"
      },
      "execution_count": null,
      "outputs": []
    },
    {
      "cell_type": "code",
      "source": [
        "vect_text=vect.fit_transform(df['Deskripsi_cleaned_text'])"
      ],
      "metadata": {
        "id": "-H6kM_j9rhwo"
      },
      "execution_count": null,
      "outputs": []
    },
    {
      "cell_type": "markdown",
      "source": [
        "Kita sekarang dapat melihat kata-kata yang paling sering dan langka di berita utama berdasarkan skor idf. Semakin kecil nilainya; lebih umum adalah kata dalam berita utama."
      ],
      "metadata": {
        "id": "VKwnzYRorn-x"
      }
    },
    {
      "cell_type": "code",
      "source": [
        "print(vect_text.shape)\n",
        "print(vect_text)"
      ],
      "metadata": {
        "id": "Cyv8hnpgrq84",
        "colab": {
          "base_uri": "https://localhost:8080/"
        },
        "outputId": "174c11b2-b3e5-461d-b9e0-44db2a9c40f4"
      },
      "execution_count": null,
      "outputs": [
        {
          "output_type": "stream",
          "name": "stdout",
          "text": [
            "(33, 400)\n",
            "  (0, 388)\t0.1511896683872075\n",
            "  (0, 265)\t0.29547208869316627\n",
            "  (0, 68)\t0.1511896683872075\n",
            "  (0, 74)\t0.29547208869316627\n",
            "  (0, 360)\t0.18861362461659817\n",
            "  (0, 184)\t0.26421799150844066\n",
            "  (0, 297)\t0.26421799150844066\n",
            "  (0, 300)\t0.26421799150844066\n",
            "  (0, 166)\t0.29547208869316627\n",
            "  (0, 171)\t0.19890650318701575\n",
            "  (0, 210)\t0.2420428566548822\n",
            "  (0, 135)\t0.29547208869316627\n",
            "  (0, 298)\t0.29547208869316627\n",
            "  (0, 59)\t0.29547208869316627\n",
            "  (0, 263)\t0.29547208869316627\n",
            "  (1, 307)\t0.14258678351209847\n",
            "  (1, 247)\t0.23941348941535245\n",
            "  (1, 83)\t0.2677334854262322\n",
            "  (1, 148)\t0.23941348941535245\n",
            "  (1, 170)\t0.23941348941535245\n",
            "  (1, 191)\t0.23941348941535245\n",
            "  (1, 344)\t0.21932013247460516\n",
            "  (1, 394)\t0.20373451399177844\n",
            "  (1, 96)\t0.2677334854262322\n",
            "  (1, 214)\t0.2677334854262322\n",
            "  :\t:\n",
            "  (31, 255)\t0.16626460090018572\n",
            "  (31, 232)\t0.19820066677859352\n",
            "  (31, 389)\t0.1446261311025218\n",
            "  (31, 307)\t0.13871383405883464\n",
            "  (31, 397)\t0.12355155293656152\n",
            "  (31, 388)\t0.13327504800211742\n",
            "  (31, 171)\t0.3506757312581798\n",
            "  (32, 311)\t0.2654380550351803\n",
            "  (32, 224)\t0.2654380550351803\n",
            "  (32, 127)\t0.2654380550351803\n",
            "  (32, 158)\t0.2654380550351803\n",
            "  (32, 215)\t0.2654380550351803\n",
            "  (32, 333)\t0.2654380550351803\n",
            "  (32, 81)\t0.2654380550351803\n",
            "  (32, 383)\t0.2373608623457243\n",
            "  (32, 217)\t0.2373608623457243\n",
            "  (32, 255)\t0.16944149917102927\n",
            "  (32, 70)\t0.16944149917102927\n",
            "  (32, 324)\t0.21743977710310478\n",
            "  (32, 307)\t0.14136430648157333\n",
            "  (32, 341)\t0.20198778293055758\n",
            "  (32, 397)\t0.2518246246180522\n",
            "  (32, 388)\t0.1358215989050285\n",
            "  (32, 360)\t0.33888299834205854\n",
            "  (32, 171)\t0.17868813116435475\n"
          ]
        }
      ]
    },
    {
      "cell_type": "code",
      "source": [
        "idf=vect.idf_"
      ],
      "metadata": {
        "id": "U7HiLqLUr8nr"
      },
      "execution_count": null,
      "outputs": []
    },
    {
      "cell_type": "code",
      "source": [
        "dd=dict(zip(vect.get_feature_names(), idf))\n",
        "l=sorted(dd, key=(dd).get)\n",
        "# print(l)\n",
        "print(l[0],l[-1])\n",
        "print(dd['baru'])\n",
        "print(dd['rusia'])"
      ],
      "metadata": {
        "id": "Y1DUtm27tRCT",
        "colab": {
          "base_uri": "https://localhost:8080/"
        },
        "outputId": "f2e5b203-db02-47d6-de4c-be8e1641d5c4"
      },
      "execution_count": null,
      "outputs": [
        {
          "output_type": "stream",
          "name": "stdout",
          "text": [
            "yang yasser\n",
            "3.833213344056216\n",
            "2.041453874828161\n"
          ]
        },
        {
          "output_type": "stream",
          "name": "stderr",
          "text": [
            "/usr/local/lib/python3.7/dist-packages/sklearn/utils/deprecation.py:87: FutureWarning: Function get_feature_names is deprecated; get_feature_names is deprecated in 1.0 and will be removed in 1.2. Please use get_feature_names_out instead.\n",
            "  warnings.warn(msg, category=FutureWarning)\n"
          ]
        }
      ]
    },
    {
      "cell_type": "markdown",
      "source": [
        "# TOPIC MODELLING"
      ],
      "metadata": {
        "id": "omjSfR1Rt6ka"
      }
    },
    {
      "cell_type": "markdown",
      "source": [
        "## **Latent Semantic Analysis (LSA)**"
      ],
      "metadata": {
        "id": "7IjTMkrAt7Xp"
      }
    },
    {
      "cell_type": "markdown",
      "source": [
        "Pendekatan pertama yang saya gunakan adalah LSA. LSA pada dasarnya adalah dekomposisi nilai tunggal.\n",
        "\n",
        "SVD menguraikan DTM asli menjadi tiga matriks S=U.(sigma).(V.T). Di sini matriks U menunjukkan matriks dokumen-topik sementara (V) adalah matriks topik-term.\n",
        "\n",
        "Setiap baris dari matriks U (matriks istilah dokumen) adalah representasi vektor dari dokumen yang sesuai. Panjang vektor ini adalah jumlah topik yang diinginkan. Representasi vektor untuk suku-suku dalam data kami dapat ditemukan dalam matriks V (matriks istilah-topik).\n",
        "\n",
        "Jadi, SVD memberi kita vektor untuk setiap dokumen dan istilah dalam data kita. Panjang setiap vektor adalah k. Kami kemudian dapat menggunakan vektor-vektor ini untuk menemukan kata-kata dan dokumen serupa menggunakan metode kesamaan kosinus.\n",
        "\n",
        "Kita dapat menggunakan fungsi truncatedSVD untuk mengimplementasikan LSA. Parameter n_components adalah jumlah topik yang ingin kita ekstrak. Model tersebut kemudian di fit dan ditransformasikan pada hasil yang diberikan oleh vectorizer."
      ],
      "metadata": {
        "id": "9RMgXqryR2eK"
      }
    },
    {
      "cell_type": "markdown",
      "source": [
        "**Terakhir perhatikan bahwa LSA dan LSI (I untuk pengindeksan) adalah sama dan yang terakhir kadang-kadang digunakan dalam konteks pencarian informasi.**"
      ],
      "metadata": {
        "id": "rIz1De4sR_wS"
      }
    },
    {
      "cell_type": "code",
      "source": [
        "from sklearn.decomposition import TruncatedSVD\n",
        "lsa_model = TruncatedSVD(n_components=10, algorithm='randomized', n_iter=10, random_state=42)\n",
        "\n",
        "lsa_top=lsa_model.fit_transform(vect_text)"
      ],
      "metadata": {
        "id": "zG9sKYaruJ45"
      },
      "execution_count": null,
      "outputs": []
    },
    {
      "cell_type": "code",
      "source": [
        "print(lsa_top)\n",
        "print(lsa_top.shape)  # (no_of_doc*no_of_topics)"
      ],
      "metadata": {
        "id": "JwRj_YEJuSTR",
        "colab": {
          "base_uri": "https://localhost:8080/"
        },
        "outputId": "18c175fe-4a73-4b33-f59d-ceb2c4f4b553"
      },
      "execution_count": null,
      "outputs": [
        {
          "output_type": "stream",
          "name": "stdout",
          "text": [
            "[[ 0.24497078 -0.18441055  0.26013586 -0.00211732 -0.11102166  0.18895888\n",
            "   0.02942903  0.35418549  0.07233524  0.29996631]\n",
            " [ 0.42709025 -0.33408475  0.40649658 -0.10339726  0.08289324 -0.17608691\n",
            "  -0.0230901  -0.06877259 -0.04719117 -0.22019031]\n",
            " [ 0.15512975 -0.03069452  0.04811813 -0.02960496  0.12412405  0.15607196\n",
            "  -0.15085558 -0.05074033  0.05598499 -0.28519716]\n",
            " [ 0.15189352  0.11843397  0.06771989  0.14077855  0.01750714 -0.23717675\n",
            "  -0.08937099 -0.12864198  0.27838592  0.26762743]\n",
            " [ 0.3524325  -0.05820058 -0.15371792  0.13655204  0.23335348 -0.13242503\n",
            "  -0.22801787  0.18203071 -0.03902007 -0.27340146]\n",
            " [ 0.08861761  0.01871795  0.14528292  0.13972075  0.22150191  0.43523593\n",
            "   0.15449896 -0.21287453  0.02249091 -0.09238085]\n",
            " [ 0.13577791  0.10971981  0.22601665 -0.03597987 -0.09354654  0.26149258\n",
            "  -0.23421364  0.24681583  0.17477961  0.38778005]\n",
            " [ 0.27451968 -0.00832119 -0.1859896   0.00107409 -0.31186654  0.08521501\n",
            "   0.35525657 -0.15898253  0.40032917  0.0136883 ]\n",
            " [ 0.12425052  0.2404631   0.1594879  -0.02282837  0.10115147  0.3555302\n",
            "   0.20023772 -0.00956274 -0.21061262  0.00877684]\n",
            " [ 0.32011104  0.00696856 -0.26069428  0.06712692 -0.1182456   0.04004001\n",
            "  -0.19189784  0.40815999 -0.2133929  -0.19485016]\n",
            " [ 0.05653896  0.11441957  0.08490429  0.12768979  0.04290976  0.28971087\n",
            "   0.15343059 -0.2595222  -0.10394909 -0.2281103 ]\n",
            " [ 0.0765067   0.44784476  0.30560685  0.43955558 -0.15372708 -0.24520075\n",
            "  -0.0582947  -0.01456334 -0.0129807   0.07543026]\n",
            " [ 0.13253747  0.17658842 -0.0889177  -0.22306517  0.38172327 -0.22198769\n",
            "   0.397911    0.32125025  0.11116301  0.00476282]\n",
            " [ 0.3282193   0.21082857  0.00656991 -0.38028071 -0.23260449  0.19622907\n",
            "  -0.33562588 -0.09138384  0.05212386  0.00582511]\n",
            " [ 0.16705042  0.55899461  0.27182855  0.35744075 -0.17766153 -0.2017051\n",
            "  -0.09086874  0.02055604 -0.00507503 -0.03301085]\n",
            " [ 0.53936314 -0.18525732  0.26089282 -0.23059166 -0.08280617 -0.2729658\n",
            "   0.00881058 -0.25867073 -0.06184735 -0.02165444]\n",
            " [ 0.30552688  0.14758411 -0.12305595 -0.33802015 -0.23007482 -0.10573293\n",
            "  -0.12955748 -0.2565147  -0.17167116 -0.1002287 ]\n",
            " [ 0.23064381  0.04069885 -0.14353931  0.1462535   0.05719495 -0.23453781\n",
            "  -0.00252945 -0.10277839  0.10247874 -0.04857441]\n",
            " [ 0.14804404 -0.0018163  -0.01250827  0.12479158  0.03004162  0.09293313\n",
            "  -0.02780751  0.28451006  0.18530673 -0.14006772]\n",
            " [ 0.13322464  0.15397729 -0.09242753  0.01529034 -0.17270685  0.02535702\n",
            "  -0.11463845  0.1702531   0.40147945 -0.33881398]\n",
            " [ 0.45015809 -0.14689712 -0.31700245  0.1936865  -0.18630449  0.06470051\n",
            "   0.16473276  0.21844168 -0.21850628  0.04947314]\n",
            " [ 0.38464085 -0.01855855 -0.36532924  0.10175025 -0.25820776  0.01438302\n",
            "   0.18141854 -0.23820183  0.01598343  0.19765209]\n",
            " [ 0.06525414  0.12227653  0.10062281  0.18836375  0.03877694 -0.0386064\n",
            "   0.02305629  0.07001993 -0.14464225 -0.21790139]\n",
            " [ 0.21093669  0.32075665  0.13003461  0.10866656  0.21430624  0.13456546\n",
            "   0.31247473 -0.09443622 -0.11504769  0.0155406 ]\n",
            " [ 0.24746456 -0.30824791  0.53310422 -0.15635986 -0.06138443 -0.07023386\n",
            "   0.09071929  0.08215704  0.02420967  0.0832773 ]\n",
            " [ 0.16751405 -0.06403371  0.00121723  0.05639865 -0.08336259  0.25723287\n",
            "   0.13592163 -0.00474162  0.48794542 -0.16595321]\n",
            " [ 0.3408415  -0.07350442 -0.04244406  0.1014096   0.44416039 -0.01258902\n",
            "  -0.28584916 -0.17681857  0.26966365  0.00332324]\n",
            " [ 0.26503635  0.3361019  -0.01457842 -0.28539644  0.13618315  0.28399831\n",
            "  -0.23699396  0.08500093 -0.12810855  0.13802236]\n",
            " [ 0.2042291   0.32580365 -0.08720506 -0.37836169  0.33944184 -0.24986586\n",
            "   0.27580655  0.149375    0.12473975  0.10278972]\n",
            " [ 0.22343681  0.31878353 -0.10218063 -0.26722791 -0.07823972  0.01720535\n",
            "   0.05032105 -0.05985733 -0.11078489 -0.07055072]\n",
            " [ 0.16701474 -0.06299223 -0.13797565  0.18573663  0.4283381   0.11586619\n",
            "  -0.27531594 -0.1935709   0.04978809  0.20178744]\n",
            " [ 0.44431078 -0.17203376 -0.28192198  0.25138186  0.09171211 -0.02338418\n",
            "  -0.00574101 -0.05979939 -0.17902659  0.32062906]\n",
            " [ 0.43782674 -0.18946966  0.17080544  0.19092827 -0.02354331  0.07202207\n",
            "   0.19401263  0.11548691 -0.15544991 -0.08273502]]\n",
            "(33, 10)\n"
          ]
        }
      ]
    },
    {
      "cell_type": "code",
      "source": [
        "l=lsa_top[0]\n",
        "print(\"Document 0 :\")\n",
        "for i,topic in enumerate(l):\n",
        "  print(\"Topic \",i,\" : \",topic*100)"
      ],
      "metadata": {
        "id": "rgMWjwxUuZNt",
        "colab": {
          "base_uri": "https://localhost:8080/"
        },
        "outputId": "f4ac21d5-b959-43f7-876f-00cadf9a91c0"
      },
      "execution_count": null,
      "outputs": [
        {
          "output_type": "stream",
          "name": "stdout",
          "text": [
            "Document 0 :\n",
            "Topic  0  :  24.49707825402537\n",
            "Topic  1  :  -18.44105548282143\n",
            "Topic  2  :  26.013586467929272\n",
            "Topic  3  :  -0.21173191509195455\n",
            "Topic  4  :  -11.102165851349056\n",
            "Topic  5  :  18.895888436612157\n",
            "Topic  6  :  2.9429034500019746\n",
            "Topic  7  :  35.4185486248253\n",
            "Topic  8  :  7.23352356090982\n",
            "Topic  9  :  29.996630627661748\n"
          ]
        }
      ]
    },
    {
      "cell_type": "markdown",
      "source": [
        "Mirip dengan dokumen lain kita bisa melakukan ini. Namun perhatikan bahwa nilai tidak menambah 1 seperti di LSA itu bukan kemungkinan topik dalam dokumen."
      ],
      "metadata": {
        "id": "ztEsVAjPSWZx"
      }
    },
    {
      "cell_type": "code",
      "source": [
        "print(lsa_model.components_.shape) # (no_of_topics*no_of_words)\n",
        "print(lsa_model.components_)"
      ],
      "metadata": {
        "id": "PJfgUngSudrL",
        "colab": {
          "base_uri": "https://localhost:8080/"
        },
        "outputId": "73e20402-bbeb-48b2-c799-ac42bfa8c306"
      },
      "execution_count": null,
      "outputs": [
        {
          "output_type": "stream",
          "name": "stdout",
          "text": [
            "(10, 400)\n",
            "[[ 0.05800911  0.09454754  0.01276731 ...  0.25439803  0.00518079\n",
            "   0.06648515]\n",
            " [ 0.12968606  0.02321829  0.02337026 ... -0.08418552  0.01540894\n",
            "  -0.02013382]\n",
            " [-0.02854721  0.01721231 -0.01501305 ... -0.01608157  0.01335607\n",
            "  -0.08365104]\n",
            " ...\n",
            " [ 0.02805685 -0.10493935  0.0338656  ...  0.10274987  0.01292729\n",
            "   0.10970165]\n",
            " [-0.02199822 -0.03494458  0.08445673 ... -0.05002676 -0.02485543\n",
            "  -0.07995505]\n",
            " [ 0.03199708 -0.02317659 -0.07423765 ... -0.12966233 -0.03991699\n",
            "  -0.02292457]]\n"
          ]
        }
      ]
    },
    {
      "cell_type": "markdown",
      "source": [
        "Sekarang kita bisa mendapatkan daftar kata-kata penting untuk masing-masing dari 10 topik seperti yang ditunjukkan. Untuk kesederhanaan di sini saya telah menunjukkan 10 kata untuk setiap topik."
      ],
      "metadata": {
        "id": "sgFMJU96SgwX"
      }
    },
    {
      "cell_type": "code",
      "source": [
        "# most important words for each topic\n",
        "vocab = vect.get_feature_names()\n",
        "\n",
        "for i, comp in enumerate(lsa_model.components_):\n",
        "    vocab_comp = zip(vocab, comp)\n",
        "    sorted_words = sorted(vocab_comp, key= lambda x:x[1], reverse=True)[:10]\n",
        "    print(\"Topic \"+str(i)+\": \")\n",
        "    for t in sorted_words:\n",
        "        print(t[0],end=\" \")\n",
        "    print(\"\\n\")"
      ],
      "metadata": {
        "id": "NXcecTJjukoG",
        "colab": {
          "base_uri": "https://localhost:8080/"
        },
        "outputId": "e8c0fa60-4a24-4353-89ab-58d75bb7457c"
      },
      "execution_count": null,
      "outputs": [
        {
          "output_type": "stream",
          "name": "stdout",
          "text": [
            "Topic 0: \n",
            "yang untuk rusia ukraina pasukan kota dari pada kerugian mereka \n",
            "\n",
            "Topic 1: \n",
            "dengan terbanyak negara pada 2022 dunia penduduk sebagai 14 selasa \n",
            "\n",
            "Topic 2: \n",
            "severodonetsk pabrik sipil dengan warga telah azot negara luhansk rakyat \n",
            "\n",
            "Topic 3: \n",
            "dengan terbanyak negara dunia mereka penduduk sebagai kerugian yang indonesia \n",
            "\n",
            "Topic 4: \n",
            "mereka yang peluncuran foto beberapa antara gurun landasan menunjukkan satelit \n",
            "\n",
            "Topic 5: \n",
            "selama telah hubungan bahwa amerika serikat antara beberapa dekade ketegangan \n",
            "\n",
            "Topic 6: \n",
            "peluncuran dalam foto digunakan ukraina dengan gurun landasan menunjukkan satelit \n",
            "\n",
            "Topic 7: \n",
            "tidak anak foto wilayah dari peluncuran hanya zelensky kharkiv sievierodonetsk \n",
            "\n",
            "Topic 8: \n",
            "juta israel triliun atau untuk usd500 dampak ekonominya karena memberi \n",
            "\n",
            "Topic 9: \n",
            "kerugian tanda mengatakan kota sendiri negara cita untuk adalah mungkin \n",
            "\n"
          ]
        },
        {
          "output_type": "stream",
          "name": "stderr",
          "text": [
            "/usr/local/lib/python3.7/dist-packages/sklearn/utils/deprecation.py:87: FutureWarning: Function get_feature_names is deprecated; get_feature_names is deprecated in 1.0 and will be removed in 1.2. Please use get_feature_names_out instead.\n",
            "  warnings.warn(msg, category=FutureWarning)\n"
          ]
        }
      ]
    }
  ]
}