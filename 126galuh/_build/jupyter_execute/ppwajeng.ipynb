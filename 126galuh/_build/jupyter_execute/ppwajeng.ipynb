{
 "cells": [
  {
   "cell_type": "code",
   "execution_count": 1,
   "metadata": {
    "colab": {
     "base_uri": "https://localhost:8080/"
    },
    "id": "7GIdkvFle2NL",
    "outputId": "2901b6b9-bace-4a43-8a50-2710eb32bc79"
   },
   "outputs": [
    {
     "name": "stdout",
     "output_type": "stream",
     "text": [
      "Requirement already satisfied: scrapy in c:\\users\\asus\\appdata\\local\\programs\\python\\python38-32\\lib\\site-packages (2.6.1)\n",
      "Requirement already satisfied: PyDispatcher>=2.0.5 in c:\\users\\asus\\appdata\\local\\programs\\python\\python38-32\\lib\\site-packages (from scrapy) (2.0.5)\n",
      "Requirement already satisfied: pyOpenSSL>=16.2.0 in c:\\users\\asus\\appdata\\local\\programs\\python\\python38-32\\lib\\site-packages (from scrapy) (22.0.0)\n",
      "Requirement already satisfied: itemadapter>=0.1.0 in c:\\users\\asus\\appdata\\local\\programs\\python\\python38-32\\lib\\site-packages (from scrapy) (0.4.0)\n",
      "Requirement already satisfied: setuptools in c:\\users\\asus\\appdata\\local\\programs\\python\\python38-32\\lib\\site-packages (from scrapy) (47.1.0)\n",
      "Requirement already satisfied: cryptography>=2.0 in c:\\users\\asus\\appdata\\local\\programs\\python\\python38-32\\lib\\site-packages (from scrapy) (36.0.2)\n",
      "Requirement already satisfied: cssselect>=0.9.1 in c:\\users\\asus\\appdata\\local\\programs\\python\\python38-32\\lib\\site-packages (from scrapy) (1.1.0)\n",
      "Requirement already satisfied: w3lib>=1.17.0 in c:\\users\\asus\\appdata\\local\\programs\\python\\python38-32\\lib\\site-packages (from scrapy) (1.22.0)\n",
      "Requirement already satisfied: zope.interface>=4.1.3 in c:\\users\\asus\\appdata\\local\\programs\\python\\python38-32\\lib\\site-packages (from scrapy) (5.4.0)\n",
      "Requirement already satisfied: parsel>=1.5.0 in c:\\users\\asus\\appdata\\local\\programs\\python\\python38-32\\lib\\site-packages (from scrapy) (1.6.0)\n",
      "Requirement already satisfied: itemloaders>=1.0.1 in c:\\users\\asus\\appdata\\local\\programs\\python\\python38-32\\lib\\site-packages (from scrapy) (1.0.4)\n",
      "Requirement already satisfied: queuelib>=1.4.2 in c:\\users\\asus\\appdata\\local\\programs\\python\\python38-32\\lib\\site-packages (from scrapy) (1.6.2)\n",
      "Requirement already satisfied: Twisted>=17.9.0 in c:\\users\\asus\\appdata\\local\\programs\\python\\python38-32\\lib\\site-packages (from scrapy) (22.2.0)\n",
      "Requirement already satisfied: tldextract in c:\\users\\asus\\appdata\\local\\programs\\python\\python38-32\\lib\\site-packages (from scrapy) (3.2.0)\n",
      "Requirement already satisfied: lxml>=3.5.0 in c:\\users\\asus\\appdata\\local\\programs\\python\\python38-32\\lib\\site-packages (from scrapy) (4.8.0)\n",
      "Requirement already satisfied: protego>=0.1.15 in c:\\users\\asus\\appdata\\local\\programs\\python\\python38-32\\lib\\site-packages (from scrapy) (0.2.1)\n",
      "Requirement already satisfied: service-identity>=16.0.0 in c:\\users\\asus\\appdata\\local\\programs\\python\\python38-32\\lib\\site-packages (from scrapy) (21.1.0)\n",
      "Requirement already satisfied: cffi>=1.12 in c:\\users\\asus\\appdata\\local\\programs\\python\\python38-32\\lib\\site-packages (from cryptography>=2.0->scrapy) (1.15.0)\n",
      "Requirement already satisfied: jmespath>=0.9.5 in c:\\users\\asus\\appdata\\local\\programs\\python\\python38-32\\lib\\site-packages (from itemloaders>=1.0.1->scrapy) (1.0.0)\n",
      "Requirement already satisfied: six>=1.6.0 in c:\\users\\asus\\appdata\\roaming\\python\\python38\\site-packages (from parsel>=1.5.0->scrapy) (1.15.0)\n",
      "Requirement already satisfied: pyasn1-modules in c:\\users\\asus\\appdata\\local\\programs\\python\\python38-32\\lib\\site-packages (from service-identity>=16.0.0->scrapy) (0.2.8)\n",
      "Requirement already satisfied: attrs>=19.1.0 in c:\\users\\asus\\appdata\\local\\programs\\python\\python38-32\\lib\\site-packages (from service-identity>=16.0.0->scrapy) (21.4.0)\n",
      "Requirement already satisfied: pyasn1 in c:\\users\\asus\\appdata\\local\\programs\\python\\python38-32\\lib\\site-packages (from service-identity>=16.0.0->scrapy) (0.4.8)\n",
      "Requirement already satisfied: hyperlink>=17.1.1 in c:\\users\\asus\\appdata\\local\\programs\\python\\python38-32\\lib\\site-packages (from Twisted>=17.9.0->scrapy) (21.0.0)\n",
      "Requirement already satisfied: incremental>=21.3.0 in c:\\users\\asus\\appdata\\local\\programs\\python\\python38-32\\lib\\site-packages (from Twisted>=17.9.0->scrapy) (21.3.0)\n",
      "Requirement already satisfied: typing-extensions>=3.6.5 in c:\\users\\asus\\appdata\\local\\programs\\python\\python38-32\\lib\\site-packages (from Twisted>=17.9.0->scrapy) (4.1.1)\n",
      "Requirement already satisfied: twisted-iocpsupport<2,>=1.0.2 in c:\\users\\asus\\appdata\\local\\programs\\python\\python38-32\\lib\\site-packages (from Twisted>=17.9.0->scrapy) (1.0.2)\n",
      "Requirement already satisfied: Automat>=0.8.0 in c:\\users\\asus\\appdata\\local\\programs\\python\\python38-32\\lib\\site-packages (from Twisted>=17.9.0->scrapy) (20.2.0)\n",
      "Requirement already satisfied: constantly>=15.1 in c:\\users\\asus\\appdata\\local\\programs\\python\\python38-32\\lib\\site-packages (from Twisted>=17.9.0->scrapy) (15.1.0)\n",
      "Requirement already satisfied: filelock>=3.0.8 in c:\\users\\asus\\appdata\\local\\programs\\python\\python38-32\\lib\\site-packages (from tldextract->scrapy) (3.6.0)\n",
      "Requirement already satisfied: requests>=2.1.0 in c:\\users\\asus\\appdata\\local\\programs\\python\\python38-32\\lib\\site-packages (from tldextract->scrapy) (2.27.1)\n",
      "Requirement already satisfied: requests-file>=1.4 in c:\\users\\asus\\appdata\\local\\programs\\python\\python38-32\\lib\\site-packages (from tldextract->scrapy) (1.5.1)\n",
      "Requirement already satisfied: idna in c:\\users\\asus\\appdata\\local\\programs\\python\\python38-32\\lib\\site-packages (from tldextract->scrapy) (3.3)\n",
      "Requirement already satisfied: pycparser in c:\\users\\asus\\appdata\\local\\programs\\python\\python38-32\\lib\\site-packages (from cffi>=1.12->cryptography>=2.0->scrapy) (2.21)\n",
      "Requirement already satisfied: charset-normalizer~=2.0.0 in c:\\users\\asus\\appdata\\local\\programs\\python\\python38-32\\lib\\site-packages (from requests>=2.1.0->tldextract->scrapy) (2.0.12)\n",
      "Requirement already satisfied: urllib3<1.27,>=1.21.1 in c:\\users\\asus\\appdata\\local\\programs\\python\\python38-32\\lib\\site-packages (from requests>=2.1.0->tldextract->scrapy) (1.26.8)\n",
      "Requirement already satisfied: certifi>=2017.4.17 in c:\\users\\asus\\appdata\\local\\programs\\python\\python38-32\\lib\\site-packages (from requests>=2.1.0->tldextract->scrapy) (2021.10.8)\n"
     ]
    },
    {
     "name": "stderr",
     "output_type": "stream",
     "text": [
      "WARNING: Ignoring invalid distribution -ip (c:\\users\\asus\\appdata\\local\\programs\\python\\python38-32\\lib\\site-packages)\n",
      "WARNING: Ignoring invalid distribution -ip (c:\\users\\asus\\appdata\\local\\programs\\python\\python38-32\\lib\\site-packages)\n",
      "WARNING: Ignoring invalid distribution -ip (c:\\users\\asus\\appdata\\local\\programs\\python\\python38-32\\lib\\site-packages)\n",
      "WARNING: Ignoring invalid distribution -ip (c:\\users\\asus\\appdata\\local\\programs\\python\\python38-32\\lib\\site-packages)\n",
      "WARNING: Ignoring invalid distribution -ip (c:\\users\\asus\\appdata\\local\\programs\\python\\python38-32\\lib\\site-packages)\n",
      "WARNING: Ignoring invalid distribution -ip (c:\\users\\asus\\appdata\\local\\programs\\python\\python38-32\\lib\\site-packages)\n"
     ]
    }
   ],
   "source": [
    "!pip install scrapy"
   ]
  },
  {
   "cell_type": "markdown",
   "metadata": {
    "id": "Mz0M7ROpfJeS"
   },
   "source": [
    "Melakukan Crawling Data Berita\n"
   ]
  },
  {
   "cell_type": "code",
   "execution_count": 2,
   "metadata": {
    "colab": {
     "base_uri": "https://localhost:8080/"
    },
    "id": "d-cbNsDpfO_w",
    "outputId": "91e3fc56-ca89-42bd-f1e2-a11011ba1146"
   },
   "outputs": [
    {
     "name": "stderr",
     "output_type": "stream",
     "text": [
      "2022-06-16 04:41:43 [scrapy.utils.log] INFO: Scrapy 2.6.1 started (bot: scrapybot)\n"
     ]
    },
    {
     "name": "stderr",
     "output_type": "stream",
     "text": [
      "2022-06-16 04:41:43 [scrapy.utils.log] INFO: Versions: lxml 4.8.0.0, libxml2 2.9.12, cssselect 1.1.0, parsel 1.6.0, w3lib 1.22.0, Twisted 22.2.0, Python 3.8.5 (tags/v3.8.5:580fbb0, Jul 20 2020, 15:43:08) [MSC v.1926 32 bit (Intel)], pyOpenSSL 22.0.0 (OpenSSL 1.1.1n  15 Mar 2022), cryptography 36.0.2, Platform Windows-10-10.0.22000-SP0\n"
     ]
    },
    {
     "name": "stderr",
     "output_type": "stream",
     "text": [
      "2022-06-16 04:41:43 [scrapy.crawler] INFO: Overridden settings:\n",
      "{}\n"
     ]
    },
    {
     "name": "stderr",
     "output_type": "stream",
     "text": [
      "2022-06-16 04:41:43 [scrapy.utils.log] DEBUG: Using reactor: twisted.internet.selectreactor.SelectReactor\n"
     ]
    },
    {
     "name": "stderr",
     "output_type": "stream",
     "text": [
      "2022-06-16 04:41:43 [scrapy.extensions.telnet] INFO: Telnet Password: c9e7f7ef65073518\n"
     ]
    },
    {
     "name": "stderr",
     "output_type": "stream",
     "text": [
      "2022-06-16 04:41:43 [py.warnings] WARNING: C:\\Users\\ASUS\\AppData\\Local\\Programs\\Python\\Python38-32\\lib\\site-packages\\scrapy\\extensions\\feedexport.py:289: ScrapyDeprecationWarning: The `FEED_URI` and `FEED_FORMAT` settings have been deprecated in favor of the `FEEDS` setting. Please see the `FEEDS` setting docs for more details\n",
      "  exporter = cls(crawler)\n",
      "\n"
     ]
    },
    {
     "name": "stderr",
     "output_type": "stream",
     "text": [
      "2022-06-16 04:41:43 [scrapy.middleware] INFO: Enabled extensions:\n",
      "['scrapy.extensions.corestats.CoreStats',\n",
      " 'scrapy.extensions.telnet.TelnetConsole',\n",
      " 'scrapy.extensions.feedexport.FeedExporter',\n",
      " 'scrapy.extensions.logstats.LogStats']\n"
     ]
    },
    {
     "name": "stderr",
     "output_type": "stream",
     "text": [
      "2022-06-16 04:41:44 [scrapy.middleware] INFO: Enabled downloader middlewares:\n",
      "['scrapy.downloadermiddlewares.httpauth.HttpAuthMiddleware',\n",
      " 'scrapy.downloadermiddlewares.downloadtimeout.DownloadTimeoutMiddleware',\n",
      " 'scrapy.downloadermiddlewares.defaultheaders.DefaultHeadersMiddleware',\n",
      " 'scrapy.downloadermiddlewares.useragent.UserAgentMiddleware',\n",
      " 'scrapy.downloadermiddlewares.retry.RetryMiddleware',\n",
      " 'scrapy.downloadermiddlewares.redirect.MetaRefreshMiddleware',\n",
      " 'scrapy.downloadermiddlewares.httpcompression.HttpCompressionMiddleware',\n",
      " 'scrapy.downloadermiddlewares.redirect.RedirectMiddleware',\n",
      " 'scrapy.downloadermiddlewares.cookies.CookiesMiddleware',\n",
      " 'scrapy.downloadermiddlewares.httpproxy.HttpProxyMiddleware',\n",
      " 'scrapy.downloadermiddlewares.stats.DownloaderStats']\n"
     ]
    },
    {
     "name": "stderr",
     "output_type": "stream",
     "text": [
      "2022-06-16 04:41:44 [scrapy.middleware] INFO: Enabled spider middlewares:\n",
      "['scrapy.spidermiddlewares.httperror.HttpErrorMiddleware',\n",
      " 'scrapy.spidermiddlewares.offsite.OffsiteMiddleware',\n",
      " 'scrapy.spidermiddlewares.referer.RefererMiddleware',\n",
      " 'scrapy.spidermiddlewares.urllength.UrlLengthMiddleware',\n",
      " 'scrapy.spidermiddlewares.depth.DepthMiddleware']\n"
     ]
    },
    {
     "name": "stderr",
     "output_type": "stream",
     "text": [
      "2022-06-16 04:41:44 [scrapy.middleware] INFO: Enabled item pipelines:\n",
      "[]\n"
     ]
    },
    {
     "name": "stderr",
     "output_type": "stream",
     "text": [
      "2022-06-16 04:41:44 [scrapy.core.engine] INFO: Spider opened\n"
     ]
    },
    {
     "name": "stderr",
     "output_type": "stream",
     "text": [
      "2022-06-16 04:41:44 [scrapy.extensions.logstats] INFO: Crawled 0 pages (at 0 pages/min), scraped 0 items (at 0 items/min)\n"
     ]
    },
    {
     "name": "stderr",
     "output_type": "stream",
     "text": [
      "2022-06-16 04:41:44 [scrapy.extensions.telnet] INFO: Telnet console listening on 127.0.0.1:6023\n"
     ]
    },
    {
     "name": "stderr",
     "output_type": "stream",
     "text": [
      "2022-06-16 04:41:45 [scrapy.downloadermiddlewares.redirect] DEBUG: Redirecting (301) to <GET https://international.sindonews.com/> from <GET https://international.sindonews.com/international>\n"
     ]
    },
    {
     "name": "stderr",
     "output_type": "stream",
     "text": [
      "2022-06-16 04:41:45 [filelock] DEBUG: Attempting to acquire lock 132487824 on C:\\Users\\ASUS\\AppData\\Local\\Programs\\Python\\Python38-32\\lib\\site-packages\\tldextract\\.suffix_cache/publicsuffix.org-tlds\\de84b5ca2167d4c83e38fb162f2e8738.tldextract.json.lock\n"
     ]
    },
    {
     "name": "stderr",
     "output_type": "stream",
     "text": [
      "2022-06-16 04:41:45 [filelock] DEBUG: Lock 132487824 acquired on C:\\Users\\ASUS\\AppData\\Local\\Programs\\Python\\Python38-32\\lib\\site-packages\\tldextract\\.suffix_cache/publicsuffix.org-tlds\\de84b5ca2167d4c83e38fb162f2e8738.tldextract.json.lock\n"
     ]
    },
    {
     "name": "stderr",
     "output_type": "stream",
     "text": [
      "2022-06-16 04:41:45 [filelock] DEBUG: Attempting to acquire lock 132488736 on C:\\Users\\ASUS\\AppData\\Local\\Programs\\Python\\Python38-32\\lib\\site-packages\\tldextract\\.suffix_cache/urls\\62bf135d1c2f3d4db4228b9ecaf507a2.tldextract.json.lock\n"
     ]
    },
    {
     "name": "stderr",
     "output_type": "stream",
     "text": [
      "2022-06-16 04:41:45 [filelock] DEBUG: Lock 132488736 acquired on C:\\Users\\ASUS\\AppData\\Local\\Programs\\Python\\Python38-32\\lib\\site-packages\\tldextract\\.suffix_cache/urls\\62bf135d1c2f3d4db4228b9ecaf507a2.tldextract.json.lock\n"
     ]
    },
    {
     "name": "stderr",
     "output_type": "stream",
     "text": [
      "2022-06-16 04:41:45 [filelock] DEBUG: Attempting to release lock 132488736 on C:\\Users\\ASUS\\AppData\\Local\\Programs\\Python\\Python38-32\\lib\\site-packages\\tldextract\\.suffix_cache/urls\\62bf135d1c2f3d4db4228b9ecaf507a2.tldextract.json.lock\n"
     ]
    },
    {
     "name": "stderr",
     "output_type": "stream",
     "text": [
      "2022-06-16 04:41:45 [filelock] DEBUG: Lock 132488736 released on C:\\Users\\ASUS\\AppData\\Local\\Programs\\Python\\Python38-32\\lib\\site-packages\\tldextract\\.suffix_cache/urls\\62bf135d1c2f3d4db4228b9ecaf507a2.tldextract.json.lock\n"
     ]
    },
    {
     "name": "stderr",
     "output_type": "stream",
     "text": [
      "2022-06-16 04:41:45 [filelock] DEBUG: Attempting to release lock 132487824 on C:\\Users\\ASUS\\AppData\\Local\\Programs\\Python\\Python38-32\\lib\\site-packages\\tldextract\\.suffix_cache/publicsuffix.org-tlds\\de84b5ca2167d4c83e38fb162f2e8738.tldextract.json.lock\n"
     ]
    },
    {
     "name": "stderr",
     "output_type": "stream",
     "text": [
      "2022-06-16 04:41:45 [filelock] DEBUG: Lock 132487824 released on C:\\Users\\ASUS\\AppData\\Local\\Programs\\Python\\Python38-32\\lib\\site-packages\\tldextract\\.suffix_cache/publicsuffix.org-tlds\\de84b5ca2167d4c83e38fb162f2e8738.tldextract.json.lock\n"
     ]
    },
    {
     "name": "stderr",
     "output_type": "stream",
     "text": [
      "2022-06-16 04:41:45 [scrapy.core.engine] DEBUG: Crawled (200) <GET https://international.sindonews.com/> (referer: None)\n"
     ]
    },
    {
     "name": "stderr",
     "output_type": "stream",
     "text": [
      "2022-06-16 04:41:45 [scrapy.core.scraper] DEBUG: Scraped from <200 https://international.sindonews.com/>\r\n",
      "{'Kategori': 'Amerika', 'Tanggal': 'Kamis, 16 Juni 2022 - 04:15 WIB', 'Judul': 'AS Pantau Laporan Warganya Ditangkap Rusia di Ukraina', 'Deskripsi': 'Sebuah laporan menyatakan sepasang mantan personel militer Amerika Serikat (AS) yang berjuang sebagai sukarelawan di Ukraina telah ditangkap oleh pasukan Rusia.'}\n"
     ]
    },
    {
     "name": "stderr",
     "output_type": "stream",
     "text": [
      "2022-06-16 04:41:45 [scrapy.core.scraper] DEBUG: Scraped from <200 https://international.sindonews.com/>\r\n",
      "{'Kategori': 'Eropa', 'Tanggal': 'Kamis, 16 Juni 2022 - 03:15 WIB', 'Judul': 'Ramzan Kadyrov Klaim Rebut Kota Komyshuvakha dari Pasukan Ukraina', 'Deskripsi': 'Pemimpin Chechnya, Ramzan Kadyrov, mengatakan kota Komyshuvakha di Republik Rakyat Luhansk telah dibebaskan dari pendudukan Ukraina.'}\n"
     ]
    },
    {
     "name": "stderr",
     "output_type": "stream",
     "text": [
      "2022-06-16 04:41:45 [scrapy.core.scraper] DEBUG: Scraped from <200 https://international.sindonews.com/>\r\n",
      "{'Kategori': 'Eropa', 'Tanggal': 'Kamis, 16 Juni 2022 - 02:25 WIB', 'Judul': 'Milisi Donbass Tuding Pasukan Ukraina Gagalkan Koridor Kemanusiaan di Severodonetsk', 'Deskripsi': 'Tentara Ukraina yang bersembunyi di pabrik kimia Azot di Severodonetsk telah menggagalkan evakuasi warga sipil melalui koridor kemanusiaan yang disediakan oleh Rusia.'}\n"
     ]
    },
    {
     "name": "stderr",
     "output_type": "stream",
     "text": [
      "2022-06-16 04:41:45 [scrapy.core.scraper] DEBUG: Scraped from <200 https://international.sindonews.com/>\r\n",
      "{'Kategori': 'Video', 'Tanggal': 'Sabtu, 28 Mei 2022 - 17:39 WIB', 'Judul': 'Partai Perindo: Mars Partai Perindo dengan QR Code', 'Deskripsi': 'Lahir dari semangat untuk mengembalikan cita-cita kemerdekaan, Partai Perindo hadir untuk membangun Indonesia menjadi negara bersatu, berdaulat, adil dan makmur berlandaskan Pancasila.'}\n"
     ]
    },
    {
     "name": "stderr",
     "output_type": "stream",
     "text": [
      "2022-06-16 04:41:45 [scrapy.core.scraper] DEBUG: Scraped from <200 https://international.sindonews.com/>\r\n",
      "{'Kategori': 'Eropa', 'Tanggal': 'Kamis, 16 Juni 2022 - 02:13 WIB', 'Judul': 'Serang Bandara Suriah, Rusia Minta Klarifikasi Israel', 'Deskripsi': 'Rusia menyatakan keprihatinan serius kepada Duta Besar Israel terkait serangan udara yang membuat Bandara Internasional Damaskus Suriah berhenti beroperasi pekan lalu.'}\n"
     ]
    },
    {
     "name": "stderr",
     "output_type": "stream",
     "text": [
      "2022-06-16 04:41:45 [scrapy.core.scraper] DEBUG: Scraped from <200 https://international.sindonews.com/>\r\n",
      "{'Kategori': 'Eropa', 'Tanggal': 'Kamis, 16 Juni 2022 - 00:58 WIB', 'Judul': 'Suami Tak Ada Kabar, Istri Prajurit Rusia Turun ke Jalan Menuntut Jawaban', 'Deskripsi': 'Istri tentara yang berperang untuk Rusia di wilayah Donbas, Ukraina, turun ke jalan menuntut jawaban atas keberadaan suami mereka yang tidak ada kabar lebih dari 100 hari setelah invasi dimulai.'}\n"
     ]
    },
    {
     "name": "stderr",
     "output_type": "stream",
     "text": [
      "2022-06-16 04:41:45 [scrapy.core.scraper] DEBUG: Scraped from <200 https://international.sindonews.com/>\r\n",
      "{'Kategori': 'Afrika', 'Tanggal': 'Kamis, 16 Juni 2022 - 00:07 WIB', 'Judul': 'Pejabat Kongo: Jika Rwanda Inginkan Perang, Maka Mereka Akan Dapatkan', 'Deskripsi': 'Hubungan antara Rwanda dan Kongo telah penuh ketegangan selama beberapa dekade.'}\n"
     ]
    },
    {
     "name": "stderr",
     "output_type": "stream",
     "text": [
      "2022-06-16 04:41:45 [scrapy.core.scraper] DEBUG: Scraped from <200 https://international.sindonews.com/>\r\n",
      "{'Kategori': 'Asia Pasifik', 'Tanggal': 'Rabu, 15 Juni 2022 - 23:10 WIB', 'Judul': 'Sempat Tersiar, China Hapus Laporan Mendeteksi Sinyal dari Alien', 'Deskripsi': 'Sebuah laporan dari Science and Technology Daily China mengatakan bahwa teleskop raksasa milik negara itu, Sky Eye, mungkin telah menangkap tanda-tanda peradaban alien.'}\n"
     ]
    },
    {
     "name": "stderr",
     "output_type": "stream",
     "text": [
      "2022-06-16 04:41:45 [scrapy.core.scraper] DEBUG: Scraped from <200 https://international.sindonews.com/>\r\n",
      "{'Kategori': 'Amerika', 'Tanggal': 'Rabu, 15 Juni 2022 - 22:56 WIB', 'Judul': 'AS Akan Umumkan Bantuan Senjata Tambahan untuk Ukraina, Termasuk Rudal Harpoon', 'Deskripsi': 'Pemerintahan Presiden Joe Biden akan segera mengumumkan bantuan tambahan senilai USD650 juta atau sekitar Rp9,6 triliun dalam bentuk senjata dan peralatan untuk Ukraina.'}\n"
     ]
    },
    {
     "name": "stderr",
     "output_type": "stream",
     "text": [
      "2022-06-16 04:41:45 [scrapy.core.scraper] DEBUG: Scraped from <200 https://international.sindonews.com/>\r\n",
      "{'Kategori': 'Eropa', 'Tanggal': 'Rabu, 15 Juni 2022 - 22:05 WIB', 'Judul': 'Kremlin Sebut Komunikasi dengan Washington Harus Tetap Berlanjut', 'Deskripsi': 'Meski banyak memiliki perbedaan, bahkan kerap terlibat konfrontasi, namun Kremlin menyatakan bahwa komunikasi tetap penting dalam hubungan dengan Amerika Serikat (AS).'}\n"
     ]
    },
    {
     "name": "stderr",
     "output_type": "stream",
     "text": [
      "2022-06-16 04:41:45 [scrapy.core.scraper] DEBUG: Scraped from <200 https://international.sindonews.com/>\r\n",
      "{'Kategori': 'Okezone', 'Tanggal': 'Kamis, 16 Juni 2022 - 04:07 WIB', 'Judul': 'Kaget Lihat Kuntilanak, Sopir Truk Banting Setir lalu Terjun ke Jurang', 'Deskripsi': 'Sopir truk kaget melihat kuntilanak lalu banting setir hingga terjun ke jurang.'}\n"
     ]
    },
    {
     "name": "stderr",
     "output_type": "stream",
     "text": [
      "2022-06-16 04:41:45 [scrapy.core.scraper] DEBUG: Scraped from <200 https://international.sindonews.com/>\r\n",
      "{'Kategori': 'iNews', 'Tanggal': 'Kamis, 16 Juni 2022 - 01:12 WIB', 'Judul': 'KSAU Pimpin Sertijab 4 Jabatan Strategis TNI AU, Ini Daftarnya', 'Deskripsi': 'Kegiatan ini mengambil di Auditorium Mabesau Cilangkap, Jakarta Timur, Rabu (15/6/2022).'}\n"
     ]
    },
    {
     "name": "stderr",
     "output_type": "stream",
     "text": [
      "2022-06-16 04:41:45 [scrapy.core.scraper] DEBUG: Scraped from <200 https://international.sindonews.com/>\r\n",
      "{'Kategori': 'Eropa', 'Tanggal': 'Rabu, 15 Juni 2022 - 21:30 WIB', 'Judul': 'Ukraina Tuding Rusia Incar Wilayah dari Warsawa hingga Sofia', 'Deskripsi': 'Rusia tidak hanya tertarik pada (kota) Mariupol, Sievierodonetsk, Kharkiv dan Kiev kami. Tidak, ambisinya diarahkan pada wilayah yang luas dari Warsawa hingga Sofia, kata Zelensky.'}\n"
     ]
    },
    {
     "name": "stderr",
     "output_type": "stream",
     "text": [
      "2022-06-16 04:41:45 [scrapy.core.scraper] DEBUG: Scraped from <200 https://international.sindonews.com/>\r\n",
      "{'Kategori': 'Timur Tengah', 'Tanggal': 'Rabu, 15 Juni 2022 - 21:00 WIB', 'Judul': 'Iran Mengaku Sedang Merencanakan Peluncuran Roket', 'Deskripsi': 'Pengakuan ini dilontarkan Teheran setelah foto-foto satelit menunjukkan persiapan di landasan peluncuran gurun yang sebelumnya digunakan dalam program tersebut.'}\n"
     ]
    },
    {
     "name": "stderr",
     "output_type": "stream",
     "text": [
      "2022-06-16 04:41:45 [scrapy.core.scraper] DEBUG: Scraped from <200 https://international.sindonews.com/>\r\n",
      "{'Kategori': 'Asia Pasifik', 'Tanggal': 'Rabu, 15 Juni 2022 - 20:21 WIB', 'Judul': 'Xi Jinping Yakinkan Putin, China Akan Terus Dukung Rusia', 'Deskripsi': 'Presiden China Xi Jinping mengatakan kepada timpalannya dari Rusia Vladimir Putin melalui telepon pada Rabu (15/6/2022), bahwa Beijing akan terus mendukung Moskow pada kedaulatan dan keamanan.'}\n"
     ]
    },
    {
     "name": "stderr",
     "output_type": "stream",
     "text": [
      "2022-06-16 04:41:45 [scrapy.core.scraper] DEBUG: Scraped from <200 https://international.sindonews.com/>\r\n",
      "{'Kategori': 'Asia Pasifik', 'Tanggal': 'Rabu, 15 Juni 2022 - 19:40 WIB', 'Judul': 'Agama Warga Negara India dan Persentasenya', 'Deskripsi': 'Negara ini menduduki urutan kedua sebagai negara dengan penduduk terbanyak di dunia, dengan populasi kurang lebih 1.406.631.776 jiwa pada tahun 2022.'}\n"
     ]
    },
    {
     "name": "stderr",
     "output_type": "stream",
     "text": [
      "2022-06-16 04:41:45 [scrapy.core.scraper] DEBUG: Scraped from <200 https://international.sindonews.com/>\r\n",
      "{'Kategori': 'Eropa', 'Tanggal': 'Rabu, 15 Juni 2022 - 19:09 WIB', 'Judul': 'Rusia Akan Evakuasi Warga Sipil dari Pabrik Kimia Severodonetsk', 'Deskripsi': 'Rusia menyatakan akan membangun koridor kemanusiaan untuk mengevakuasi warga sipil dari pabrik kimia di Severodonetsk mulai Rabu (15/6/2022), saat pasukan Ukraina berjuang mati-matian untuk menguasai kota itu.'}\n"
     ]
    },
    {
     "name": "stderr",
     "output_type": "stream",
     "text": [
      "2022-06-16 04:41:45 [scrapy.core.scraper] DEBUG: Scraped from <200 https://international.sindonews.com/>\r\n",
      "{'Kategori': 'Eropa', 'Tanggal': 'Rabu, 15 Juni 2022 - 18:30 WIB', 'Judul': 'Macron: Prancis Akan Lakukan Segalanya untuk Hentikan Pasukan Rusia', 'Deskripsi': 'Presiden Emmanuel Macron mulai bersuara keras pada Rusia, setelah ia mengunjungi pasukan Prancis dan sekutu di pangkalan NATO di Rumania, Rabu (15/6/2022).'}\n"
     ]
    },
    {
     "name": "stderr",
     "output_type": "stream",
     "text": [
      "2022-06-16 04:41:45 [scrapy.core.scraper] DEBUG: Scraped from <200 https://international.sindonews.com/>\r\n",
      "{'Kategori': 'Asia Pasifik', 'Tanggal': 'Rabu, 15 Juni 2022 - 17:52 WIB', 'Judul': 'India Rombak Proses Rekrutmen Militer, Cari Pasukan yang Lebih Muda', 'Deskripsi': 'Militer India sedang merombak proses rekrutmen untuk personel di bawah pangkat perwira. Langkah ini bertujuan untuk mengerahkan pasukan yang lebih muda dan lebih bugar di garis depan.'}\n"
     ]
    },
    {
     "name": "stderr",
     "output_type": "stream",
     "text": [
      "2022-06-16 04:41:45 [scrapy.core.scraper] DEBUG: Scraped from <200 https://international.sindonews.com/>\r\n",
      "{'Kategori': 'Asia Pasifik', 'Tanggal': 'Rabu, 15 Juni 2022 - 16:59 WIB', 'Judul': 'Pelapor Khusus PBB: Junta Myanmar Siksa dan Bunuh Anak-anak', 'Deskripsi': 'Puluhan anak telah tewas di Myanmar sejak kudeta tahun lalu. Anak-anak itu tak hanya tewas dalam baku tembak konflik, tetapi juga menjadi sasaran yang disengaja dari militer.'}\n"
     ]
    },
    {
     "name": "stderr",
     "output_type": "stream",
     "text": [
      "2022-06-16 04:41:45 [scrapy.core.scraper] DEBUG: Scraped from <200 https://international.sindonews.com/>\r\n",
      "{'Kategori': 'Timur Tengah', 'Tanggal': 'Rabu, 15 Juni 2022 - 16:56 WIB', 'Judul': 'Kisah Sultan Abdulmejid 1, Penguasa Turki Utsmani Penolong Warga Kristen Irlandia dari Kelaparan', 'Deskripsi': 'Di pertengahan abad ke-19 atau pada tahun 1845 hingga 1852, bencana kelaparan terjadi di Irlandia sampai menyebabkan lebih dari satu juta kematian.'}\n"
     ]
    },
    {
     "name": "stderr",
     "output_type": "stream",
     "text": [
      "2022-06-16 04:41:45 [scrapy.core.scraper] DEBUG: Scraped from <200 https://international.sindonews.com/>\r\n",
      "{'Kategori': 'Eropa', 'Tanggal': 'Rabu, 15 Juni 2022 - 16:30 WIB', 'Judul': 'Ukraina Kian Terdesak di Front Timur, Zelensky Minta Suplai Senjata Anti Rudal', 'Deskripsi': 'Pasukan Ukraina menderita kerugian yang menyakitkan dalam memerangi pasukan Rusia di kota timur Sievierodonetsk dan wilayah Kharkiv. Zelensky pun kembali meminta bantuan suplai senjata dari Barat.'}\n"
     ]
    },
    {
     "name": "stderr",
     "output_type": "stream",
     "text": [
      "2022-06-16 04:41:45 [scrapy.core.scraper] DEBUG: Scraped from <200 https://international.sindonews.com/>\r\n",
      "{'Kategori': 'Eropa', 'Tanggal': 'Rabu, 15 Juni 2022 - 15:21 WIB', 'Judul': 'Dubes Rusia Prihatin AS Akan Kirim Lebih Banyak Artileri Roket HIMARS ke Ukraina', 'Deskripsi': 'Pada awal bulan ini, Presiden AS Joe Biden mengumumkan paket bantuan militer baru untuk Ukraina di tengah kerugian teritorial Kiev terhadap pasukan Rusia di Donbass.'}\n"
     ]
    },
    {
     "name": "stderr",
     "output_type": "stream",
     "text": [
      "2022-06-16 04:41:45 [scrapy.core.scraper] DEBUG: Scraped from <200 https://international.sindonews.com/>\r\n",
      "{'Kategori': 'Eropa', 'Tanggal': 'Rabu, 15 Juni 2022 - 15:00 WIB', 'Judul': 'Profil Sheikh Yasser Al-habib, Penulis Skenario Film The Lady of Heaven yang Dilarang di Banyak Negara', 'Deskripsi': 'Dunia perfilman akhir-akhir ini dibuat geger dengan rilisnya film The Lady of Heaven. Film bertema drama sejarah yang disutradarai Eli King ini skenarionya ditulis Sheikh Yasser Al-Habib.'}\n"
     ]
    },
    {
     "name": "stderr",
     "output_type": "stream",
     "text": [
      "2022-06-16 04:41:45 [scrapy.core.scraper] DEBUG: Scraped from <200 https://international.sindonews.com/>\r\n",
      "{'Kategori': 'Amerika', 'Tanggal': 'Rabu, 15 Juni 2022 - 14:25 WIB', 'Judul': 'AS akan Kirim Rudal Kendali Berat ke Ukraina, Bisa Kenai Target 70 Km', 'Deskripsi': 'Amerika Serikat (AS) mengirim rudal berpemandu berat ke Ukraina dengan jangkauan 70 km untuk digunakan dengan beberapa peluncur roket HIMARS.'}\n"
     ]
    },
    {
     "name": "stderr",
     "output_type": "stream",
     "text": [
      "2022-06-16 04:41:45 [scrapy.core.scraper] DEBUG: Scraped from <200 https://international.sindonews.com/>\r\n",
      "{'Kategori': 'Eropa', 'Tanggal': 'Rabu, 15 Juni 2022 - 13:40 WIB', 'Judul': 'LPR: 1.200 Warga Sipil Mungkin Ditahan Radikal di Pabrik Azot Severodonetsk', 'Deskripsi': 'Republik Rakyat Luhansk (LPR) menyatakan sekitar 1.200 warga sipil mungkin ditahan kelompok radikal di pabrik Azot, Severodonetsk.'}\n"
     ]
    },
    {
     "name": "stderr",
     "output_type": "stream",
     "text": [
      "2022-06-16 04:41:45 [scrapy.core.scraper] DEBUG: Scraped from <200 https://international.sindonews.com/>\r\n",
      "{'Kategori': 'Timur Tengah', 'Tanggal': 'Rabu, 15 Juni 2022 - 12:37 WIB', 'Judul': 'Terpukul Dampak Perang, Ukraina Ajukan Utang ke Israel Senilai Rp7 Triliun', 'Deskripsi': 'Ukraina telah meminta Israel memberi pinjaman USD500 juta (Rp7 triliun) karena ekonominya terus terkena dampak perang.'}\n"
     ]
    },
    {
     "name": "stderr",
     "output_type": "stream",
     "text": [
      "2022-06-16 04:41:45 [scrapy.core.scraper] DEBUG: Scraped from <200 https://international.sindonews.com/>\r\n",
      "{'Kategori': 'Timur Tengah', 'Tanggal': 'Rabu, 15 Juni 2022 - 11:45 WIB', 'Judul': 'Detik-detik Warga Israel di Turki Diselamatkan sebelum Pembunuh Serang Hotel', 'Deskripsi': 'Beberapa warga Israel yang mengunjungi Istanbul dijemput dan diterbangkan keluar dari Turki oleh pejabat keamanan Israel untuk menyelamatkan mereka dari pembunuh Iran yang menunggu untuk membunuh mereka di hotel mereka.'}\n"
     ]
    },
    {
     "name": "stderr",
     "output_type": "stream",
     "text": [
      "2022-06-16 04:41:45 [scrapy.core.scraper] DEBUG: Scraped from <200 https://international.sindonews.com/>\r\n",
      "{'Kategori': 'Amerika', 'Tanggal': 'Rabu, 15 Juni 2022 - 10:27 WIB', 'Judul': 'AS Sebut Selat Taiwan Jalur Perairan Internasional, China Marah', 'Deskripsi': 'Amerika Serikat (AS) pada Selasa (14/6/2022) mendukung pernyataan Taiwan bahwa selat yang memisahkan pulau itu dari daratan China adalah jalur perairan internasional.'}\n"
     ]
    },
    {
     "name": "stderr",
     "output_type": "stream",
     "text": [
      "2022-06-16 04:41:45 [scrapy.core.scraper] DEBUG: Scraped from <200 https://international.sindonews.com/>\r\n",
      "{'Kategori': 'Timur Tengah', 'Tanggal': 'Rabu, 15 Juni 2022 - 09:18 WIB', 'Judul': 'Citra Satelit Ungkap Iran Bersiap untuk Peluncuran Roket', 'Deskripsi': 'Iran tampaknya bersiap untuk peluncuran luar angkasa pada Selasa (14/6/2022) saat citra satelit menunjukkan roket di landasan peluncuran gurun pedesaan.'}\n"
     ]
    },
    {
     "name": "stderr",
     "output_type": "stream",
     "text": [
      "2022-06-16 04:41:45 [scrapy.core.scraper] DEBUG: Scraped from <200 https://international.sindonews.com/>\r\n",
      "{'Kategori': 'Eropa', 'Tanggal': 'Rabu, 15 Juni 2022 - 08:22 WIB', 'Judul': 'NATO Janjikan Lebih Banyak Senjata Berat untuk Ukraina', 'Deskripsi': 'Ukraina harus mendapatkan lebih banyak senjata berat NATO. Sekretaris Jenderal NATO Jens Stoltenberg mengungkapkan hal itu pada Selasa (14/6/2022).'}\n"
     ]
    },
    {
     "name": "stderr",
     "output_type": "stream",
     "text": [
      "2022-06-16 04:41:45 [scrapy.core.scraper] DEBUG: Scraped from <200 https://international.sindonews.com/>\r\n",
      "{'Kategori': 'Amerika', 'Tanggal': 'Rabu, 15 Juni 2022 - 07:33 WIB', 'Judul': 'Kanada dan Denmark Akhiri Perang Wiski, Pulau Hans Dibagi Dua', 'Deskripsi': 'Kanada dan Denmark akhirnya secara resmi setuju membagi dua Pulau Hans yang terletak di tengah perbatasan Arktik mereka, di antara mereka sendiri.'}\n"
     ]
    },
    {
     "name": "stderr",
     "output_type": "stream",
     "text": [
      "2022-06-16 04:41:45 [scrapy.core.scraper] DEBUG: Scraped from <200 https://international.sindonews.com/>\r\n",
      "{'Kategori': 'Eropa', 'Tanggal': 'Rabu, 15 Juni 2022 - 06:52 WIB', 'Judul': 'Ajudan Zelensky Ungkap Alasan Ukraina Pilih Perang Kota', 'Deskripsi': 'Mengambil posisi di kota-kota adalah taktik yang diperhitungkan militer Ukraina untuk meminimalkan kerugian mereka sendiri dan memaksimalkan kerugian pasukan Rusia.'}\n"
     ]
    },
    {
     "name": "stderr",
     "output_type": "stream",
     "text": [
      "2022-06-16 04:41:45 [scrapy.core.engine] INFO: Closing spider (finished)\n"
     ]
    },
    {
     "name": "stderr",
     "output_type": "stream",
     "text": [
      "2022-06-16 04:41:45 [scrapy.extensions.feedexport] INFO: Stored csv feed (33 items) in: internasional.csv\n"
     ]
    },
    {
     "name": "stderr",
     "output_type": "stream",
     "text": [
      "2022-06-16 04:41:45 [scrapy.statscollectors] INFO: Dumping Scrapy stats:\n",
      "{'downloader/request_bytes': 467,\n",
      " 'downloader/request_count': 2,\n",
      " 'downloader/request_method_count/GET': 2,\n",
      " 'downloader/response_bytes': 25073,\n",
      " 'downloader/response_count': 2,\n",
      " 'downloader/response_status_count/200': 1,\n",
      " 'downloader/response_status_count/301': 1,\n",
      " 'elapsed_time_seconds': 1.480911,\n",
      " 'feedexport/success_count/FileFeedStorage': 1,\n",
      " 'finish_reason': 'finished',\n",
      " 'finish_time': datetime.datetime(2022, 6, 15, 21, 41, 45, 867005),\n",
      " 'httpcompression/response_bytes': 109400,\n",
      " 'httpcompression/response_count': 1,\n",
      " 'item_scraped_count': 33,\n",
      " 'log_count/DEBUG': 44,\n",
      " 'log_count/INFO': 11,\n",
      " 'log_count/WARNING': 1,\n",
      " 'response_received_count': 1,\n",
      " 'scheduler/dequeued': 2,\n",
      " 'scheduler/dequeued/memory': 2,\n",
      " 'scheduler/enqueued': 2,\n",
      " 'scheduler/enqueued/memory': 2,\n",
      " 'start_time': datetime.datetime(2022, 6, 15, 21, 41, 44, 386094)}\n"
     ]
    },
    {
     "name": "stderr",
     "output_type": "stream",
     "text": [
      "2022-06-16 04:41:45 [scrapy.core.engine] INFO: Spider closed (finished)\n"
     ]
    }
   ],
   "source": [
    "import scrapy\n",
    "from scrapy.crawler import CrawlerProcess\n",
    "\n",
    "class Spider(scrapy.Spider):\n",
    "    name = \"sindonews\"\n",
    "    keyword = 'international'\n",
    "    start_urls = [\n",
    "        'https://international.sindonews.com/'+keyword\n",
    "        ]\n",
    "    custom_settings = {\n",
    "        'FEED_FORMAT': 'csv',\n",
    "        'FEED_URI': 'internasional.csv'\n",
    "        }\n",
    "\n",
    "    def parse(self, response):\n",
    "        for data in response.css('div.homelist-box'):\n",
    "            yield {\n",
    "                'Kategori': data.css('div.homelist-channel::text').get(),\n",
    "                'Tanggal': data.css('div.homelist-date::text').get(),\n",
    "                'Judul': data.css('div.homelist-title a::text').get(),\n",
    "                'Deskripsi': data.css('div.homelist-desc::text').get()\n",
    "                }\n",
    "proses = CrawlerProcess()\n",
    "proses.crawl(Spider)\n",
    "proses.start()\n"
   ]
  },
  {
   "cell_type": "markdown",
   "metadata": {
    "id": "V3r8tjSGPNi4"
   },
   "source": [
    "Import Library"
   ]
  },
  {
   "cell_type": "code",
   "execution_count": 3,
   "metadata": {
    "colab": {
     "base_uri": "https://localhost:8080/"
    },
    "id": "h6HLpfaGf_OY",
    "outputId": "3e6adf31-2d9c-4c19-ea5e-5f20f3333a91"
   },
   "outputs": [
    {
     "name": "stdout",
     "output_type": "stream",
     "text": [
      "Requirement already satisfied: numpy in c:\\users\\asus\\appdata\\local\\programs\\python\\python38-32\\lib\\site-packages (1.19.4)\n"
     ]
    },
    {
     "name": "stderr",
     "output_type": "stream",
     "text": [
      "WARNING: Ignoring invalid distribution -ip (c:\\users\\asus\\appdata\\local\\programs\\python\\python38-32\\lib\\site-packages)\n",
      "WARNING: Ignoring invalid distribution -ip (c:\\users\\asus\\appdata\\local\\programs\\python\\python38-32\\lib\\site-packages)\n",
      "WARNING: Ignoring invalid distribution -ip (c:\\users\\asus\\appdata\\local\\programs\\python\\python38-32\\lib\\site-packages)\n",
      "WARNING: Ignoring invalid distribution -ip (c:\\users\\asus\\appdata\\local\\programs\\python\\python38-32\\lib\\site-packages)\n",
      "WARNING: Ignoring invalid distribution -ip (c:\\users\\asus\\appdata\\local\\programs\\python\\python38-32\\lib\\site-packages)\n",
      "WARNING: Ignoring invalid distribution -ip (c:\\users\\asus\\appdata\\local\\programs\\python\\python38-32\\lib\\site-packages)\n"
     ]
    },
    {
     "name": "stdout",
     "output_type": "stream",
     "text": [
      "Requirement already satisfied: pandas in c:\\users\\asus\\appdata\\local\\programs\\python\\python38-32\\lib\\site-packages (1.2.0)\n",
      "Requirement already satisfied: numpy>=1.16.5 in c:\\users\\asus\\appdata\\local\\programs\\python\\python38-32\\lib\\site-packages (from pandas) (1.19.4)\n",
      "Requirement already satisfied: pytz>=2017.3 in c:\\users\\asus\\appdata\\local\\programs\\python\\python38-32\\lib\\site-packages (from pandas) (2020.5)\n",
      "Requirement already satisfied: python-dateutil>=2.7.3 in c:\\users\\asus\\appdata\\local\\programs\\python\\python38-32\\lib\\site-packages (from pandas) (2.8.1)\n",
      "Requirement already satisfied: six>=1.5 in c:\\users\\asus\\appdata\\roaming\\python\\python38\\site-packages (from python-dateutil>=2.7.3->pandas) (1.15.0)\n"
     ]
    },
    {
     "name": "stderr",
     "output_type": "stream",
     "text": [
      "WARNING: Ignoring invalid distribution -ip (c:\\users\\asus\\appdata\\local\\programs\\python\\python38-32\\lib\\site-packages)\n",
      "WARNING: Ignoring invalid distribution -ip (c:\\users\\asus\\appdata\\local\\programs\\python\\python38-32\\lib\\site-packages)\n",
      "WARNING: Ignoring invalid distribution -ip (c:\\users\\asus\\appdata\\local\\programs\\python\\python38-32\\lib\\site-packages)\n",
      "WARNING: Ignoring invalid distribution -ip (c:\\users\\asus\\appdata\\local\\programs\\python\\python38-32\\lib\\site-packages)\n",
      "WARNING: Ignoring invalid distribution -ip (c:\\users\\asus\\appdata\\local\\programs\\python\\python38-32\\lib\\site-packages)\n",
      "WARNING: Ignoring invalid distribution -ip (c:\\users\\asus\\appdata\\local\\programs\\python\\python38-32\\lib\\site-packages)\n"
     ]
    },
    {
     "name": "stdout",
     "output_type": "stream",
     "text": [
      "Requirement already satisfied: nltk in c:\\users\\asus\\appdata\\local\\programs\\python\\python38-32\\lib\\site-packages (3.7)\n",
      "Requirement already satisfied: tqdm in c:\\users\\asus\\appdata\\local\\programs\\python\\python38-32\\lib\\site-packages (from nltk) (4.63.1)\n",
      "Requirement already satisfied: regex>=2021.8.3 in c:\\users\\asus\\appdata\\local\\programs\\python\\python38-32\\lib\\site-packages (from nltk) (2022.3.15)\n",
      "Requirement already satisfied: joblib in c:\\users\\asus\\appdata\\local\\programs\\python\\python38-32\\lib\\site-packages (from nltk) (1.1.0)\n",
      "Requirement already satisfied: click in c:\\users\\asus\\appdata\\local\\programs\\python\\python38-32\\lib\\site-packages (from nltk) (7.1.2)\n",
      "Requirement already satisfied: colorama in c:\\users\\asus\\appdata\\roaming\\python\\python38\\site-packages (from tqdm->nltk) (0.4.3)\n"
     ]
    },
    {
     "name": "stderr",
     "output_type": "stream",
     "text": [
      "WARNING: Ignoring invalid distribution -ip (c:\\users\\asus\\appdata\\local\\programs\\python\\python38-32\\lib\\site-packages)\n",
      "WARNING: Ignoring invalid distribution -ip (c:\\users\\asus\\appdata\\local\\programs\\python\\python38-32\\lib\\site-packages)\n",
      "WARNING: Ignoring invalid distribution -ip (c:\\users\\asus\\appdata\\local\\programs\\python\\python38-32\\lib\\site-packages)\n",
      "WARNING: Ignoring invalid distribution -ip (c:\\users\\asus\\appdata\\local\\programs\\python\\python38-32\\lib\\site-packages)\n",
      "WARNING: Ignoring invalid distribution -ip (c:\\users\\asus\\appdata\\local\\programs\\python\\python38-32\\lib\\site-packages)\n",
      "WARNING: Ignoring invalid distribution -ip (c:\\users\\asus\\appdata\\local\\programs\\python\\python38-32\\lib\\site-packages)\n"
     ]
    },
    {
     "name": "stdout",
     "output_type": "stream",
     "text": [
      "Requirement already satisfied: swifter in c:\\users\\asus\\appdata\\local\\programs\\python\\python38-32\\lib\\site-packages (1.1.2)\n",
      "Requirement already satisfied: cloudpickle>=0.2.2 in c:\\users\\asus\\appdata\\local\\programs\\python\\python38-32\\lib\\site-packages (from swifter) (2.0.0)\n",
      "Requirement already satisfied: tqdm>=4.33.0 in c:\\users\\asus\\appdata\\local\\programs\\python\\python38-32\\lib\\site-packages (from swifter) (4.63.1)\n",
      "Requirement already satisfied: ipywidgets>=7.0.0 in c:\\users\\asus\\appdata\\local\\programs\\python\\python38-32\\lib\\site-packages (from swifter) (7.7.0)\n",
      "Requirement already satisfied: pandas>=1.0.0 in c:\\users\\asus\\appdata\\local\\programs\\python\\python38-32\\lib\\site-packages (from swifter) (1.2.0)\n",
      "Requirement already satisfied: dask[dataframe]>=2.10.0 in c:\\users\\asus\\appdata\\local\\programs\\python\\python38-32\\lib\\site-packages (from swifter) (2022.3.0)\n",
      "Requirement already satisfied: bleach>=3.1.1 in c:\\users\\asus\\appdata\\local\\programs\\python\\python38-32\\lib\\site-packages (from swifter) (4.1.0)\n",
      "Requirement already satisfied: parso>0.4.0 in c:\\users\\asus\\appdata\\local\\programs\\python\\python38-32\\lib\\site-packages (from swifter) (0.8.3)\n",
      "Requirement already satisfied: psutil>=5.6.6 in c:\\users\\asus\\appdata\\local\\programs\\python\\python38-32\\lib\\site-packages (from swifter) (5.9.0)\n",
      "Requirement already satisfied: webencodings in c:\\users\\asus\\appdata\\local\\programs\\python\\python38-32\\lib\\site-packages (from bleach>=3.1.1->swifter) (0.5.1)\n",
      "Requirement already satisfied: six>=1.9.0 in c:\\users\\asus\\appdata\\roaming\\python\\python38\\site-packages (from bleach>=3.1.1->swifter) (1.15.0)\n",
      "Requirement already satisfied: packaging in c:\\users\\asus\\appdata\\local\\programs\\python\\python38-32\\lib\\site-packages (from bleach>=3.1.1->swifter) (21.3)\n",
      "Requirement already satisfied: toolz>=0.8.2 in c:\\users\\asus\\appdata\\local\\programs\\python\\python38-32\\lib\\site-packages (from dask[dataframe]>=2.10.0->swifter) (0.11.2)\n",
      "Requirement already satisfied: pyyaml>=5.3.1 in c:\\users\\asus\\appdata\\local\\programs\\python\\python38-32\\lib\\site-packages (from dask[dataframe]>=2.10.0->swifter) (6.0)\n",
      "Requirement already satisfied: fsspec>=0.6.0 in c:\\users\\asus\\appdata\\local\\programs\\python\\python38-32\\lib\\site-packages (from dask[dataframe]>=2.10.0->swifter) (2022.2.0)\n",
      "Requirement already satisfied: partd>=0.3.10 in c:\\users\\asus\\appdata\\local\\programs\\python\\python38-32\\lib\\site-packages (from dask[dataframe]>=2.10.0->swifter) (1.2.0)\n",
      "Requirement already satisfied: numpy>=1.18 in c:\\users\\asus\\appdata\\local\\programs\\python\\python38-32\\lib\\site-packages (from dask[dataframe]>=2.10.0->swifter) (1.19.4)\n",
      "Requirement already satisfied: traitlets>=4.3.1 in c:\\users\\asus\\appdata\\local\\programs\\python\\python38-32\\lib\\site-packages (from ipywidgets>=7.0.0->swifter) (5.1.1)\n",
      "Requirement already satisfied: ipython-genutils~=0.2.0 in c:\\users\\asus\\appdata\\local\\programs\\python\\python38-32\\lib\\site-packages (from ipywidgets>=7.0.0->swifter) (0.2.0)\n",
      "Requirement already satisfied: nbformat>=4.2.0 in c:\\users\\asus\\appdata\\local\\programs\\python\\python38-32\\lib\\site-packages (from ipywidgets>=7.0.0->swifter) (5.4.0)\n",
      "Requirement already satisfied: widgetsnbextension~=3.6.0 in c:\\users\\asus\\appdata\\local\\programs\\python\\python38-32\\lib\\site-packages (from ipywidgets>=7.0.0->swifter) (3.6.0)\n",
      "Requirement already satisfied: ipython>=4.0.0 in c:\\users\\asus\\appdata\\local\\programs\\python\\python38-32\\lib\\site-packages (from ipywidgets>=7.0.0->swifter) (8.1.1)\n",
      "Requirement already satisfied: jupyterlab-widgets>=1.0.0 in c:\\users\\asus\\appdata\\local\\programs\\python\\python38-32\\lib\\site-packages (from ipywidgets>=7.0.0->swifter) (1.1.0)\n",
      "Requirement already satisfied: ipykernel>=4.5.1 in c:\\users\\asus\\appdata\\local\\programs\\python\\python38-32\\lib\\site-packages (from ipywidgets>=7.0.0->swifter) (6.9.1)\n",
      "Requirement already satisfied: pytz>=2017.3 in c:\\users\\asus\\appdata\\local\\programs\\python\\python38-32\\lib\\site-packages (from pandas>=1.0.0->swifter) (2020.5)\n",
      "Requirement already satisfied: python-dateutil>=2.7.3 in c:\\users\\asus\\appdata\\local\\programs\\python\\python38-32\\lib\\site-packages (from pandas>=1.0.0->swifter) (2.8.1)\n",
      "Requirement already satisfied: colorama in c:\\users\\asus\\appdata\\roaming\\python\\python38\\site-packages (from tqdm>=4.33.0->swifter) (0.4.3)\n",
      "Requirement already satisfied: jupyter-client<8.0 in c:\\users\\asus\\appdata\\local\\programs\\python\\python38-32\\lib\\site-packages (from ipykernel>=4.5.1->ipywidgets>=7.0.0->swifter) (7.1.2)\n",
      "Requirement already satisfied: tornado<7.0,>=4.2 in c:\\users\\asus\\appdata\\local\\programs\\python\\python38-32\\lib\\site-packages (from ipykernel>=4.5.1->ipywidgets>=7.0.0->swifter) (6.1)\n",
      "Requirement already satisfied: matplotlib-inline<0.2.0,>=0.1.0 in c:\\users\\asus\\appdata\\local\\programs\\python\\python38-32\\lib\\site-packages (from ipykernel>=4.5.1->ipywidgets>=7.0.0->swifter) (0.1.3)\n",
      "Requirement already satisfied: debugpy<2.0,>=1.0.0 in c:\\users\\asus\\appdata\\local\\programs\\python\\python38-32\\lib\\site-packages (from ipykernel>=4.5.1->ipywidgets>=7.0.0->swifter) (1.5.1)\n",
      "Requirement already satisfied: nest-asyncio in c:\\users\\asus\\appdata\\local\\programs\\python\\python38-32\\lib\\site-packages (from ipykernel>=4.5.1->ipywidgets>=7.0.0->swifter) (1.5.4)\n",
      "Requirement already satisfied: pickleshare in c:\\users\\asus\\appdata\\local\\programs\\python\\python38-32\\lib\\site-packages (from ipython>=4.0.0->ipywidgets>=7.0.0->swifter) (0.7.5)\n",
      "Requirement already satisfied: prompt-toolkit!=3.0.0,!=3.0.1,<3.1.0,>=2.0.0 in c:\\users\\asus\\appdata\\local\\programs\\python\\python38-32\\lib\\site-packages (from ipython>=4.0.0->ipywidgets>=7.0.0->swifter) (3.0.28)\n",
      "Requirement already satisfied: stack-data in c:\\users\\asus\\appdata\\local\\programs\\python\\python38-32\\lib\\site-packages (from ipython>=4.0.0->ipywidgets>=7.0.0->swifter) (0.2.0)\n",
      "Requirement already satisfied: pygments>=2.4.0 in c:\\users\\asus\\appdata\\local\\programs\\python\\python38-32\\lib\\site-packages (from ipython>=4.0.0->ipywidgets>=7.0.0->swifter) (2.11.2)\n",
      "Requirement already satisfied: setuptools>=18.5 in c:\\users\\asus\\appdata\\local\\programs\\python\\python38-32\\lib\\site-packages (from ipython>=4.0.0->ipywidgets>=7.0.0->swifter) (47.1.0)\n",
      "Requirement already satisfied: decorator in c:\\users\\asus\\appdata\\local\\programs\\python\\python38-32\\lib\\site-packages (from ipython>=4.0.0->ipywidgets>=7.0.0->swifter) (5.1.1)\n",
      "Requirement already satisfied: jedi>=0.16 in c:\\users\\asus\\appdata\\local\\programs\\python\\python38-32\\lib\\site-packages (from ipython>=4.0.0->ipywidgets>=7.0.0->swifter) (0.18.1)\n",
      "Requirement already satisfied: backcall in c:\\users\\asus\\appdata\\local\\programs\\python\\python38-32\\lib\\site-packages (from ipython>=4.0.0->ipywidgets>=7.0.0->swifter) (0.2.0)\n",
      "Requirement already satisfied: jsonschema>=2.6 in c:\\users\\asus\\appdata\\local\\programs\\python\\python38-32\\lib\\site-packages (from nbformat>=4.2.0->ipywidgets>=7.0.0->swifter) (3.2.0)\n",
      "Requirement already satisfied: fastjsonschema in c:\\users\\asus\\appdata\\local\\programs\\python\\python38-32\\lib\\site-packages (from nbformat>=4.2.0->ipywidgets>=7.0.0->swifter) (2.15.3)\n",
      "Requirement already satisfied: jupyter-core in c:\\users\\asus\\appdata\\local\\programs\\python\\python38-32\\lib\\site-packages (from nbformat>=4.2.0->ipywidgets>=7.0.0->swifter) (4.9.2)\n",
      "Requirement already satisfied: pyparsing!=3.0.5,>=2.0.2 in c:\\users\\asus\\appdata\\local\\programs\\python\\python38-32\\lib\\site-packages (from packaging->bleach>=3.1.1->swifter) (2.4.7)\n",
      "Requirement already satisfied: locket in c:\\users\\asus\\appdata\\local\\programs\\python\\python38-32\\lib\\site-packages (from partd>=0.3.10->dask[dataframe]>=2.10.0->swifter) (0.2.1)\n",
      "Requirement already satisfied: notebook>=4.4.1 in c:\\users\\asus\\appdata\\local\\programs\\python\\python38-32\\lib\\site-packages (from widgetsnbextension~=3.6.0->ipywidgets>=7.0.0->swifter) (6.4.8)\n",
      "Requirement already satisfied: attrs>=17.4.0 in c:\\users\\asus\\appdata\\local\\programs\\python\\python38-32\\lib\\site-packages (from jsonschema>=2.6->nbformat>=4.2.0->ipywidgets>=7.0.0->swifter) (21.4.0)\n",
      "Requirement already satisfied: pyrsistent>=0.14.0 in c:\\users\\asus\\appdata\\local\\programs\\python\\python38-32\\lib\\site-packages (from jsonschema>=2.6->nbformat>=4.2.0->ipywidgets>=7.0.0->swifter) (0.18.1)\n",
      "Requirement already satisfied: entrypoints in c:\\users\\asus\\appdata\\local\\programs\\python\\python38-32\\lib\\site-packages (from jupyter-client<8.0->ipykernel>=4.5.1->ipywidgets>=7.0.0->swifter) (0.4)\n",
      "Requirement already satisfied: pyzmq>=13 in c:\\users\\asus\\appdata\\local\\programs\\python\\python38-32\\lib\\site-packages (from jupyter-client<8.0->ipykernel>=4.5.1->ipywidgets>=7.0.0->swifter) (22.3.0)\n",
      "Requirement already satisfied: pywin32>=1.0 in c:\\users\\asus\\appdata\\local\\programs\\python\\python38-32\\lib\\site-packages (from jupyter-core->nbformat>=4.2.0->ipywidgets>=7.0.0->swifter) (303)\n",
      "Requirement already satisfied: argon2-cffi in c:\\users\\asus\\appdata\\local\\programs\\python\\python38-32\\lib\\site-packages (from notebook>=4.4.1->widgetsnbextension~=3.6.0->ipywidgets>=7.0.0->swifter) (21.3.0)\n",
      "Requirement already satisfied: terminado>=0.8.3 in c:\\users\\asus\\appdata\\local\\programs\\python\\python38-32\\lib\\site-packages (from notebook>=4.4.1->widgetsnbextension~=3.6.0->ipywidgets>=7.0.0->swifter) (0.9.5)\n",
      "Requirement already satisfied: jinja2 in c:\\users\\asus\\appdata\\local\\programs\\python\\python38-32\\lib\\site-packages (from notebook>=4.4.1->widgetsnbextension~=3.6.0->ipywidgets>=7.0.0->swifter) (3.0.3)\n",
      "Requirement already satisfied: Send2Trash>=1.8.0 in c:\\users\\asus\\appdata\\local\\programs\\python\\python38-32\\lib\\site-packages (from notebook>=4.4.1->widgetsnbextension~=3.6.0->ipywidgets>=7.0.0->swifter) (1.8.0)\n",
      "Requirement already satisfied: prometheus-client in c:\\users\\asus\\appdata\\local\\programs\\python\\python38-32\\lib\\site-packages (from notebook>=4.4.1->widgetsnbextension~=3.6.0->ipywidgets>=7.0.0->swifter) (0.13.1)\n",
      "Requirement already satisfied: nbconvert in c:\\users\\asus\\appdata\\local\\programs\\python\\python38-32\\lib\\site-packages (from notebook>=4.4.1->widgetsnbextension~=3.6.0->ipywidgets>=7.0.0->swifter) (6.5.0)\n",
      "Requirement already satisfied: wcwidth in c:\\users\\asus\\appdata\\local\\programs\\python\\python38-32\\lib\\site-packages (from prompt-toolkit!=3.0.0,!=3.0.1,<3.1.0,>=2.0.0->ipython>=4.0.0->ipywidgets>=7.0.0->swifter) (0.2.5)\n",
      "Requirement already satisfied: executing in c:\\users\\asus\\appdata\\local\\programs\\python\\python38-32\\lib\\site-packages (from stack-data->ipython>=4.0.0->ipywidgets>=7.0.0->swifter) (0.8.3)\n",
      "Requirement already satisfied: asttokens in c:\\users\\asus\\appdata\\local\\programs\\python\\python38-32\\lib\\site-packages (from stack-data->ipython>=4.0.0->ipywidgets>=7.0.0->swifter) (2.0.5)\n",
      "Requirement already satisfied: pure-eval in c:\\users\\asus\\appdata\\local\\programs\\python\\python38-32\\lib\\site-packages (from stack-data->ipython>=4.0.0->ipywidgets>=7.0.0->swifter) (0.2.2)\n",
      "Requirement already satisfied: pywinpty<1,>=0.5 in c:\\users\\asus\\appdata\\local\\programs\\python\\python38-32\\lib\\site-packages (from terminado>=0.8.3->notebook>=4.4.1->widgetsnbextension~=3.6.0->ipywidgets>=7.0.0->swifter) (0.5.7)\n",
      "Requirement already satisfied: argon2-cffi-bindings in c:\\users\\asus\\appdata\\local\\programs\\python\\python38-32\\lib\\site-packages (from argon2-cffi->notebook>=4.4.1->widgetsnbextension~=3.6.0->ipywidgets>=7.0.0->swifter) (21.2.0)\n",
      "Requirement already satisfied: MarkupSafe>=2.0 in c:\\users\\asus\\appdata\\local\\programs\\python\\python38-32\\lib\\site-packages (from jinja2->notebook>=4.4.1->widgetsnbextension~=3.6.0->ipywidgets>=7.0.0->swifter) (2.1.0)\n",
      "Requirement already satisfied: pandocfilters>=1.4.1 in c:\\users\\asus\\appdata\\local\\programs\\python\\python38-32\\lib\\site-packages (from nbconvert->notebook>=4.4.1->widgetsnbextension~=3.6.0->ipywidgets>=7.0.0->swifter) (1.5.0)\n",
      "Requirement already satisfied: tinycss2 in c:\\users\\asus\\appdata\\local\\programs\\python\\python38-32\\lib\\site-packages (from nbconvert->notebook>=4.4.1->widgetsnbextension~=3.6.0->ipywidgets>=7.0.0->swifter) (1.1.1)\n",
      "Requirement already satisfied: jupyterlab-pygments in c:\\users\\asus\\appdata\\local\\programs\\python\\python38-32\\lib\\site-packages (from nbconvert->notebook>=4.4.1->widgetsnbextension~=3.6.0->ipywidgets>=7.0.0->swifter) (0.1.2)\n",
      "Requirement already satisfied: nbclient>=0.5.0 in c:\\users\\asus\\appdata\\local\\programs\\python\\python38-32\\lib\\site-packages (from nbconvert->notebook>=4.4.1->widgetsnbextension~=3.6.0->ipywidgets>=7.0.0->swifter) (0.5.12)\n",
      "Requirement already satisfied: mistune<2,>=0.8.1 in c:\\users\\asus\\appdata\\local\\programs\\python\\python38-32\\lib\\site-packages (from nbconvert->notebook>=4.4.1->widgetsnbextension~=3.6.0->ipywidgets>=7.0.0->swifter) (0.8.4)\n",
      "Requirement already satisfied: beautifulsoup4 in c:\\users\\asus\\appdata\\local\\programs\\python\\python38-32\\lib\\site-packages (from nbconvert->notebook>=4.4.1->widgetsnbextension~=3.6.0->ipywidgets>=7.0.0->swifter) (4.11.1)\n",
      "Requirement already satisfied: defusedxml in c:\\users\\asus\\appdata\\local\\programs\\python\\python38-32\\lib\\site-packages (from nbconvert->notebook>=4.4.1->widgetsnbextension~=3.6.0->ipywidgets>=7.0.0->swifter) (0.7.1)\n",
      "Requirement already satisfied: cffi>=1.0.1 in c:\\users\\asus\\appdata\\local\\programs\\python\\python38-32\\lib\\site-packages (from argon2-cffi-bindings->argon2-cffi->notebook>=4.4.1->widgetsnbextension~=3.6.0->ipywidgets>=7.0.0->swifter) (1.15.0)\n",
      "Requirement already satisfied: soupsieve>1.2 in c:\\users\\asus\\appdata\\local\\programs\\python\\python38-32\\lib\\site-packages (from beautifulsoup4->nbconvert->notebook>=4.4.1->widgetsnbextension~=3.6.0->ipywidgets>=7.0.0->swifter) (2.3.2.post1)\n",
      "Requirement already satisfied: pycparser in c:\\users\\asus\\appdata\\local\\programs\\python\\python38-32\\lib\\site-packages (from cffi>=1.0.1->argon2-cffi-bindings->argon2-cffi->notebook>=4.4.1->widgetsnbextension~=3.6.0->ipywidgets>=7.0.0->swifter) (2.21)\n"
     ]
    },
    {
     "name": "stderr",
     "output_type": "stream",
     "text": [
      "WARNING: Ignoring invalid distribution -ip (c:\\users\\asus\\appdata\\local\\programs\\python\\python38-32\\lib\\site-packages)\n",
      "WARNING: Ignoring invalid distribution -ip (c:\\users\\asus\\appdata\\local\\programs\\python\\python38-32\\lib\\site-packages)\n",
      "WARNING: Ignoring invalid distribution -ip (c:\\users\\asus\\appdata\\local\\programs\\python\\python38-32\\lib\\site-packages)\n",
      "WARNING: Ignoring invalid distribution -ip (c:\\users\\asus\\appdata\\local\\programs\\python\\python38-32\\lib\\site-packages)\n",
      "WARNING: Ignoring invalid distribution -ip (c:\\users\\asus\\appdata\\local\\programs\\python\\python38-32\\lib\\site-packages)\n",
      "WARNING: Ignoring invalid distribution -ip (c:\\users\\asus\\appdata\\local\\programs\\python\\python38-32\\lib\\site-packages)\n"
     ]
    },
    {
     "name": "stdout",
     "output_type": "stream",
     "text": [
      "Collecting sastrawi\n",
      "  Downloading Sastrawi-1.0.1-py2.py3-none-any.whl (209 kB)\n",
      "     ------------------------------------ 209.7/209.7 kB 982.4 kB/s eta 0:00:00\n",
      "Installing collected packages: sastrawi\n",
      "Successfully installed sastrawi-1.0.1\n"
     ]
    },
    {
     "name": "stderr",
     "output_type": "stream",
     "text": [
      "WARNING: Ignoring invalid distribution -ip (c:\\users\\asus\\appdata\\local\\programs\\python\\python38-32\\lib\\site-packages)\n",
      "WARNING: Ignoring invalid distribution -ip (c:\\users\\asus\\appdata\\local\\programs\\python\\python38-32\\lib\\site-packages)\n",
      "WARNING: Ignoring invalid distribution -ip (c:\\users\\asus\\appdata\\local\\programs\\python\\python38-32\\lib\\site-packages)\n",
      "WARNING: Ignoring invalid distribution -ip (c:\\users\\asus\\appdata\\local\\programs\\python\\python38-32\\lib\\site-packages)\n",
      "WARNING: Ignoring invalid distribution -ip (c:\\users\\asus\\appdata\\local\\programs\\python\\python38-32\\lib\\site-packages)\n",
      "WARNING: Ignoring invalid distribution -ip (c:\\users\\asus\\appdata\\local\\programs\\python\\python38-32\\lib\\site-packages)\n",
      "WARNING: Ignoring invalid distribution -ip (c:\\users\\asus\\appdata\\local\\programs\\python\\python38-32\\lib\\site-packages)\n"
     ]
    },
    {
     "name": "stderr",
     "output_type": "stream",
     "text": [
      "WARNING: Ignoring invalid distribution -ip (c:\\users\\asus\\appdata\\local\\programs\\python\\python38-32\\lib\\site-packages)\n",
      "WARNING: Ignoring invalid distribution -ip (c:\\users\\asus\\appdata\\local\\programs\\python\\python38-32\\lib\\site-packages)\n",
      "ERROR: Could not find a version that satisfies the requirement Stemmer (from versions: none)\n",
      "ERROR: No matching distribution found for Stemmer\n",
      "WARNING: Ignoring invalid distribution -ip (c:\\users\\asus\\appdata\\local\\programs\\python\\python38-32\\lib\\site-packages)\n",
      "WARNING: Ignoring invalid distribution -ip (c:\\users\\asus\\appdata\\local\\programs\\python\\python38-32\\lib\\site-packages)\n",
      "WARNING: Ignoring invalid distribution -ip (c:\\users\\asus\\appdata\\local\\programs\\python\\python38-32\\lib\\site-packages)\n"
     ]
    },
    {
     "name": "stdout",
     "output_type": "stream",
     "text": [
      "Requirement already satisfied: sklearn in c:\\users\\asus\\appdata\\local\\programs\\python\\python38-32\\lib\\site-packages (0.0)"
     ]
    },
    {
     "name": "stderr",
     "output_type": "stream",
     "text": [
      "WARNING: Ignoring invalid distribution -ip (c:\\users\\asus\\appdata\\local\\programs\\python\\python38-32\\lib\\site-packages)\n",
      "WARNING: Ignoring invalid distribution -ip (c:\\users\\asus\\appdata\\local\\programs\\python\\python38-32\\lib\\site-packages)\n",
      "WARNING: Ignoring invalid distribution -ip (c:\\users\\asus\\appdata\\local\\programs\\python\\python38-32\\lib\\site-packages)\n",
      "WARNING: Ignoring invalid distribution -ip (c:\\users\\asus\\appdata\\local\\programs\\python\\python38-32\\lib\\site-packages)\n",
      "WARNING: Ignoring invalid distribution -ip (c:\\users\\asus\\appdata\\local\\programs\\python\\python38-32\\lib\\site-packages)\n",
      "WARNING: Ignoring invalid distribution -ip (c:\\users\\asus\\appdata\\local\\programs\\python\\python38-32\\lib\\site-packages)\n"
     ]
    },
    {
     "name": "stdout",
     "output_type": "stream",
     "text": [
      "\n",
      "Requirement already satisfied: scikit-learn in c:\\users\\asus\\appdata\\local\\programs\\python\\python38-32\\lib\\site-packages (from sklearn) (1.0.2)\n",
      "Requirement already satisfied: scipy>=1.1.0 in c:\\users\\asus\\appdata\\local\\programs\\python\\python38-32\\lib\\site-packages (from scikit-learn->sklearn) (1.8.0)\n",
      "Requirement already satisfied: threadpoolctl>=2.0.0 in c:\\users\\asus\\appdata\\local\\programs\\python\\python38-32\\lib\\site-packages (from scikit-learn->sklearn) (3.1.0)\n",
      "Requirement already satisfied: joblib>=0.11 in c:\\users\\asus\\appdata\\local\\programs\\python\\python38-32\\lib\\site-packages (from scikit-learn->sklearn) (1.1.0)\n",
      "Requirement already satisfied: numpy>=1.14.6 in c:\\users\\asus\\appdata\\local\\programs\\python\\python38-32\\lib\\site-packages (from scikit-learn->sklearn) (1.19.4)\n"
     ]
    },
    {
     "name": "stdout",
     "output_type": "stream",
     "text": [
      "Requirement already satisfied: matplotlib in c:\\users\\asus\\appdata\\local\\programs\\python\\python38-32\\lib\\site-packages (3.4.3)\n",
      "Requirement already satisfied: pyparsing>=2.2.1 in c:\\users\\asus\\appdata\\local\\programs\\python\\python38-32\\lib\\site-packages (from matplotlib) (2.4.7)\n",
      "Requirement already satisfied: numpy>=1.16 in c:\\users\\asus\\appdata\\local\\programs\\python\\python38-32\\lib\\site-packages (from matplotlib) (1.19.4)\n",
      "Requirement already satisfied: python-dateutil>=2.7 in c:\\users\\asus\\appdata\\local\\programs\\python\\python38-32\\lib\\site-packages (from matplotlib) (2.8.1)\n",
      "Requirement already satisfied: kiwisolver>=1.0.1 in c:\\users\\asus\\appdata\\local\\programs\\python\\python38-32\\lib\\site-packages (from matplotlib) (1.3.2)\n",
      "Requirement already satisfied: pillow>=6.2.0 in c:\\users\\asus\\appdata\\local\\programs\\python\\python38-32\\lib\\site-packages (from matplotlib) (8.3.2)\n",
      "Requirement already satisfied: cycler>=0.10 in c:\\users\\asus\\appdata\\local\\programs\\python\\python38-32\\lib\\site-packages (from matplotlib) (0.10.0)\n",
      "Requirement already satisfied: six in c:\\users\\asus\\appdata\\roaming\\python\\python38\\site-packages (from cycler>=0.10->matplotlib) (1.15.0)\n"
     ]
    },
    {
     "name": "stderr",
     "output_type": "stream",
     "text": [
      "WARNING: Ignoring invalid distribution -ip (c:\\users\\asus\\appdata\\local\\programs\\python\\python38-32\\lib\\site-packages)\n",
      "WARNING: Ignoring invalid distribution -ip (c:\\users\\asus\\appdata\\local\\programs\\python\\python38-32\\lib\\site-packages)\n",
      "WARNING: Ignoring invalid distribution -ip (c:\\users\\asus\\appdata\\local\\programs\\python\\python38-32\\lib\\site-packages)\n",
      "WARNING: Ignoring invalid distribution -ip (c:\\users\\asus\\appdata\\local\\programs\\python\\python38-32\\lib\\site-packages)\n",
      "WARNING: Ignoring invalid distribution -ip (c:\\users\\asus\\appdata\\local\\programs\\python\\python38-32\\lib\\site-packages)\n",
      "WARNING: Ignoring invalid distribution -ip (c:\\users\\asus\\appdata\\local\\programs\\python\\python38-32\\lib\\site-packages)\n"
     ]
    },
    {
     "name": "stdout",
     "output_type": "stream",
     "text": [
      "Requirement already satisfied: seaborn in c:\\users\\asus\\appdata\\local\\programs\\python\\python38-32\\lib\\site-packages (0.11.2)\n",
      "Requirement already satisfied: numpy>=1.15 in c:\\users\\asus\\appdata\\local\\programs\\python\\python38-32\\lib\\site-packages (from seaborn) (1.19.4)\n",
      "Requirement already satisfied: matplotlib>=2.2 in c:\\users\\asus\\appdata\\local\\programs\\python\\python38-32\\lib\\site-packages (from seaborn) (3.4.3)\n",
      "Requirement already satisfied: scipy>=1.0 in c:\\users\\asus\\appdata\\local\\programs\\python\\python38-32\\lib\\site-packages (from seaborn) (1.8.0)\n",
      "Requirement already satisfied: pandas>=0.23 in c:\\users\\asus\\appdata\\local\\programs\\python\\python38-32\\lib\\site-packages (from seaborn) (1.2.0)\n",
      "Requirement already satisfied: pyparsing>=2.2.1 in c:\\users\\asus\\appdata\\local\\programs\\python\\python38-32\\lib\\site-packages (from matplotlib>=2.2->seaborn) (2.4.7)\n",
      "Requirement already satisfied: cycler>=0.10 in c:\\users\\asus\\appdata\\local\\programs\\python\\python38-32\\lib\\site-packages (from matplotlib>=2.2->seaborn) (0.10.0)\n",
      "Requirement already satisfied: python-dateutil>=2.7 in c:\\users\\asus\\appdata\\local\\programs\\python\\python38-32\\lib\\site-packages (from matplotlib>=2.2->seaborn) (2.8.1)\n",
      "Requirement already satisfied: kiwisolver>=1.0.1 in c:\\users\\asus\\appdata\\local\\programs\\python\\python38-32\\lib\\site-packages (from matplotlib>=2.2->seaborn) (1.3.2)\n",
      "Requirement already satisfied: pillow>=6.2.0 in c:\\users\\asus\\appdata\\local\\programs\\python\\python38-32\\lib\\site-packages (from matplotlib>=2.2->seaborn) (8.3.2)\n",
      "Requirement already satisfied: pytz>=2017.3 in c:\\users\\asus\\appdata\\local\\programs\\python\\python38-32\\lib\\site-packages (from pandas>=0.23->seaborn) (2020.5)\n",
      "Requirement already satisfied: six in c:\\users\\asus\\appdata\\roaming\\python\\python38\\site-packages (from cycler>=0.10->matplotlib>=2.2->seaborn) (1.15.0)\n"
     ]
    },
    {
     "name": "stderr",
     "output_type": "stream",
     "text": [
      "WARNING: Ignoring invalid distribution -ip (c:\\users\\asus\\appdata\\local\\programs\\python\\python38-32\\lib\\site-packages)\n",
      "WARNING: Ignoring invalid distribution -ip (c:\\users\\asus\\appdata\\local\\programs\\python\\python38-32\\lib\\site-packages)\n",
      "WARNING: Ignoring invalid distribution -ip (c:\\users\\asus\\appdata\\local\\programs\\python\\python38-32\\lib\\site-packages)\n",
      "WARNING: Ignoring invalid distribution -ip (c:\\users\\asus\\appdata\\local\\programs\\python\\python38-32\\lib\\site-packages)\n",
      "WARNING: Ignoring invalid distribution -ip (c:\\users\\asus\\appdata\\local\\programs\\python\\python38-32\\lib\\site-packages)\n",
      "WARNING: Ignoring invalid distribution -ip (c:\\users\\asus\\appdata\\local\\programs\\python\\python38-32\\lib\\site-packages)\n"
     ]
    }
   ],
   "source": [
    "!pip install numpy\n",
    "!pip install pandas\n",
    "!pip install nltk\n",
    "!pip install swifter\n",
    "!pip install sastrawi\n",
    "!pip install Stemmer\n",
    "!pip install sklearn\n",
    "!pip install matplotlib\n",
    "!pip install seaborn"
   ]
  },
  {
   "cell_type": "code",
   "execution_count": 4,
   "metadata": {
    "colab": {
     "base_uri": "https://localhost:8080/"
    },
    "id": "kf9tOB49hdrG",
    "outputId": "e90bcdcd-f95e-4ce5-a2de-47b2a632e16e"
   },
   "outputs": [
    {
     "name": "stderr",
     "output_type": "stream",
     "text": [
      "[nltk_data] Downloading package stopwords to\n",
      "[nltk_data]     C:\\Users\\ASUS\\AppData\\Roaming\\nltk_data...\n",
      "[nltk_data]   Package stopwords is already up-to-date!\n"
     ]
    },
    {
     "data": {
      "text/plain": [
       "True"
      ]
     },
     "execution_count": 4,
     "metadata": {},
     "output_type": "execute_result"
    }
   ],
   "source": [
    "import nltk\n",
    "nltk.download('stopwords')"
   ]
  },
  {
   "cell_type": "markdown",
   "metadata": {
    "id": "MG9axbqMPTNd"
   },
   "source": [
    "Import Modul"
   ]
  },
  {
   "cell_type": "code",
   "execution_count": 5,
   "metadata": {
    "colab": {
     "base_uri": "https://localhost:8080/"
    },
    "id": "wOxlaxPbgvRq",
    "outputId": "16fac6b9-5573-4186-d48f-ad8265fc0e8c"
   },
   "outputs": [
    {
     "name": "stderr",
     "output_type": "stream",
     "text": [
      "2022-06-16 04:42:15 [matplotlib] DEBUG: matplotlib data path: C:\\Users\\ASUS\\AppData\\Local\\Programs\\Python\\Python38-32\\lib\\site-packages\\matplotlib\\mpl-data\n"
     ]
    },
    {
     "name": "stderr",
     "output_type": "stream",
     "text": [
      "2022-06-16 04:42:15 [matplotlib] DEBUG: CONFIGDIR=C:\\Users\\ASUS\\.matplotlib\n"
     ]
    },
    {
     "name": "stderr",
     "output_type": "stream",
     "text": [
      "2022-06-16 04:42:15 [matplotlib] DEBUG: matplotlib version 3.4.3\n"
     ]
    },
    {
     "name": "stderr",
     "output_type": "stream",
     "text": [
      "2022-06-16 04:42:15 [matplotlib] DEBUG: interactive is False\n"
     ]
    },
    {
     "name": "stderr",
     "output_type": "stream",
     "text": [
      "2022-06-16 04:42:15 [matplotlib] DEBUG: platform is win32\n"
     ]
    },
    {
     "name": "stderr",
     "output_type": "stream",
     "text": [
      "2022-06-16 04:42:15 [matplotlib] DEBUG: loaded modules: ['sys', 'builtins', '_frozen_importlib', '_imp', '_warnings', '_frozen_importlib_external', '_io', 'marshal', 'nt', '_thread', '_weakref', 'winreg', 'time', 'zipimport', '_codecs', 'codecs', 'encodings.aliases', 'encodings', 'encodings.utf_8', 'encodings.cp1252', '_signal', '__main__', 'encodings.latin_1', '_abc', 'abc', 'io', '_stat', 'stat', '_collections_abc', 'genericpath', 'ntpath', 'os.path', 'os', '_sitebuiltins', '_locale', '_bootlocale', 'types', 'importlib._bootstrap', 'importlib._bootstrap_external', 'warnings', 'importlib', 'importlib.machinery', 'importlib.abc', '_operator', 'operator', 'keyword', '_heapq', 'heapq', 'itertools', 'reprlib', '_collections', 'collections', '_functools', 'functools', 'contextlib', 'importlib.util', 'mpl_toolkits', 'pywin32_system32', 'pywin32_bootstrap', 'sphinxcontrib', 'zope', 'site', '_weakrefset', 'weakref', 'pkgutil', 'runpy', 'enum', '_sre', 'sre_constants', 'sre_parse', 'sre_compile', 'copyreg', 're', 'ipykernel._version', '_json', 'json.scanner', 'json.decoder', 'json.encoder', 'json', 'errno', 'signal', 'threading', 'msvcrt', '_winapi', 'subprocess', 'collections.abc', 'typing.io', 'typing.re', 'typing', 'jupyter_client._version', '_ast', 'ast', '_opcode', 'opcode', 'dis', 'token', 'tokenize', 'linecache', 'inspect', 'traitlets.utils', 'traitlets.utils.getargspec', 'traitlets.utils.importstring', 'traitlets.utils.sentinel', 'traitlets.utils.bunch', 'traitlets.utils.descriptions', 'traitlets.traitlets', 'copy', 'traitlets.utils.decorators', 'traitlets._version', 'traitlets', 'concurrent', 'traceback', '_string', 'string', 'atexit', 'logging', 'concurrent.futures._base', 'concurrent.futures', '_socket', 'math', 'select', 'selectors', 'socket', '_ssl', '_struct', 'struct', 'binascii', 'base64', 'ssl', 'asyncio.constants', 'asyncio.format_helpers', 'asyncio.base_futures', 'asyncio.log', 'asyncio.coroutines', '_contextvars', 'contextvars', 'asyncio.exceptions', 'asyncio.base_tasks', '_asyncio', 'asyncio.events', 'asyncio.futures', 'asyncio.protocols', 'asyncio.transports', 'asyncio.sslproto', 'asyncio.locks', 'asyncio.tasks', 'asyncio.staggered', 'asyncio.trsock', 'asyncio.base_events', 'asyncio.runners', 'asyncio.queues', 'asyncio.streams', 'asyncio.subprocess', '_overlapped', 'asyncio.base_subprocess', 'asyncio.proactor_events', 'asyncio.selector_events', 'posixpath', 'fnmatch', 'zlib', '_compression', '_bz2', 'bz2', '_lzma', 'lzma', 'shutil', '_bisect', 'bisect', '_sha512', '_random', 'random', 'tempfile', 'asyncio.windows_utils', 'asyncio.windows_events', 'asyncio', '_queue', 'queue', 'platform', 'zmq.backend.select', 'cython_runtime', 'zmq.backend.cython.constants', '_cython_0_29_24', 'zmq.backend.cython.error', 'zmq.error', 'zmq.backend.cython.message', 'zmq.backend.cython.context', '_compat_pickle', '_pickle', 'pickle', 'zmq.backend.cython.socket', 'zmq.backend.cython.utils', 'zmq.backend.cython._poll', 'zmq.backend.cython._version', 'zmq.backend.cython._device', 'zmq.backend.cython._proxy_steerable', 'zmq.backend.cython', 'zmq.backend', 'zmq.utils', 'zmq.utils.constant_names', 'zmq.sugar.constants', 'zmq.sugar.attrsettr', 'zmq.sugar.poll', 'zmq.utils.jsonapi', 'zmq.utils.strtypes', 'zmq.sugar.socket', 'zmq.sugar.context', 'zmq.sugar.frame', 'zmq.sugar.tracker', 'zmq.sugar.version', 'zmq.sugar.stopwatch', 'zmq.sugar', 'zmq', 'zmq._future', 'zmq.asyncio', 'jupyter_client.channelsabc', '_hashlib', '_blake2', '_sha3', 'hashlib', 'hmac', 'pprint', '_datetime', 'datetime', 'locale', 'gettext', 'argparse', 'traitlets.config.loader', 'textwrap', 'traitlets.utils.text', 'traitlets.config.configurable', 'traitlets.config.application', 'traitlets.config', 'traitlets.log', '__future__', 'tornado', 'logging.handlers', 'html.entities', 'html', 'urllib', 'urllib.parse', 'array', 'tornado.speedups', 'tornado.util', 'tornado.escape', 'colorama.ansi', '_ctypes', 'ctypes._endian', 'ctypes', 'ctypes.wintypes', 'colorama.win32', 'colorama.winterm', 'colorama.ansitowin32', 'colorama.initialise', 'colorama', 'tornado.log', 'numbers', 'tornado.concurrent', 'tornado.ioloop', 'tornado.platform', 'tornado.gen', 'tornado.platform.asyncio', 'zmq.eventloop.ioloop', 'zmq.eventloop', 'zmq.eventloop.zmqstream', 'jupyter_client.adapter', 'dateutil._version', 'dateutil', 'calendar', 'six', '_decimal', 'decimal', 'dateutil._common', 'dateutil.relativedelta', 'six.moves', 'dateutil.tz._common', 'dateutil.tz._factories', 'dateutil.tz.win', 'dateutil.tz.tz', 'dateutil.tz', 'dateutil.parser._parser', 'dateutil.parser.isoparser', 'dateutil.parser', '_strptime', 'jupyter_client.jsonutil', 'jupyter_client.session', 'jupyter_client.channels', 'getpass', 'jupyter_client.clientabc', 'glob', 'jupyter_core.version', 'jupyter_core', 'pathlib', 'jupyter_core.paths', 'jupyter_client.localinterfaces', 'jupyter_client.utils', 'jupyter_client.connect', 'jupyter_client.client', 'jupyter_client.asynchronous.client', 'jupyter_client.asynchronous', 'jupyter_client.blocking.client', 'jupyter_client.blocking', 'jupyter_client.launcher', 'uuid', 'jupyter_client.managerabc', 'zipfile', 'configparser', 'entrypoints', 'jupyter_client.provisioning.provisioner_base', 'jupyter_client.provisioning.factory', 'jupyter_client.provisioning.local_provisioner', 'jupyter_client.provisioning', 'jupyter_client.kernelspec', 'jupyter_client.manager', 'jupyter_client.multikernelmanager', 'jupyter_client', 'ipykernel.connect', 'ipykernel', 'IPython.core', 'IPython.core.getipython', 'IPython.core.release', 'sysconfig', 'pydoc', 'executing.executing', 'executing.version', 'executing', 'asttokens.line_numbers', 'asttokens.util', 'asttokens.mark_tokens', 'asttokens.asttokens', 'asttokens', 'fractions', 'pure_eval.utils', 'pure_eval.my_getattr_static', 'pure_eval.core', 'pure_eval.version', 'pure_eval', 'stack_data.utils', 'stack_data.core', 'stack_data.formatting', 'stack_data.version', 'stack_data', 'pygments', 'pygments.formatters._mapping', 'pygments.plugin', 'pygments.util', 'pygments.formatters', 'pygments.styles', 'pygments.formatter', 'pygments.console', 'pygments.token', 'pygments.style', 'pygments.formatters.terminal256', 'bdb', 'IPython.utils', 'IPython.utils.ipstruct', 'IPython.utils.coloransi', 'IPython.utils.colorable', 'IPython.utils.PyColorize', 'IPython.utils.encoding', 'IPython.utils.py3compat', 'IPython.core.excolors', 'cmd', 'codeop', 'code', 'pdb', 'IPython.core.debugger', 'IPython.core.display_trap', 'shlex', 'IPython.utils._process_common', 'IPython.utils._process_win32', 'IPython.utils.process', 'IPython.utils.decorators', 'IPython.utils.path', 'IPython.utils.terminal', 'IPython.core.ultratb', 'IPython.utils._sysinfo', 'IPython.utils.sysinfo', 'IPython.core.crashhandler', 'IPython.utils.importstring', 'IPython.paths', 'IPython.core.profiledir', 'IPython.core.application', 'IPython.terminal', 'IPython.core.compilerop', 'IPython.core.error', 'IPython.utils.text', 'IPython.core.magic_arguments', 'getopt', 'IPython.core.display_functions', 'mimetypes', 'IPython.testing', 'IPython.testing.skipdoctest', 'IPython.core.display', 'IPython.lib', 'IPython.lib.display', 'IPython.display', 'IPython.utils.data', 'IPython.core.page', 'IPython.lib.pretty', 'IPython.utils.openpy', 'IPython.utils.dir2', 'IPython.utils.wildcard', 'pygments.lexers._mapping', 'pygments.modeline', 'pygments.lexers', 'pygments.filter', 'pygments.filters', 'pygments.regexopt', 'pygments.lexer', 'pygments.unistring', 'pygments.lexers.python', 'pygments.formatters.html', 'IPython.core.oinspect', 'IPython.core.inputtransformer2', 'IPython.core.magic', 'pickleshare', 'IPython.core.hooks', 'IPython.core.autocall', 'IPython.core.macro', 'IPython.core.splitinput', 'IPython.core.prefilter', 'IPython.core.alias', 'IPython.core.builtin_trap', 'IPython.core.displayhook', 'IPython.core.displaypub', 'backcall.backcall', 'backcall', 'IPython.core.events', 'IPython.core.extensions', 'decorator', 'IPython.utils.sentinel', 'IPython.core.formatters', '_sqlite3', 'sqlite3.dbapi2', 'sqlite3', 'IPython.core.history', 'IPython.core.logger', 'IPython.core.payload', 'IPython.core.usage', 'IPython.utils.capture', 'IPython.utils.io', 'IPython.utils.strdispatch', 'IPython.utils.syspathcontext', 'IPython.core.async_helpers', 'IPython.core.interactiveshell', 'prompt_toolkit.application.current', 'prompt_toolkit.eventloop.utils', 'prompt_toolkit.eventloop.async_generator', 'wcwidth.table_wide', 'wcwidth.table_zero', 'wcwidth.unicode_versions', 'wcwidth.wcwidth', 'wcwidth', 'prompt_toolkit.utils', 'prompt_toolkit.eventloop.inputhook', 'prompt_toolkit.eventloop', 'prompt_toolkit.application.run_in_terminal', 'prompt_toolkit.selection', 'prompt_toolkit.clipboard.base', 'prompt_toolkit.clipboard.in_memory', 'prompt_toolkit.clipboard', 'prompt_toolkit.cache', 'prompt_toolkit.enums', 'prompt_toolkit.filters.base', 'prompt_toolkit.filters.app', 'prompt_toolkit.filters.cli', 'prompt_toolkit.filters.utils', 'prompt_toolkit.filters', 'prompt_toolkit.document', 'prompt_toolkit.auto_suggest', 'prompt_toolkit.keys', 'prompt_toolkit.key_binding.key_bindings', 'prompt_toolkit.key_binding.key_processor', 'prompt_toolkit.key_binding', 'prompt_toolkit.key_binding.vi_state', 'prompt_toolkit.cursor_shapes', 'prompt_toolkit.data_structures', 'prompt_toolkit.styles.base', 'prompt_toolkit.styles.named_colors', 'prompt_toolkit.styles.style', 'prompt_toolkit.styles.defaults', 'prompt_toolkit.styles.pygments', 'colorsys', 'prompt_toolkit.styles.style_transformation', 'prompt_toolkit.styles', 'prompt_toolkit.output.color_depth', 'prompt_toolkit.output.base', 'prompt_toolkit.output.flush_stdout', 'prompt_toolkit.output.plain_text', 'prompt_toolkit.output.defaults', 'prompt_toolkit.output', 'prompt_toolkit.output.vt100', 'prompt_toolkit.mouse_events', 'prompt_toolkit.formatted_text.base', 'prompt_toolkit.formatted_text.ansi', 'xml', 'xml.dom.domreg', 'xml.dom', 'xml.dom.minicompat', 'xml.dom.NodeFilter', 'xml.dom.xmlbuilder', 'xml.dom.minidom', 'prompt_toolkit.formatted_text.html', 'prompt_toolkit.formatted_text.pygments', 'prompt_toolkit.formatted_text.utils', 'prompt_toolkit.formatted_text', 'prompt_toolkit.completion.base', 'prompt_toolkit.completion.deduplicate', 'prompt_toolkit.completion.filesystem', 'prompt_toolkit.completion.word_completer', 'prompt_toolkit.completion.fuzzy_completer', 'prompt_toolkit.completion.nested', 'prompt_toolkit.completion', 'prompt_toolkit.history', 'prompt_toolkit.search', 'prompt_toolkit.validation', 'prompt_toolkit.buffer', 'prompt_toolkit.input.base', 'prompt_toolkit.input.defaults', 'prompt_toolkit.input', 'prompt_toolkit.input.typeahead', 'prompt_toolkit.key_binding.bindings', 'prompt_toolkit.key_binding.bindings.scroll', 'prompt_toolkit.key_binding.bindings.page_navigation', 'prompt_toolkit.lexers.base', 'prompt_toolkit.lexers.pygments', 'prompt_toolkit.lexers', 'prompt_toolkit.layout.utils', 'prompt_toolkit.layout.processors', 'prompt_toolkit.layout.controls', 'prompt_toolkit.layout.dimension', 'prompt_toolkit.layout.margins', 'prompt_toolkit.layout.mouse_handlers', 'prompt_toolkit.layout.screen', 'prompt_toolkit.layout.containers', 'prompt_toolkit.layout.layout', 'prompt_toolkit.layout.menus', 'prompt_toolkit.layout.scrollable_pane', 'prompt_toolkit.layout', 'prompt_toolkit.key_binding.bindings.completion', 'prompt_toolkit.key_binding.bindings.named_commands', 'prompt_toolkit.key_binding.bindings.basic', 'prompt_toolkit.key_binding.bindings.cpr', 'prompt_toolkit.key_binding.bindings.emacs', 'prompt_toolkit.key_binding.bindings.mouse', 'prompt_toolkit.input.ansi_escape_sequences', 'prompt_toolkit.input.vt100_parser', 'prompt_toolkit.key_binding.digraphs', 'prompt_toolkit.key_binding.bindings.vi', 'prompt_toolkit.key_binding.defaults', 'prompt_toolkit.key_binding.emacs_state', 'prompt_toolkit.layout.dummy', 'prompt_toolkit.renderer', 'prompt_toolkit.application.application', 'prompt_toolkit.application.dummy', 'prompt_toolkit.application', 'prompt_toolkit.key_binding.bindings.focus', 'prompt_toolkit.widgets.toolbars', 'prompt_toolkit.widgets.base', 'prompt_toolkit.widgets.dialogs', 'prompt_toolkit.widgets.menus', 'prompt_toolkit.widgets', 'prompt_toolkit.shortcuts.dialogs', 'prompt_toolkit.shortcuts.progress_bar.formatters', 'prompt_toolkit.shortcuts.progress_bar.base', 'prompt_toolkit.shortcuts.progress_bar', 'prompt_toolkit.key_binding.bindings.auto_suggest', 'prompt_toolkit.key_binding.bindings.open_in_editor', 'prompt_toolkit.shortcuts.prompt', 'prompt_toolkit.shortcuts.utils', 'prompt_toolkit.shortcuts', 'prompt_toolkit', 'prompt_toolkit.patch_stdout', 'unicodedata', 'IPython.core.latex_symbols', 'IPython.utils.generics', 'parso.utils', 'parso.tree', 'parso.python', 'parso.python.token', 'parso.python.tokenize', 'parso.pgen2.grammar_parser', 'parso.pgen2.generator', 'parso.pgen2', 'parso.parser', 'parso._compatibility', 'difflib', 'parso.python.prefix', 'parso.python.tree', 'parso.python.parser', 'parso.python.diff', 'gc', 'parso.cache', 'parso.normalizer', 'parso.python.errors', 'parso.python.pep8', 'parso.file_io', 'parso.grammar', 'parso', 'jedi.parser_utils', 'jedi.debug', 'jedi.settings', 'jedi.cache', 'jedi.file_io', 'jedi.inference.cache', 'jedi.inference.helpers', 'jedi.inference.utils', 'jedi.inference.base_value', 'jedi.inference.sys_path', 'jedi.inference.recursion', 'jedi.inference.flow_analysis', 'jedi.common', 'jedi.inference.lazy_value', 'jedi.inference.docstrings', 'jedi.plugins', 'jedi.inference.names', 'jedi.inference.filters', 'jedi.inference.compiled.getattr_static', 'jedi.inference.compiled.access', 'jedi.inference.signature', 'jedi.inference.context', 'jedi.inference.compiled.value', 'jedi.inference.compiled', 'jedi.inference.analysis', 'jedi.inference.gradual', 'jedi.inference.value.module', 'jedi.inference.value.dynamic_arrays', 'jedi.inference.value.iterable', 'jedi.inference.arguments', 'jedi.inference.parser_cache', 'jedi.inference.gradual.generics', 'jedi.inference.value.function', 'jedi.inference.value.klass', 'jedi.inference.value.instance', 'jedi.inference.value', 'jedi.inference.gradual.base', 'jedi.inference.gradual.type_var', 'jedi.inference.gradual.typing', 'jedi.inference.gradual.stub_value', 'jedi.inference.gradual.typeshed', 'jedi._compatibility', 'jedi.inference.compiled.subprocess.functions', 'jedi.api.exceptions', 'jedi.inference.compiled.subprocess', 'jedi.inference.imports', 'jedi.inference.param', 'jedi.inference.gradual.annotation', 'jedi.inference.value.decorator', 'jedi.inference.syntax_tree', 'jedi.inference', 'jedi.inference.gradual.conversion', 'jedi.inference.compiled.mixed', 'pydoc_data', 'pydoc_data.topics', 'jedi.api.keywords', 'jedi.api.completion_cache', 'jedi.api.helpers', 'jedi.api.classes', 'jedi.api.interpreter', 'jedi.api.strings', 'jedi.api.file_name', 'jedi.inference.docstring_utils', 'jedi.api.completion', 'filecmp', 'jedi.api.environment', 'jedi.inference.references', 'jedi.api.project', 'jedi.api.errors', 'jedi.api.refactoring', 'jedi.api.refactoring.extract', 'jedi.inference.gradual.utils', 'jedi.api', 'jedi.plugins.stdlib', 'jedi.plugins.flask', 'jedi.plugins.pytest', 'jedi.plugins.django', 'jedi.plugins.registry', 'jedi', 'IPython.core.completer', 'IPython.terminal.ptutils', 'IPython.lib.clipboard', 'IPython.terminal.shortcuts', 'concurrent.futures.thread', 'IPython.terminal.debugger', 'IPython.terminal.magics', 'IPython.terminal.pt_inputhooks', 'IPython.terminal.prompts', 'IPython.terminal.interactiveshell', 'IPython.core.magics.auto', 'IPython.core.magics.basic', 'email', 'http', 'email.errors', 'email.quoprimime', 'email.base64mime', 'quopri', 'email.encoders', 'email.charset', 'email.header', 'email._parseaddr', 'email.utils', 'email._policybase', 'email.feedparser', 'email.parser', 'uu', 'email._encoded_words', 'email.iterators', 'email.message', 'http.client', 'urllib.response', 'urllib.error', 'nturl2path', 'urllib.request', 'IPython.utils.contexts', 'IPython.core.magics.code', 'IPython.core.magics.config', 'IPython.core.magics.display', '_lsprof', 'profile', 'cProfile', 'pstats', 'timeit', 'IPython.utils.module_paths', 'IPython.utils.timing', 'IPython.core.magics.execution', 'IPython.core.magics.extension', 'IPython.core.magics.history', 'IPython.core.magics.logging', 'IPython.core.magics.namespace', 'IPython.core.magics.osm', 'IPython.core.magics.packaging', 'IPython.core.pylabtools', 'IPython.core.magics.pylab', 'IPython.core.magics.script', 'IPython.core.magics', 'IPython.core.shellapp', 'IPython.extensions', 'IPython.extensions.storemagic', 'IPython.terminal.ipapp', 'IPython.terminal.embed', 'IPython.utils.frame', 'IPython', 'imp', 'ipykernel.iostream', 'ipykernel.control', 'ipykernel.heartbeat', 'IPython.utils.tokenutil', 'psutil._common', 'psutil._compat', 'psutil._psutil_windows', 'psutil._pswindows', 'psutil', 'tornado.locks', 'tornado.queues', 'ipykernel.jsonutil', 'ipykernel.kernelbase', 'ipykernel.comm.comm', 'ipykernel.comm.manager', 'ipykernel.comm', 'IPython.core.payloadpage', 'ipykernel.displayhook', 'ipykernel.zmqshell', 'distutils', 'distutils.version', 'ipykernel.eventloops', 'ipykernel.compiler', 'debugpy._version', 'debugpy.common', 'debugpy.common.json', 'debugpy.common.fmt', 'debugpy.common.compat', 'debugpy', 'debugpy._vendored._util', 'debugpy._vendored', '_pydevd_bundle', 'encodings.ascii', 'stringprep', 'encodings.idna', '_pydevd_bundle.pydevd_vm_type', '_pydev_imps', 'xmlrpc', 'xml.parsers', 'pyexpat.errors', 'pyexpat.model', 'pyexpat', 'xml.parsers.expat.model', 'xml.parsers.expat.errors', 'xml.parsers.expat', 'gzip', 'xmlrpc.client', 'socketserver', 'http.server', 'xmlrpc.server', '_pydev_imps._pydev_saved_modules', '_pydevd_bundle.pydevd_constants', '_pydev_bundle', '_pydev_runfiles', '_pydevd_frame_eval', 'pydev_ipython', 'pydevd_concurrency_analyser', 'plistlib', 'pkg_resources.extern', 'pkg_resources._vendor', 'pkg_resources._vendor.six', 'pkg_resources.extern.six', 'pkg_resources._vendor.six.moves', 'pkg_resources.extern.six.moves', 'pkg_resources.py31compat', 'win32api', '_win32sysloader', 'pywintypes', 'pythoncom', 'win32com.gen_py', 'win32com', 'win32com.shell', 'pkg_resources._vendor.appdirs', 'pkg_resources.extern.appdirs', 'pkg_resources._vendor.packaging.__about__', 'pkg_resources._vendor.packaging', 'pkg_resources.extern.packaging', 'pkg_resources.extern.packaging._structures', 'pkg_resources.extern.packaging.version', 'pkg_resources.extern.packaging._compat', 'pkg_resources.extern.packaging.specifiers', 'pkg_resources._vendor.pyparsing', 'pkg_resources.extern.pyparsing', 'pkg_resources._vendor.six.moves.urllib', 'pkg_resources.extern.six.moves.urllib', 'pkg_resources.extern.packaging.markers', 'pkg_resources.extern.packaging.requirements', 'pkg_resources.py2_warn', 'pkg_resources', 'pydevd_plugins', '_pydev_bundle.pydev_log', '_pydev_bundle._pydev_filesystem_encoding', '_pydevd_bundle.pydevd_comm_constants', 'pydevd_file_utils', '_pydev_imps._pydev_execfile', '_pydevd_bundle.pydevd_exec2', '_pydev_bundle.pydev_imports', '_pydev_bundle.pydev_is_thread_alive', '_pydev_bundle.pydev_override', 'pydevd_plugins.extensions', '_pydevd_bundle.pydevd_extension_utils', '_pydevd_bundle.pydevd_frame_utils', '_pydevd_bundle.pydevd_filtering', '_pydevd_bundle.pydevd_io', '_pydevd_bundle.pydevd_utils', '_pydev_bundle._pydev_tipper_common', '_pydev_bundle._pydev_imports_tipper', '_pydev_bundle._pydev_calltip_util', '_pydevd_bundle.pydevd_safe_repr', '_pydevd_bundle.pydevd_resolver', '_pydevd_bundle.pydevd_extension_api', '_pydevd_bundle.pydevd_xml', '_pydevd_bundle.pydevd_dont_trace', '_pydevd_frame_eval.vendored', '_pydevd_frame_eval.vendored.bytecode.flags', '_pydevd_frame_eval.vendored.bytecode.instr', '_pydevd_frame_eval.vendored.bytecode.bytecode', '_pydevd_frame_eval.vendored.bytecode.concrete', '_pydevd_frame_eval.vendored.bytecode.cfg', '_pydevd_frame_eval.vendored.bytecode', '_pydevd_bundle.pydevd_bytecode_utils', '_pydevd_bundle.pydevd_cython', '_pydevd_bundle.pydevd_cython_wrapper', '_pydevd_bundle.pydevd_additional_thread_info', '_pydevd_bundle.pydevd_thread_lifecycle', '_pydevd_bundle.pydevd_save_locals', '_pydevd_bundle.pydevd_defaults', '_pydev_bundle.pydev_monkey', 'pydevd_tracing', '_pydevd_bundle.pydevd_daemon_thread', '_pydevd_bundle.pydevd_timeout', '_pydevd_bundle.pydevd_vars', '_pydev_bundle.pydev_console_utils', '_pydevd_bundle.pydevd_import_class', '_pydevd_bundle.pydevd_breakpoints', '_pydevd_bundle.pydevd_custom_frames', '_pydevd_bundle.pydevd_dont_trace_files', '_pydevd_bundle.pydevd_net_command', '_pydev_bundle.pydev_umd', 'pydevconsole', '_pydev_bundle._pydev_completer', '_pydevd_bundle.pydevd_net_command_factory_xml', '_pydevd_bundle.pydevd_frame', '_pydevd_bundle.pydevd_additional_thread_info_regular', '_pydevd_bundle.pydevd_trace_dispatch', '_pydevd_frame_eval.pydevd_frame_eval_main', '_pydevd_bundle.pydevd_source_mapping', 'pydevd_concurrency_analyser.pydevd_thread_wrappers', 'pydevd_concurrency_analyser.pydevd_concurrency_logger', '_pydevd_bundle._debug_adapter', '_pydevd_bundle._debug_adapter.pydevd_schema_log', '_pydevd_bundle._debug_adapter.pydevd_base_schema', '_pydevd_bundle._debug_adapter.pydevd_schema', '_pydevd_bundle.pydevd_reload', '_pydev_bundle.fsnotify', '_pydevd_bundle.pydevd_console', '_pydevd_bundle.pydevd_comm', '_pydevd_bundle.pydevd_net_command_factory_json', '_pydevd_bundle.pydevd_collect_bytecode_info', '_pydevd_bundle.pydevd_api', '_pydevd_bundle.pydevd_json_debug_options', '_pydevd_bundle.pydevd_process_net_command_json', '_pydevd_bundle.pydevd_traceproperty', '_pydevd_bundle.pydevd_process_net_command', '_pydevd_bundle.pydevd_suspended_frames', '_pydevd_bundle.pydevd_trace_api', 'pydevd_plugins.django_debug', 'pydevd_plugins.jinja2_debug', '_pydevd_bundle.pydevd_plugin_utils', 'pydevd_plugins.extensions.types', 'pydevd_plugins.extensions.types.pydevd_helpers', 'pydevd_plugins.extensions.types.pydevd_plugin_numpy_types', 'pydevd_plugins.extensions.types.pydevd_plugins_django_form_str', 'pydevd', 'debugpy._vendored.force_pydevd', 'debugpy.server', 'debugpy.adapter', 'debugpy.common.timestamp', 'debugpy.common.util', 'debugpy.common.log', 'debugpy.common.sockets', 'debugpy.server.api', 'ipykernel.debugger', 'ipykernel.ipkernel', 'ipykernel.parentpoller', 'ipykernel.kernelapp', 'win32security', 'ntsecuritycon', 'faulthandler', 'IPython.core.completerlib', 'incremental._version', 'incremental', 'twisted._version', 'twisted', 'scrapy.signals', 'w3lib', 'w3lib.http', 'scrapy.utils', 'scrapy.utils.datatypes', 'scrapy.exceptions', 'twisted.internet', 'attr._compat', 'attr._config', 'attr.exceptions', 'attr.setters', 'attr._make', 'attr.converters', 'attr.filters', 'attr.validators', 'attr._cmp', 'attr._funcs', 'attr._version_info', 'attr._next_gen', 'attr', 'typing_extensions', 'zope.interface._compat', 'zope.interface.exceptions', 'zope.interface.ro', 'zope.interface._zope_interface_coptimizations', 'zope.interface.advice', 'zope.interface.declarations', 'zope.interface.interface', 'zope.interface.interfaces', 'zope.interface', 'twisted.python.deprecate', 'twisted.python.versions', 'twisted.python', 'http.cookiejar', 'twisted.python.compat', 'twisted.python.reflect', 'twisted.python.failure', 'twisted.internet.interfaces', 'constantly._constants', 'constantly._version', 'constantly', 'twisted.logger._levels', 'twisted.logger._interfaces', 'twisted.logger._flatten', 'twisted.python._tzhelper', 'twisted.logger._format', 'twisted.logger._buffer', 'twisted.logger._file', 'twisted.logger._observer', 'twisted.logger._filter', 'twisted.logger._io', 'twisted.logger._global', 'twisted.logger._logger', 'twisted.logger._stdlib', 'twisted.logger._legacy', 'twisted.logger._json', 'twisted.logger._capture', 'twisted.logger', 'twisted.python.runtime', 'twisted.python.lockfile', 'twisted.internet.defer', 'twisted.internet.threads', 'scrapy.utils.decorators', 'scrapy.utils.python', 'scrapy.http.headers', 'six.moves.urllib', 'six.moves.urllib.parse', 'six.moves.urllib.request', 'w3lib.util', 'w3lib.url', 'scrapy.http.common', 'http.cookies', 'scrapy.utils.curl', 'scrapy.utils.trackref', 'scrapy.utils.url', 'scrapy.http.request', 'lxml', '_cython_0_29_28', 'lxml._elementpath', 'lxml.etree', 'lxml.html.defs', 'lxml.html._setmixin', 'lxml.html', 'w3lib.html', 'parsel.utils', 'cssselect.parser', 'cssselect.xpath', 'cssselect', 'parsel.csstranslator', 'parsel.selector', 'parsel.xpathfuncs', 'parsel', 'scrapy.link', 'scrapy.http.response', 'w3lib.encoding', 'webbrowser', 'twisted.web', 'cgi', 'twisted.python.util', 'twisted.python.win32', 'twisted.python.filepath', 'twisted.internet.address', 'twisted.internet.error', 'zope.interface.adapter', 'twisted.python.components', 'twisted.python.context', 'twisted.python.threadable', 'twisted.python.log', 'twisted.internet.protocol', 'twisted.internet.main', 'twisted.internet.abstract', 'twisted.internet.fdesc', 'twisted.internet._idna', 'twisted.internet._resolver', 'twisted._threads._ithreads', 'twisted._threads._convenience', 'twisted._threads._memory', 'twisted._threads._team', 'twisted._threads._threadworker', 'twisted._threads._pool', 'twisted._threads', 'twisted.python.threadpool', 'twisted.internet.base', 'twisted.internet.task', 'twisted.internet._producer_helpers', 'twisted.protocols', 'twisted.protocols.basic', 'twisted.protocols.policies', 'twisted.web._responses', 'twisted.web.http_headers', 'twisted.cred', 'twisted.cred.error', 'twisted.cred._digest', 'twisted.python.randbytes', 'twisted.cred.credentials', 'twisted.web.iweb', 'twisted.web.http', 'scrapy.utils.response', 'scrapy.http.response.text', 'scrapy.http.request.form', 'scrapy.http.request.rpc', 'scrapy.utils.deprecate', 'scrapy.http.request.json_request', 'scrapy.http.response.html', 'scrapy.http.response.xml', 'scrapy.http', 'scrapy.item', 'scrapy.utils.misc', 'scrapy.linkextractors.lxmlhtml', 'scrapy.linkextractors', 'cryptography.__about__', 'cryptography', 'cryptography.utils', 'cryptography.hazmat', 'cryptography.hazmat.bindings', 'cryptography.hazmat.bindings._rust', 'cryptography.x509.certificate_transparency', 'cryptography.hazmat.primitives', 'cryptography.exceptions', 'cryptography.hazmat.primitives.hashes', 'cryptography.hazmat.primitives._serialization', 'cryptography.hazmat.primitives.asymmetric', 'cryptography.hazmat.primitives.asymmetric.dh', 'cryptography.hazmat.primitives.asymmetric.utils', 'cryptography.hazmat.primitives.asymmetric.dsa', 'cryptography.hazmat._oid', 'cryptography.hazmat.primitives.asymmetric.ec', 'cryptography.hazmat.primitives.asymmetric.ed25519', 'cryptography.hazmat.primitives.asymmetric.ed448', 'cryptography.hazmat.primitives._asymmetric', 'cryptography.hazmat.primitives.asymmetric.rsa', 'cryptography.hazmat.primitives.asymmetric.x25519', 'cryptography.hazmat.primitives.asymmetric.x448', 'cryptography.hazmat.primitives.asymmetric.types', 'cryptography.hazmat.primitives.serialization.base', 'cryptography.hazmat.primitives._cipheralgorithm', 'cryptography.hazmat.primitives.ciphers.modes', 'cryptography.hazmat.primitives.ciphers.base', 'cryptography.hazmat.primitives.ciphers', 'cryptography.hazmat.primitives.ciphers.algorithms', 'cryptography.hazmat.primitives.serialization.ssh', 'cryptography.hazmat.primitives.serialization', 'ipaddress', 'cryptography.hazmat.primitives.constant_time', 'cryptography.x509.oid', 'cryptography.x509.name', 'cryptography.x509.general_name', 'cryptography.x509.extensions', 'cryptography.x509.base', 'cryptography.x509', 'cryptography.hazmat.bindings.openssl', '_cffi_backend', '_openssl.lib', '_openssl', 'cryptography.hazmat.bindings._openssl', 'cryptography.hazmat.bindings.openssl._conditional', 'cryptography.hazmat.bindings.openssl.binding', 'OpenSSL._util', 'OpenSSL.crypto', 'OpenSSL.SSL', 'OpenSSL.version', 'OpenSSL', 'pyasn1', 'pyasn1.codec', 'pyasn1.codec.der', 'pyasn1.codec.cer', 'pyasn1.error', 'pyasn1.codec.ber', 'pyasn1.compat', 'pyasn1.compat.octets', 'pyasn1.debug', 'pyasn1.type', 'pyasn1.compat.calling', 'pyasn1.type.error', 'pyasn1.type.constraint', 'pyasn1.type.tag', 'pyasn1.type.tagmap', 'pyasn1.type.base', 'pyasn1.codec.ber.eoo', 'pyasn1.compat.integer', 'pyasn1.compat.binary', 'pyasn1.type.namedtype', 'pyasn1.type.namedval', 'pyasn1.type.univ', 'pyasn1.type.char', 'pyasn1.compat.dateandtime', 'pyasn1.compat.string', 'pyasn1.type.useful', 'pyasn1.codec.ber.decoder', 'pyasn1.codec.cer.decoder', 'pyasn1.codec.der.decoder', 'service_identity._compat', 'service_identity.exceptions', 'idna.package_data', 'idna.idnadata', 'idna.intranges', 'idna.core', 'idna', 'service_identity._common', 'service_identity.cryptography', 'pyasn1_modules', 'pyasn1.type.opentype', 'pyasn1_modules.rfc2459', 'service_identity.pyopenssl', 'service_identity', 'twisted.internet._sslverify', 'twisted.protocols.tls', 'twisted.internet._newtls', 'twisted.internet.tcp', 'twisted.internet.udp', 'twisted.internet.ssl', 'win32process', 'twisted.internet.posixbase', 'twisted.internet.asyncioreactor', 'scrapy.utils.reactor', 'scrapy.utils.defer', 'scrapy.utils.asyncgen', 'scrapy.utils.spider', 'scrapy.spiders.crawl', '_csv', 'csv', 'scrapy.selector.unified', 'scrapy.selector', 'scrapy.utils.iterators', 'scrapy.spiders.feed', 'scrapy.utils.sitemap', 'scrapy.utils.gz', 'scrapy.spiders.sitemap', 'scrapy.spiders', 'scrapy', 'zope.interface.verify', 'scrapy.core', 'itemadapter.utils', 'itemadapter.adapter', 'itemadapter', 'scrapy.settings.default_settings', 'scrapy.settings', 'scrapy.middleware', 'scrapy.utils.conf', 'scrapy.core.spidermw', 'logging.config', 'scrapy.utils.ssl', 'scrapy.utils.versions', 'scrapy.utils.log', 'scrapy.core.scraper', 'scrapy.core.engine', 'scrapy.extension', 'scrapy.interfaces', 'pydispatch', 'pydispatch.saferef', 'pydispatch.robustapply', 'pydispatch.errors', 'pydispatch.dispatcher', 'scrapy.utils.signal', 'scrapy.signalmanager', 'scrapy.utils.ossignal', 'scrapy.crawler', 'scrapy.spiderloader', 'scrapy.statscollectors', 'scrapy.utils.httpobj', 'scrapy.utils.request', 'scrapy.logformatter', 'win32file', 'win32gui', 'win32event', 'twisted.internet.win32eventreactor', 'twisted.internet.selectreactor', 'twisted.internet.default', 'twisted.internet.reactor', 'scrapy.extensions', 'scrapy.extensions.corestats', 'twisted.conch', 'twisted.conch.insults', 'twisted.conch.insults.insults', 'twisted.python._textattributes', 'twisted.conch.insults.helper', 'twisted.conch.recvline', 'twisted.python.htmlizer', 'twisted.conch.manhole', 'twisted.conch.telnet', 'scrapy.utils.engine', 'scrapy.extensions.telnet', 'email.mime', 'email._header_value_parser', 'email.headerregistry', 'email.contentmanager', 'email.policy', 'email.mime.base', 'email.mime.multipart', 'email.mime.nonmultipart', 'email.mime.text', 'scrapy.mail', 'scrapy.extensions.memusage', 'scrapy.extensions.memdebug', 'scrapy.extensions.closespider', 'scrapy.extensions.postprocessing', 'scrapy.utils.boto', 'ftplib', 'scrapy.utils.ftp', 'scrapy.extensions.feedexport', 'xml.sax.handler', 'xml.sax._exceptions', 'xml.sax.xmlreader', 'xml.sax', 'xml.sax.saxutils', 'scrapy.utils.serialize', 'scrapy.exporters', 'scrapy.extensions.logstats', 'scrapy.utils.job', 'scrapy.extensions.spiderstate', 'scrapy.extensions.throttle', 'scrapy.core.scheduler', 'scrapy.resolver', 'scrapy.core.downloader.middleware', 'scrapy.core.downloader.handlers', 'scrapy.core.downloader', 'scrapy.responsetypes', 'scrapy.core.downloader.handlers.datauri', 'scrapy.core.downloader.handlers.file', 'scrapy.core.downloader.handlers.http10', 'win32pipe', 'twisted.internet._pollingfile', 'twisted.internet._win32stdio', 'twisted.internet.stdio', 'twisted.python.zippath', 'twisted.python.modules', 'twisted.plugin', 'twisted.python.systemd', 'twisted.internet.endpoints', 'twisted.web.error', 'twisted.web._newclient', 'twisted.web.client', 'scrapy.core.downloader.tls', 'scrapy.core.downloader.contextfactory', 'scrapy.core.downloader.webclient', 'scrapy.core.downloader.handlers.http11', 'scrapy.core.downloader.handlers.http', 'scrapy.core.downloader.handlers.s3', 'twisted.copyright', 'twisted.cred.checkers', 'twisted.cred.portal', 'twisted.protocols.ftp', 'scrapy.core.downloader.handlers.ftp', 'scrapy.downloadermiddlewares', 'scrapy.downloadermiddlewares.robotstxt', 'scrapy.downloadermiddlewares.httpauth', 'scrapy.downloadermiddlewares.downloadtimeout', 'scrapy.downloadermiddlewares.defaultheaders', 'scrapy.downloadermiddlewares.useragent', 'scrapy.downloadermiddlewares.retry', 'scrapy.downloadermiddlewares.ajaxcrawl', 'scrapy.downloadermiddlewares.redirect', 'scrapy.downloadermiddlewares.httpcompression', 'tldextract._version', 'filelock._error', 'filelock._api', 'filelock._util', 'filelock._soft', 'filelock._unix', 'filelock._windows', 'filelock.version', 'filelock', 'tldextract.cache', 'tldextract.remote', 'urllib3.packages', 'urllib3.packages.six', 'urllib3.packages.six.moves', 'urllib3.packages.six.moves.http_client', 'urllib3.exceptions', 'urllib3._version', 'urllib3.contrib', 'urllib3.contrib._appengine_environ', 'urllib3.util.wait', 'urllib3.util.connection', 'urllib3.util.request', 'urllib3.util.response', 'urllib3.util.retry', 'urllib3.util.url', 'urllib3.util.ssltransport', 'urllib3.util.ssl_', 'urllib3.util.timeout', 'urllib3.util', 'urllib3.util.proxy', 'urllib3._collections', 'urllib3.util.ssl_match_hostname', 'urllib3.connection', 'urllib3.fields', 'urllib3.filepost', 'urllib3.packages.six.moves.urllib', 'urllib3.packages.six.moves.urllib.parse', 'urllib3.request', 'urllib3.response', 'urllib3.util.queue', 'urllib3.connectionpool', 'urllib3.poolmanager', 'urllib3', 'charset_normalizer.assets', 'charset_normalizer.constant', '_multibytecodec', 'charset_normalizer.utils', 'charset_normalizer.md', 'charset_normalizer.models', 'charset_normalizer.cd', 'charset_normalizer.api', 'charset_normalizer.legacy', 'charset_normalizer.version', 'charset_normalizer', 'requests.compat', 'requests.exceptions', 'requests.__version__', 'importlib.resources', 'certifi.core', 'certifi', 'requests.certs', 'requests._internal_utils', 'requests.cookies', 'requests.structures', 'requests.utils', 'requests.packages.urllib3.packages', 'requests.packages.urllib3.packages.six', 'requests.packages.urllib3.packages.six.moves', 'requests.packages.urllib3.packages.six.moves.http_client', 'requests.packages.urllib3.exceptions', 'requests.packages.urllib3._version', 'requests.packages.urllib3.contrib', 'requests.packages.urllib3.contrib._appengine_environ', 'requests.packages.urllib3.util.wait', 'requests.packages.urllib3.util.connection', 'requests.packages.urllib3.util.request', 'requests.packages.urllib3.util.response', 'requests.packages.urllib3.util.retry', 'requests.packages.urllib3.util.url', 'requests.packages.urllib3.util.ssltransport', 'requests.packages.urllib3.util.ssl_', 'requests.packages.urllib3.util.timeout', 'requests.packages.urllib3.util', 'requests.packages.urllib3.util.proxy', 'requests.packages.urllib3._collections', 'requests.packages.urllib3.util.ssl_match_hostname', 'requests.packages.urllib3.connection', 'requests.packages.urllib3.fields', 'requests.packages.urllib3.filepost', 'requests.packages.urllib3.packages.six.moves.urllib', 'requests.packages.urllib3.packages.six.moves.urllib.parse', 'requests.packages.urllib3.request', 'requests.packages.urllib3.response', 'requests.packages.urllib3.util.queue', 'requests.packages.urllib3.connectionpool', 'requests.packages.urllib3.poolmanager', 'requests.packages.urllib3', 'requests.packages.idna.package_data', 'requests.packages.idna.idnadata', 'requests.packages.idna.intranges', 'requests.packages.idna.core', 'requests.packages.idna', 'requests.packages.chardet', 'requests.packages', 'requests.hooks', 'requests.auth', 'requests.status_codes', 'requests.models', 'socks', 'urllib3.contrib.socks', 'requests.adapters', 'requests.sessions', 'requests.api', 'requests', 'requests_file', 'tldextract.suffix_list', 'tldextract.tldextract', 'tldextract', 'scrapy.http.cookies', 'scrapy.downloadermiddlewares.cookies', 'scrapy.downloadermiddlewares.httpproxy', 'scrapy.downloadermiddlewares.stats', 'scrapy.downloadermiddlewares.httpcache', 'scrapy.spidermiddlewares', 'scrapy.spidermiddlewares.httperror', 'scrapy.spidermiddlewares.offsite', 'scrapy.spidermiddlewares.referer', 'scrapy.spidermiddlewares.urllength', 'scrapy.spidermiddlewares.depth', 'scrapy.pipelines', 'scrapy.dupefilters', 'queuelib.queue', 'queuelib.pqueue', 'queuelib.rrqueue', 'queuelib', 'scrapy.squeues', 'scrapy.pqueues', 'encodings.charmap', 'xml.etree', 'xml.etree.ElementPath', 'nltk.internals', 'nltk.metrics.distance', 'nltk.probability', 'nltk.metrics.agreement', 'numpy._globals', 'numpy.__config__', 'numpy.version', 'numpy._distributor_init', 'numpy.core._multiarray_umath', 'numpy.compat._inspect', 'numpy.compat.py3k', 'numpy.compat', 'numpy.core.overrides', 'numpy.core.multiarray', 'numpy.core.umath', 'numpy.core._string_helpers', 'numpy.core._dtype', 'numpy.core._type_aliases', 'numpy.core.numerictypes', 'numpy.core._asarray', 'numpy.core._exceptions', 'numpy.core._methods', 'numpy.core.fromnumeric', 'numpy.core.shape_base', 'numpy.core._ufunc_config', 'numpy.core.arrayprint', 'numpy.core.numeric', 'numpy.core.defchararray', 'numpy.core.records', 'numpy.core.memmap', 'numpy.core.function_base', 'numpy.core.machar', 'numpy.core.getlimits', 'numpy.core.einsumfunc', 'numpy.core._multiarray_tests', 'numpy.core._add_newdocs', 'numpy.core._dtype_ctypes', 'numpy.core._internal', 'numpy._pytesttester', 'numpy.core', 'numpy.lib.mixins', 'numpy.lib.ufunclike', 'numpy.lib.type_check', 'numpy.lib.scimath', 'numpy.lib.twodim_base', 'numpy.linalg.lapack_lite', 'numpy.linalg._umath_linalg', 'numpy.linalg.linalg', 'numpy.linalg', 'numpy.matrixlib.defmatrix', 'numpy.matrixlib', 'numpy.lib.histograms', 'numpy.lib.function_base', 'numpy.lib.stride_tricks', 'numpy.lib.index_tricks', 'numpy.lib.nanfunctions', 'numpy.lib.shape_base', 'numpy.lib.polynomial', 'numpy.lib.utils', 'numpy.lib.arraysetops', 'numpy.lib.format', 'numpy.lib._datasource', 'numpy.lib._iotools', 'numpy.lib.npyio', 'numpy.lib.financial', 'numpy.lib.arrayterator', 'numpy.lib.arraypad', 'numpy.lib._version', 'numpy.lib', 'numpy.fft._pocketfft_internal', 'numpy.fft._pocketfft', 'numpy.fft.helper', 'numpy.fft', 'numpy.polynomial.polyutils', 'numpy.polynomial._polybase', 'numpy.polynomial.polynomial', 'numpy.polynomial.chebyshev', 'numpy.polynomial.legendre', 'numpy.polynomial.hermite', 'numpy.polynomial.hermite_e', 'numpy.polynomial.laguerre', 'numpy.polynomial', '_cython_0_29_21', 'numpy.random._common', 'secrets', 'numpy.random.bit_generator', 'numpy.random._bounded_integers', 'numpy.random._mt19937', 'numpy.random.mtrand', 'numpy.random._philox', 'numpy.random._pcg64', 'numpy.random._sfc64', 'numpy.random._generator', 'numpy.random._pickle', 'numpy.random', 'numpy.ctypeslib', 'numpy.ma.core', 'numpy.ma.extras', 'numpy.ma', 'numpy', 'nltk.metrics.aline', 'scipy._lib._testutils', 'scipy._lib', 'scipy._lib.deprecation', 'scipy.__config__', 'scipy.version', 'scipy._distributor_init', 'scipy._lib._pep440', 'scipy._lib._ccallback_c', 'scipy._lib._ccallback', 'scipy', '_cython_0_29_25', 'scipy._lib._util', 'scipy.sparse._sputils', 'scipy.sparse._base', 'scipy.sparse._sparsetools', 'scipy.sparse._data', 'scipy.sparse._index', 'scipy.sparse._compressed', 'scipy.sparse._csr', 'scipy.sparse._csc', 'scipy.sparse._csparsetools', 'scipy.sparse._lil', 'scipy.sparse._dok', 'scipy.sparse._coo', 'scipy.sparse._dia', 'scipy.sparse._bsr', 'scipy.sparse._construct', 'scipy.sparse._extract', 'scipy.sparse._matrix_io', 'scipy.sparse._arrays', 'scipy.sparse.csgraph._laplacian', 'scipy.sparse.csgraph._tools', 'scipy.sparse.csgraph._validation', 'scipy.sparse.csgraph._shortest_path', 'scipy.sparse.csgraph._traversal', 'scipy.sparse.csgraph._min_spanning_tree', 'scipy.sparse.csgraph._flow', 'scipy.sparse.csgraph._matching', 'scipy.sparse.csgraph._reordering', 'scipy.sparse.csgraph', 'scipy.sparse.base', 'scipy.sparse.bsr', 'scipy.sparse.compressed', 'scipy.sparse.construct', 'scipy.sparse.coo', 'scipy.sparse.csc', 'scipy.sparse.csr', 'scipy.sparse.data', 'scipy.sparse.dia', 'scipy.sparse.dok', 'scipy.sparse.extract', 'scipy.sparse.lil', 'scipy.sparse.sparsetools', 'scipy.sparse.sputils', 'scipy.sparse', 'scipy.spatial._ckdtree', 'scipy.spatial._kdtree', 'scipy._lib.messagestream', 'scipy.spatial._qhull', 'scipy.spatial._voronoi', 'scipy.spatial._spherical_voronoi', 'scipy._lib.decorator', 'scipy.spatial._plotutils', 'scipy.linalg._fblas', 'scipy.linalg.blas', 'scipy.linalg._flapack', 'scipy.linalg.lapack', 'scipy.linalg._misc', 'scipy.linalg._cythonized_array_utils', 'scipy.linalg._flinalg', 'scipy.linalg._flinalg_py', 'scipy.linalg._decomp', 'scipy.linalg._decomp_svd', 'scipy.linalg._solve_toeplitz', 'scipy.linalg._basic', 'scipy.linalg._decomp_lu', 'scipy.linalg._decomp_ldl', 'scipy.linalg._decomp_cholesky', 'scipy.linalg._decomp_qr', 'scipy.linalg._decomp_qz', 'scipy.linalg._decomp_schur', 'scipy.linalg._decomp_polar', 'scipy.linalg._special_matrices', 'scipy.linalg._expm_frechet', 'scipy.linalg._matfuncs_sqrtm_triu', 'scipy.linalg._matfuncs_sqrtm', 'scipy.linalg._matfuncs', 'scipy.linalg._solvers', 'scipy.linalg._procrustes', 'scipy.linalg.cython_blas', 'scipy.linalg.cython_lapack', 'scipy.linalg._decomp_update', 'scipy.linalg._sketches', 'scipy.linalg._decomp_cossin', 'scipy.linalg.decomp', 'scipy.linalg.decomp_cholesky', 'scipy.linalg.decomp_lu', 'scipy.linalg.decomp_qr', 'scipy.linalg.decomp_svd', 'scipy.linalg.decomp_schur', 'scipy.linalg.basic', 'scipy.linalg.misc', 'scipy.linalg.special_matrices', 'scipy.linalg.flinalg', 'scipy.linalg.matfuncs', 'scipy.linalg', 'scipy.spatial._procrustes', 'dataclasses', 'scipy.spatial._distance_wrap', 'scipy.spatial._hausdorff', 'scipy.special._sf_error', 'scipy.special._ufuncs_cxx', 'scipy.special._ufuncs', 'scipy.special._specfun', 'scipy.special._orthogonal', 'scipy.special._comb', 'scipy.special._basic', 'scipy.special._logsumexp', 'scipy.special._spfun_stats', 'scipy.special._ellip_harm_2', 'scipy.special._ellip_harm', 'scipy.special._lambertw', 'scipy.special._spherical_bessel', 'scipy.special._add_newdocs', 'scipy.special.add_newdocs', 'scipy.special.basic', 'scipy.special.orthogonal', 'scipy.special.specfun', 'scipy.special.sf_error', 'scipy.special.spfun_stats', 'scipy.special', 'scipy.spatial._distance_pybind', 'scipy.spatial.distance', 'scipy.spatial._geometric_slerp', 'scipy.spatial.ckdtree', 'scipy.spatial.kdtree', 'scipy.spatial.qhull', 'scipy.constants._codata', 'scipy.constants._constants', 'scipy.constants.codata', 'scipy.constants.constants', 'scipy.constants', 'scipy.spatial.transform._rotation_groups', 'scipy.spatial.transform._rotation', 'scipy.spatial.transform._rotation_spline', 'scipy.spatial.transform.rotation', 'scipy.spatial.transform', 'scipy.spatial', 'scipy.ndimage._ni_support', 'scipy.ndimage._nd_image', 'scipy._lib.doccer', 'scipy.ndimage._ni_docstrings', 'scipy.ndimage._filters', 'scipy.ndimage._fourier', 'scipy.ndimage._interpolation', '_ni_label', 'scipy.ndimage._ni_label', 'scipy.ndimage._morphology', 'scipy.ndimage._measurements', 'scipy.ndimage.filters', 'scipy.ndimage.fourier', 'scipy.ndimage.interpolation', 'scipy.ndimage.measurements', 'scipy.ndimage.morphology', 'scipy.ndimage', 'scipy.stats._distr_params', 'scipy.sparse.linalg._isolve._iterative', 'scipy.sparse.linalg._interface', 'scipy.sparse.linalg._isolve.utils', 'scipy._lib._threadsafety', 'scipy.sparse.linalg._isolve.iterative', 'scipy.sparse.linalg._isolve.minres', 'scipy.sparse.linalg._isolve._gcrotmk', 'scipy.sparse.linalg._isolve.lgmres', 'scipy.sparse.linalg._isolve.lsqr', 'scipy.sparse.linalg._isolve.lsmr', 'scipy.sparse.linalg._isolve.tfqmr', 'scipy.sparse.linalg._isolve', 'scipy.sparse.linalg._dsolve._superlu', 'scipy.sparse.linalg._dsolve.linsolve', 'scipy.sparse.linalg._dsolve._add_newdocs', 'scipy.sparse.linalg._dsolve', 'scipy.sparse.linalg._eigen.arpack._arpack', 'scipy.sparse.linalg._eigen.arpack.arpack', 'scipy.sparse.linalg._eigen.arpack', 'scipy.sparse.linalg._eigen.lobpcg.lobpcg', 'scipy.sparse.linalg._eigen.lobpcg', 'scipy.sparse.linalg._eigen._svds', 'scipy.sparse.linalg._eigen', 'scipy.sparse.linalg._expm_multiply', 'scipy.sparse.linalg._matfuncs', 'scipy.sparse.linalg._onenormest', 'scipy.sparse.linalg._norm', 'scipy.sparse.linalg.isolve', 'scipy.sparse.linalg.dsolve', 'scipy.sparse.linalg.interface', 'scipy.sparse.linalg.eigen', 'scipy.sparse.linalg.matfuncs', 'scipy.sparse.linalg', 'scipy.optimize._minpack2', 'scipy.optimize._linesearch', 'scipy.optimize._group_columns', 'scipy.optimize._numdiff', 'scipy.optimize._hessian_update_strategy', 'scipy.optimize._differentiable_functions', 'scipy.optimize._optimize', 'scipy.optimize._trustregion', 'scipy.optimize._trustregion_dogleg', 'scipy.optimize._trustregion_ncg', 'scipy.optimize._trlib._trlib', 'scipy.optimize._trlib', 'scipy.optimize._trustregion_krylov', 'scipy.optimize._trustregion_exact', 'unittest.util', 'unittest.result', 'unittest.case', 'unittest.async_case', 'unittest.suite', 'unittest.loader', 'unittest.signals', 'unittest.runner', 'unittest.main', 'unittest', 'numpy.testing._private', 'numpy.testing._private.utils', 'numpy.testing._private.decorators', 'numpy.testing._private.nosetester', 'numpy.testing', 'scipy.optimize._constraints', 'scipy.optimize._trustregion_constr.projections', 'scipy.optimize._trustregion_constr.qp_subproblem', 'scipy.optimize._trustregion_constr.equality_constrained_sqp', 'scipy.optimize._trustregion_constr.canonical_constraint', 'scipy.optimize._trustregion_constr.tr_interior_point', 'scipy.optimize._trustregion_constr.report', 'scipy.optimize._trustregion_constr.minimize_trustregion_constr', 'scipy.optimize._trustregion_constr', 'scipy.optimize._lbfgsb', 'scipy.optimize._lbfgsb_py', '_moduleTNC', 'scipy.optimize._moduleTNC', 'scipy.optimize._tnc', 'scipy.optimize._cobyla', 'scipy.optimize._cobyla_py', 'scipy.optimize._slsqp', 'scipy.optimize._slsqp_py', 'scipy.optimize._minimize', 'scipy.optimize._minpack', 'scipy.optimize._lsq.common', 'scipy.optimize._lsq.trf', 'scipy.optimize._lsq.dogbox', 'scipy.optimize._lsq.least_squares', 'scipy.optimize._lsq.givens_elimination', 'scipy.optimize._lsq.trf_linear', 'scipy.optimize._lsq.bvls', 'scipy.optimize._lsq.lsq_linear', 'scipy.optimize._lsq', 'scipy.optimize._minpack_py', 'scipy.optimize._spectral', 'scipy.optimize._nonlin', 'scipy.optimize._root', 'scipy.optimize._zeros', 'scipy.optimize._zeros_py', 'scipy.optimize._root_scalar', 'scipy.optimize.__nnls', 'scipy.optimize._nnls', 'scipy.optimize._basinhopping', 'scipy.optimize._highs', 'scipy.optimize._highs.cython.src._highs_wrapper', 'scipy.optimize._highs._highs_wrapper', 'scipy.optimize._highs.cython.src._highs_constants', 'scipy.optimize._highs._highs_constants', 'scipy.optimize._linprog_highs', 'scipy.linalg._interpolative', 'scipy.linalg._interpolative_backend', 'scipy.linalg.interpolative', 'scipy.optimize._remove_redundancy', 'scipy.optimize._linprog_util', 'scipy.optimize._linprog_ip', 'scipy.optimize._linprog_simplex', 'scipy.optimize._bglu_dense', 'scipy.optimize._linprog_rs', 'scipy.optimize._linprog_doc', 'scipy.optimize._linprog', 'scipy.optimize._lsap_module', 'scipy.optimize._lsap', 'scipy.optimize._differentialevolution', 'scipy.optimize._shgo_lib', 'scipy.optimize._shgo_lib.triangulation', 'scipy.optimize._shgo', 'scipy.optimize._dual_annealing', 'scipy.optimize._qap', 'scipy.optimize.cobyla', 'scipy.optimize.lbfgsb', 'scipy.optimize.linesearch', 'scipy.optimize.minpack', 'scipy.optimize.minpack2', 'scipy.optimize.moduleTNC', 'scipy.optimize.nonlin', 'scipy.optimize.optimize', 'scipy.optimize.slsqp', 'scipy.optimize.tnc', 'scipy.optimize.zeros', 'scipy.optimize', 'scipy.integrate._quadrature', 'scipy.integrate._odepack', 'scipy.integrate._odepack_py', 'scipy.integrate._quadpack', 'scipy.integrate._quadpack_py', 'scipy.integrate._vode', 'scipy.integrate._dop', 'scipy.integrate._lsoda', 'scipy.integrate._ode', 'scipy.integrate._bvp', 'scipy.integrate._ivp.common', 'scipy.integrate._ivp.base', 'scipy.integrate._ivp.bdf', 'scipy.integrate._ivp.radau', 'scipy.integrate._ivp.dop853_coefficients', 'scipy.integrate._ivp.rk', 'scipy.integrate._ivp.lsoda', 'scipy.integrate._ivp.ivp', 'scipy.integrate._ivp', 'scipy.integrate._quad_vec', 'scipy.integrate.dop', 'scipy.integrate.lsoda', 'scipy.integrate.vode', 'scipy.integrate.odepack', 'scipy.integrate.quadpack', 'scipy.integrate', 'scipy.misc._common', 'scipy.misc.common', 'scipy.misc._doccer', 'scipy.misc.doccer', 'scipy.misc', 'scipy.stats._constants', 'scipy.stats._distn_infrastructure', 'scipy.interpolate._fitpack', 'scipy.interpolate.dfitpack', 'scipy.interpolate._fitpack_impl', 'scipy.interpolate._bspl', 'scipy.interpolate._bsplines', 'scipy.interpolate._fitpack_py', 'scipy.interpolate._polyint', 'scipy.interpolate._ppoly', 'scipy.interpolate._fitpack2', 'scipy.interpolate.interpnd', 'scipy.interpolate._interpolate', 'scipy.interpolate._rbf', 'scipy.interpolate._rbfinterp_pythran', 'scipy.interpolate._rbfinterp', 'scipy.interpolate._cubic', 'scipy.interpolate._ndgriddata', 'scipy.interpolate._pade', 'scipy.interpolate.fitpack', 'scipy.interpolate.fitpack2', 'scipy.interpolate.interpolate', 'scipy.interpolate.ndgriddata', 'scipy.interpolate.polyint', 'scipy.interpolate.rbf', 'scipy.interpolate', 'scipy.special.cython_special', 'scipy.stats._stats', 'scipy.stats._tukeylambda_stats', 'scipy.stats._ksstats', 'beta_ufunc', 'scipy.stats._boost.beta_ufunc', 'binom_ufunc', 'scipy.stats._boost.binom_ufunc', 'nbinom_ufunc', 'scipy.stats._boost.nbinom_ufunc', 'hypergeom_ufunc', 'scipy.stats._boost.hypergeom_ufunc', 'scipy.stats._boost', 'scipy.stats._continuous_distns', 'scipy.stats._biasedurn', 'scipy.stats._discrete_distns', 'scipy.stats._entropy', 'scipy.stats.distributions', 'scipy._lib._bunch', 'scipy.stats._stats_mstats_common', 'scipy.stats._mstats_basic', 'scipy.stats._common', 'scipy.stats._wilcoxon_data', 'scipy._lib._docscrape', 'scipy.stats._axis_nan_policy', 'scipy.stats._bootstrap', 'scipy.stats._hypotests_pythran', 'scipy.stats._hypotests', 'scipy.stats._stats_py', 'scipy.stats._variation', 'scipy.stats._statlib', 'scipy.stats._relative_risk', 'scipy.stats._crosstab', 'scipy.stats.contingency', 'scipy.stats._morestats', 'scipy.stats._binomtest', 'scipy.stats._binned_statistic', 'scipy.stats._mvn', 'scipy.stats._kde', 'scipy.stats._mstats_extras', 'scipy.stats.mstats', 'scipy.stats._sobol', 'scipy.stats._qmc_cy', 'scipy.stats._qmc', 'scipy.stats.qmc', 'scipy.stats._multivariate', 'scipy.stats._unuran', 'scipy.stats._unuran.unuran_wrapper', 'scipy.stats._rvs_sampling', 'scipy.stats._page_trend_test', 'scipy.stats._mannwhitneyu', 'scipy.stats.biasedurn', 'scipy.stats.kde', 'scipy.stats.morestats', 'scipy.stats.mstats_basic', 'scipy.stats.mstats_extras', 'scipy.stats.mvn', 'scipy.stats.statlib', 'scipy.stats.stats', 'scipy.stats', 'nltk.metrics.association', 'nltk.metrics.confusionmatrix', 'nltk.metrics.paice', 'nltk.collections', 'nltk.util', 'nltk.metrics.scores', 'nltk.metrics.segmentation', 'nltk.metrics.spearman', 'nltk.metrics', 'nltk.collocations', 'nltk.decorators', 'optparse', 'nltk.sem.logic', '_tkinter', 'tkinter.constants', 'tkinter', 'tkinter.font', 'nltk.sem.drt', 'nltk.sem.boxer', 'nltk.sem.evaluate', 'nltk.sem.lfg', 'nltk.sem.relextract', 'nltk.sem.skolemize', 'nltk.sem.util', 'nltk.sem', 'nltk.featstruct', 'nltk.grammar', 'nltk.lm.counter', 'nltk.lm.util', 'nltk.lm.vocabulary', 'nltk.lm.api', 'nltk.lm.smoothing', 'nltk.lm.models', 'nltk.lm', 'nltk.lm.preprocessing', 'nltk.compat', 'nltk.data', 'regex._regex', 'regex._regex_core', 'regex.regex', 'regex', 'nltk.tokenize.util', 'nltk.tokenize.api', 'nltk.tokenize.casual', 'nltk.tokenize.destructive', 'nltk.tokenize.legality_principle', 'nltk.tokenize.mwe', 'nltk.tokenize.punkt', 'nltk.tokenize.regexp', 'nltk.tokenize.repp', 'nltk.tokenize.sexpr', 'nltk.tokenize.simple', 'nltk.tokenize.sonority_sequencing', 'nltk.tokenize.stanford_segmenter', 'nltk.tokenize.texttiling', 'nltk.tokenize.toktok', 'nltk.tokenize.treebank', 'nltk.tokenize', 'nltk.text', 'nltk.jsontags', 'nltk.tag.util', 'nltk.tag.api', 'nltk.classify.api', 'nltk.classify.decisiontree', 'nltk.classify.megam', 'nltk.classify.tadm', 'nltk.classify.util', 'nltk.classify.maxent', 'nltk.classify.naivebayes', 'nltk.classify.positivenaivebayes', 'nltk.classify.rte_classify', 'sklearn._config', 'sklearn._distributor_init', 'sklearn.__check_build._check_build', 'sklearn.__check_build', 'sklearn.utils.murmurhash', 'sklearn.utils.class_weight', 'joblib.hashing', 'multiprocessing.process', 'multiprocessing.reduction', 'multiprocessing.context', '__mp_main__', 'multiprocessing', 'multiprocessing.util', 'joblib.disk', 'joblib.logger', 'joblib.func_inspect', 'joblib.backports', 'joblib.compressor', 'joblib.numpy_pickle_utils', 'joblib.numpy_pickle_compat', 'joblib.numpy_pickle', 'joblib._store_backends', 'joblib.memory', '_multiprocessing', 'joblib._multiprocessing_helpers', 'joblib._deprecated_my_exceptions', 'joblib.my_exceptions', 'mmap', 'joblib.externals', 'joblib.externals.loky._base', 'multiprocessing.spawn', 'multiprocessing.popen_spawn_win32', 'multiprocessing.connection', 'joblib.externals.loky.backend.compat_win32', 'joblib.externals.loky.backend.compat', 'joblib.externals.loky.backend.process', 'joblib.externals.loky.backend.context', 'multiprocessing.synchronize', 'joblib.externals.loky.backend', 'joblib.externals.loky.backend._win_reduction', 'joblib.externals.cloudpickle.compat', 'joblib.externals.cloudpickle.cloudpickle', 'joblib.externals.cloudpickle.cloudpickle_fast', 'joblib.externals.cloudpickle', 'joblib.externals.loky.backend.reduction', 'multiprocessing.queues', 'joblib.externals.loky.backend.queues', 'joblib.externals.loky.backend.utils', 'joblib.externals.loky.initializers', 'concurrent.futures.process', 'joblib.externals.loky.process_executor', 'joblib.externals.loky.reusable_executor', 'joblib.externals.loky.cloudpickle_wrapper', 'joblib.externals.loky', 'joblib.externals.loky.backend.spawn', 'joblib.externals.loky.backend.resource_tracker', 'joblib._memmapping_reducer', 'multiprocessing.pool', 'joblib.pool', 'joblib.executor', 'joblib._parallel_backends', 'joblib.parallel', 'joblib', 'sklearn.utils._joblib', 'sklearn.utils.deprecation', 'sklearn.exceptions', 'ctypes.util', 'threadpoolctl', 'sklearn.externals', 'sklearn.externals._packaging', 'sklearn.externals._packaging._structures', 'sklearn.externals._packaging.version', 'sklearn.utils.fixes', 'sklearn.utils._estimator_html_repr', 'sklearn.utils.validation', 'sklearn.utils', 'sklearn.utils._tags', 'sklearn.base', 'sklearn.utils._openmp_helpers', 'sklearn.utils._show_versions', 'sklearn', 'sklearn.feature_extraction._dict_vectorizer', 'sklearn.feature_extraction._hashing_fast', 'sklearn.feature_extraction._hash', 'sklearn.feature_extraction.image', 'sklearn.preprocessing._function_transformer', 'sklearn.utils._logistic_sigmoid', '_cython_0_29_26', 'sklearn.utils.sparsefuncs_fast', 'sklearn.utils.extmath', 'sklearn.utils.sparsefuncs', 'sklearn.utils._mask', 'sklearn.utils._encode', 'sklearn.preprocessing._encoders', 'sklearn.preprocessing._data', 'sklearn.utils.multiclass', 'sklearn.preprocessing._label', 'sklearn.preprocessing._discretization', 'sklearn.utils.stats', 'sklearn.preprocessing._csr_polynomial_expansion', 'sklearn.preprocessing._polynomial', 'sklearn.preprocessing', 'sklearn.feature_extraction._stop_words', 'sklearn.feature_extraction.text', 'sklearn.feature_extraction', 'nltk.classify.scikitlearn', 'nltk.classify.senna', 'nltk.classify.textcat', 'nltk.classify.weka', 'nltk.classify', 'nltk.tag.sequential', 'nltk.tbl.feature', 'nltk.tbl.rule', 'nltk.tbl.template', 'nltk.tbl.erroranalysis', 'nltk.tbl', 'nltk.tag.brill', 'nltk.tag.brill_trainer', 'nltk.tag.tnt', 'nltk.tag.hunpos', 'nltk.tag.stanford', 'nltk.tag.hmm', 'nltk.tag.senna', 'nltk.tag.mapping', 'nltk.tag.crf', 'nltk.tag.perceptron', 'nltk.tag', 'nltk.tree.tree', 'nltk.tree.parented', 'nltk.tree.immutable', 'nltk.tree.parsing', 'nltk.tree.prettyprinter', 'nltk.tree.probabilistic', 'nltk.tree.transforms', 'nltk.tree', 'nltk.chunk.util', 'nltk.parse.api', 'nltk.parse.bllip', 'nltk.parse.chart', 'nltk.parse.dependencygraph', 'nltk.parse.corenlp', 'nltk.parse.featurechart', 'nltk.parse.earleychart', 'nltk.parse.evaluate', 'nltk.parse.pchart', 'nltk.parse.util', 'nltk.parse.malt', 'nltk.parse.nonprojectivedependencyparser', 'nltk.parse.projectivedependencyparser', 'nltk.parse.recursivedescent', 'nltk.parse.shiftreduce', 'sklearn.utils._cython_blas', 'sklearn.svm._libsvm', 'sklearn.svm._liblinear', 'sklearn.svm._libsvm_sparse', 'sklearn.utils.metaestimators', 'sklearn.svm._base', 'sklearn.utils._random', 'sklearn.utils._seq_dataset', 'sklearn.linear_model._base', 'sklearn.linear_model._bayes', 'sklearn.utils.arrayfuncs', 'sklearn.model_selection._split', 'sklearn.metrics._base', 'sklearn.metrics._ranking', 'sklearn.metrics._classification', 'sklearn.utils._typedefs', 'sklearn.utils._readonly_array_wrapper', 'sklearn.metrics._dist_metrics', 'sklearn.metrics.cluster._expected_mutual_info_fast', 'sklearn.metrics.cluster._supervised', 'sklearn.metrics._pairwise_fast', 'sklearn.metrics.pairwise', 'sklearn.metrics.cluster._unsupervised', 'sklearn.metrics.cluster._bicluster', 'sklearn.metrics.cluster', 'sklearn._loss', 'sklearn._loss.glm_distribution', 'sklearn.metrics._regression', 'sklearn.metrics._scorer', 'sklearn.metrics._plot', 'sklearn.metrics._plot.base', 'sklearn.metrics._plot.det_curve', 'sklearn.metrics._plot.roc_curve', 'sklearn.metrics._plot.precision_recall_curve', 'sklearn.metrics._plot.confusion_matrix', 'sklearn.metrics', 'sklearn.model_selection._validation', 'sklearn.utils.random', 'sklearn.model_selection._search', 'sklearn.model_selection', 'sklearn.linear_model._least_angle', 'sklearn.linear_model._cd_fast', 'sklearn.linear_model._coordinate_descent', 'sklearn.utils.optimize', 'sklearn.linear_model._glm.link', 'sklearn.linear_model._glm.glm', 'sklearn.linear_model._glm', 'sklearn.linear_model._huber', 'sklearn.utils._weight_vector', 'sklearn.linear_model._sgd_fast', 'sklearn.linear_model._stochastic_gradient', 'sklearn.linear_model._sag_fast', 'sklearn.linear_model._sag', 'sklearn.linear_model._ridge', 'sklearn.linear_model._logistic', 'sklearn.linear_model._omp', 'sklearn.linear_model._passive_aggressive', 'sklearn.linear_model._perceptron', 'sklearn.linear_model._quantile', 'sklearn.linear_model._ransac', 'sklearn.linear_model._theil_sen', 'sklearn.linear_model', 'sklearn.svm._classes', 'sklearn.svm._bounds', 'sklearn.svm', 'sklearn.datasets._base', 'sklearn.datasets._covtype', 'sklearn.datasets._kddcup99', 'sklearn.datasets._lfw', 'tarfile', 'sklearn.datasets._twenty_newsgroups', 'sklearn.externals._arff', 'sklearn.datasets._openml', 'sklearn.datasets._samples_generator', 'sklearn.datasets._svmlight_format_fast', 'sklearn.datasets._svmlight_format_io', 'scipy.io.matlab._byteordercodes', 'scipy.io.matlab._miobase', 'scipy.io.matlab._mio_utils', 'scipy.io.matlab._mio4', 'scipy.io.matlab._streams', 'scipy.io.matlab._mio5_params', 'scipy.io.matlab._mio5_utils', 'scipy.io.matlab._mio5', 'scipy.io.matlab._mio', 'scipy.io.matlab.mio', 'scipy.io.matlab.mio5', 'scipy.io.matlab.mio5_params', 'scipy.io.matlab.mio4', 'scipy.io.matlab.byteordercodes', 'scipy.io.matlab.miobase', 'scipy.io.matlab.mio_utils', 'scipy.io.matlab.streams', 'scipy.io.matlab.mio5_utils', 'scipy.io.matlab', 'scipy.io._netcdf', 'scipy.io._fortran', 'scipy.io._mmio', 'scipy.io._idl', 'scipy.io._harwell_boeing._fortran_format_parser', 'scipy.io._harwell_boeing.hb', 'scipy.io._harwell_boeing', 'scipy.io.arff._arffread', 'scipy.io.arff.arffread', 'scipy.io.arff', 'scipy.io.harwell_boeing', 'scipy.io.idl', 'scipy.io.mmio', 'scipy.io.netcdf', 'scipy.io.wavfile', 'scipy.io', 'sklearn.datasets._olivetti_faces', 'sklearn.datasets._species_distributions', 'sklearn.datasets._california_housing', 'sklearn.datasets._rcv1', 'sklearn.datasets', 'nltk.parse.transitionparser', 'nltk.parse.viterbi', 'nltk.parse', 'nltk.chunk.api', 'nltk.chunk.regexp', 'nltk.chunk', 'nltk.inference.api', 'nltk.inference.prover9', 'nltk.inference.mace', 'nltk.sem.linearlogic', 'nltk.sem.glue', 'nltk.inference.discourse', 'nltk.inference.resolution', 'nltk.inference.tableau', 'nltk.inference', 'nltk.translate.api', 'nltk.translate.ibm_model', 'nltk.translate.ibm1', 'nltk.translate.ibm2', 'nltk.translate.ibm3', 'nltk.translate.ibm4', 'nltk.translate.ibm5', 'nltk.translate.bleu_score', 'nltk.translate.ribes_score', 'nltk.corpus.reader.util', 'nltk.corpus.reader.api', 'nltk.corpus.reader.plaintext', 'nltk.corpus.reader.timit', 'nltk.corpus.reader.tagged', 'nltk.corpus.reader.cmudict', 'nltk.corpus.reader.conll', 'nltk.corpus.reader.bracket_parse', 'nltk.corpus.reader.chunked', 'nltk.corpus.reader.wordlist', 'nltk.corpus.reader.xmldocs', 'nltk.corpus.reader.ppattach', 'nltk.corpus.reader.senseval', 'nltk.corpus.reader.ieer', 'nltk.corpus.reader.sinica_treebank', 'nltk.corpus.reader.indian', 'nltk.toolbox', 'nltk.corpus.reader.toolbox', 'nltk.corpus.reader.ycoe', 'nltk.corpus.reader.rte', 'nltk.corpus.reader.string_category', 'nltk.corpus.reader.propbank', 'nltk.corpus.reader.verbnet', 'nltk.corpus.reader.bnc', 'nltk.corpus.reader.nps_chat', 'nltk.corpus.reader.wordnet', 'nltk.corpus.reader.switchboard', 'nltk.corpus.reader.dependency', 'nltk.corpus.reader.nombank', 'nltk.corpus.reader.ipipan', 'nltk.corpus.reader.pl196x', 'nltk.corpus.reader.knbc', 'nltk.corpus.reader.chasen', 'nltk.corpus.reader.childes', 'nltk.corpus.reader.aligned', 'nltk.corpus.reader.lin', 'nltk.corpus.reader.semcor', 'nltk.corpus.reader.framenet', 'nltk.corpus.reader.udhr', 'nltk.corpus.reader.sentiwordnet', 'nltk.corpus.reader.twitter', 'nltk.corpus.reader.nkjp', 'nltk.corpus.reader.crubadan', 'nltk.corpus.reader.mte', 'nltk.corpus.reader.reviews', 'nltk.corpus.reader.opinion_lexicon', 'nltk.corpus.reader.pros_cons', 'nltk.corpus.reader.categorized_sents', 'nltk.corpus.reader.comparative_sents', 'nltk.corpus.reader.panlex_lite', 'nltk.corpus.reader.panlex_swadesh', 'nltk.corpus.reader', 'nltk.corpus.util', 'nltk.corpus', 'nltk.stem.api', 'nltk.stem.arlstem', 'nltk.stem.arlstem2', 'nltk.stem.cistem', 'nltk.stem.isri', 'nltk.stem.lancaster', 'nltk.stem.porter', 'nltk.stem.regexp', 'nltk.stem.rslp', 'nltk.stem.util', 'nltk.stem.snowball', 'nltk.stem.wordnet', 'nltk.stem', 'nltk.translate.meteor_score', 'nltk.translate.metrics', 'nltk.translate.stack_decoder', 'nltk.translate.nist_score', 'nltk.translate.chrf_score', 'nltk.translate.gale_church', 'nltk.translate.gdfa', 'nltk.translate.gleu_score', 'nltk.translate.phrase_based', 'nltk.translate', 'nltk.lazyimport', 'nltk.cluster.api', 'nltk.cluster.util', 'nltk.cluster.em', 'nltk.cluster.gaac', 'nltk.cluster.kmeans', 'nltk.cluster', 'tkinter.commondialog', 'tkinter.messagebox', 'tkinter.dialog', 'tkinter.filedialog', 'nltk.draw.util', 'nltk.draw.tree', 'nltk.draw.cfg', 'nltk.draw.table', 'nltk.draw.dispersion', 'nltk.draw', 'nltk.downloader', 'nltk.ccg.api', 'nltk.ccg.combinator', 'nltk.ccg.lexicon', 'nltk.ccg.logic', 'nltk.ccg.chart', 'nltk.ccg', 'nltk.help', 'nltk.misc.babelfish', 'nltk.misc.chomsky', 'nltk.misc.minimalset', 'nltk.misc.wordfinder', 'nltk.misc', 'nltk.wsd', 'nltk', 'pytz.exceptions', 'pytz.lazy', 'pytz.tzinfo', 'pytz.tzfile', 'pytz', 'pandas._typing', 'pandas.compat', 'pandas.compat.numpy', 'pandas._libs.tslibs.dtypes', 'pandas._libs.tslibs.base', 'pandas._libs.tslibs.np_datetime', 'pandas._libs.tslibs.nattype', 'pandas._libs.tslibs.timezones', 'pandas._libs.tslibs.ccalendar', 'pandas._libs.tslibs.tzconversion', 'pandas._libs.tslibs.timedeltas', 'pandas._config.config', 'pandas._config.dates', 'pandas._config.display', 'pandas._config', 'pandas._config.localization', 'pandas._libs.tslibs.strptime', 'pandas._libs.tslibs.fields', 'pandas._libs.tslibs.timestamps', 'dateutil.easter', 'pandas._libs.properties', 'pandas._libs.tslibs.offsets', 'pandas._libs.tslibs.parsing', 'pandas._libs.tslibs.conversion', 'pandas._libs.tslibs.period', 'pandas._libs.tslibs.vectorized', 'pandas._libs.tslibs', 'pandas._libs.ops_dispatch', 'pandas._libs.missing', 'pandas._libs.hashtable', 'pandas._libs.algos', 'pandas._libs.interval', 'pandas._libs', 'pandas._libs.tslib', 'pandas._libs.lib', 'pandas.core', 'pandas.core.config_init', 'pandas.core.dtypes', 'pandas.errors', 'pandas.core.dtypes.generic', 'pandas.core.dtypes.base', 'pandas.core.dtypes.inference', 'pandas.core.dtypes.dtypes', 'pandas.core.dtypes.common', 'pandas.core.dtypes.missing', 'pandas.util._decorators', 'pandas.core.util', 'pandas._libs.hashing', 'pandas.core.util.hashing', 'pandas.util', 'pandas.util._validators', 'pandas.core.dtypes.cast', 'pandas.core.common', 'pandas.core.construction', 'pandas.core.indexers', 'pandas.core.algorithms', 'pandas.compat.numpy.function', 'pandas._libs.ops', 'pandas.core.ops.roperator', 'pandas.core.ops.missing', 'pandas.core.ops.dispatch', 'pandas.core.ops.invalid', 'pandas.core.ops.array_ops', 'pandas.core.ops.common', 'pandas.core.ops.docstrings', 'pandas.core.ops.mask_ops', 'pandas.core.ops.methods', 'pandas.core.ops', 'pandas.compat._optional', 'pandas.core.missing', 'pandas.core.sorting', 'pandas.core.arrays.base', 'pandas.core.nanops', 'pandas.core.array_algos', 'pandas.core.array_algos.masked_reductions', 'pandas.core.arraylike', 'pandas.core.arrays.masked', 'pandas.core.arrays.boolean', 'pandas.core.accessor', 'pandas.core.array_algos.transforms', 'pandas.core.arrays._mixins', 'pandas.core.base', 'pandas.core.strings.accessor', 'pandas.core.strings.base', 'pandas.core.strings', 'pandas.core.strings.object_array', 'pandas.io', 'pandas.io.formats', 'pandas.io.formats.console', 'pandas.core.arrays.categorical', 'pandas.tseries', 'pandas.tseries.frequencies', 'pandas.core.arrays.datetimelike', 'pandas.core.arrays._ranges', 'pandas.tseries.offsets', 'pandas.core.arrays.datetimes', 'pandas.core.tools', 'pandas.core.tools.numeric', 'pandas.core.arrays.numeric', 'pandas.core.arrays.floating', 'pandas.core.arrays.integer', 'pandas.core.indexes', 'pandas._libs.index', 'pandas._libs.join', 'pandas._libs.sparse', 'pandas.core.arrays.sparse.dtype', 'pandas.io.formats.printing', 'pandas.core.arrays.sparse.array', 'pandas.core.arrays.sparse.accessor', 'pandas.core.arrays.sparse', 'pandas.core.dtypes.concat', 'pandas.core.indexes.frozen', 'pandas.core.indexes.base', 'pandas.core.arrays.interval', 'pandas.core.arrays.numpy_', 'pandas.core.arrays.period', 'pandas.core.arrays.string_', 'pandas.core.arrays.timedeltas', 'pandas.core.arrays', 'pandas.core.flags', 'pandas._libs.reduction', 'pandas.core.indexes.extension', 'pandas.core.indexes.category', 'pandas.core.indexes.numeric', 'pandas.core.tools.timedeltas', 'pandas.core.indexes.datetimelike', 'pandas.core.tools.times', 'pandas.core.indexes.datetimes', 'pandas.util._exceptions', 'pandas.core.indexes.multi', 'pandas.core.indexes.timedeltas', 'pandas.core.indexes.interval', 'pandas.core.indexes.period', 'pandas.core.indexes.range', 'pandas.core.indexes.api', 'pandas.core.aggregation', 'pandas._libs.indexing', 'pandas.core.indexing', 'pandas._libs.internals', 'pandas._libs.writers', 'pandas.core.array_algos.replace', 'pandas.core.internals.blocks', 'pandas.core.internals.ops', 'pandas.core.internals.managers', 'pandas.core.internals.concat', 'pandas.core.internals', 'pandas.core.shared_docs', 'pandas._libs.window', 'pandas._libs.window.aggregations', 'pandas.core.util.numba_', 'pandas.core.window.common', 'pandas._libs.window.indexers', 'pandas.core.window.indexers', 'pandas.core.window.numba_', 'pandas.core.groupby.base', 'pandas.core.window.rolling', 'pandas.core.window.ewm', 'pandas.core.window.expanding', 'pandas.core.window', 'pandas.core.reshape', 'pandas.core.reshape.concat', 'pandas.io.common', 'pandas.io.formats.format', 'pandas.core.generic', 'pandas.core.internals.construction', 'pandas.core.reshape.util', 'pandas.core.reshape.melt', 'pandas._libs.reshape', 'pandas.core.indexes.accessors', 'pandas.arrays', 'pandas.core.tools.datetimes', 'pandas.plotting._core', 'pandas.plotting._misc', 'pandas.plotting', 'pandas.core.series', 'pandas.io.formats.info', 'pandas.core.frame', 'pandas._libs.groupby', 'pandas.core.groupby.numba_', 'pandas.core.groupby.categorical', 'pandas.core.groupby.grouper', 'pandas.core.groupby.ops', 'pandas.core.groupby.groupby', 'pandas.core.groupby.generic', 'pandas.core.groupby', 'pandas.core.api', 'pandas.tseries.api', 'pandas.core.computation', 'pandas.core.computation.common', 'pandas.core.computation.align', 'pandas.compat.chainmap', 'pandas.core.computation.scope', 'pandas.core.computation.ops', 'pandas.core.computation.engines', 'pandas.core.computation.parsing', 'pandas.core.computation.expr', 'pandas.core.computation.eval', 'pandas.core.computation.api', 'pandas.core.reshape.merge', 'pandas.core.reshape.pivot', 'pandas.core.reshape.reshape', 'pandas.core.reshape.tile', 'pandas.core.reshape.api', 'pandas.api.extensions', 'pandas.api.indexers', 'pandas.core.dtypes.api', 'pandas.api.types', 'pandas.api', 'pandas.util._print_versions', 'pandas.io.clipboards', 'pandas._libs.parsers', 'pandas.io.excel._util', 'pandas.io.date_converters', 'pandas.io.parsers', 'pandas.io.excel._odfreader', 'pandas.io.excel._openpyxl', 'pandas.io.excel._pyxlsb', 'pandas.io.excel._xlrd', 'pandas.io.excel._base', 'pandas._libs.json', 'pandas.io.formats._color_data', 'pandas.io.formats.css', 'pandas.io.formats.excel', 'pandas.io.excel._odswriter', 'pandas.io.excel._xlsxwriter', 'pandas.io.excel._xlwt', 'pandas.io.excel', 'pandas.io.feather_format', 'pandas.io.gbq', 'pandas.io.html', 'pandas.io.json._normalize', 'pandas.io.json._table_schema', 'pandas.io.json._json', 'pandas.io.json', 'pandas.io.orc', 'pandas.io.parquet', 'pandas.compat.pickle_compat', 'pandas.io.pickle', 'pandas.core.computation.pytables', 'pandas.io.pytables', 'pandas.io.sas.sasreader', 'pandas.io.sas', 'pandas.io.spss', 'pandas.io.sql', 'pandas.io.stata', 'pandas.io.api', 'pandas.util._tester', 'cmath', 'pandas._libs.testing', 'pandas._testing', 'pandas.testing', 'pandas._version', 'pandas', 'matplotlib', 'matplotlib._api.deprecation', 'matplotlib._api', 'matplotlib._c_internal_utils', 'matplotlib.cbook', 'matplotlib.docstring', 'PIL._version', 'PIL', 'defusedxml.common', 'defusedxml', '_elementtree', 'xml.etree.ElementTree', 'defusedxml.ElementTree', 'PIL.ImageMode', 'PIL.TiffTags', 'PIL._binary', 'PIL._util', 'PIL._imaging', 'cffi.lock', 'cffi.error', 'cffi.model', 'cffi.api', 'cffi', 'PIL.Image', 'matplotlib._animation_data', 'matplotlib.animation', 'PIL.ImageChops', 'PIL.ImageFile', 'PIL.GimpGradientFile', 'PIL.GimpPaletteFile', 'PIL.ImageColor', 'PIL.PaletteFile', 'PIL.ImagePalette', 'PIL.ImageSequence', 'PIL.PngImagePlugin', 'matplotlib._path', 'matplotlib.bezier', 'matplotlib.path', 'matplotlib.transforms', 'matplotlib.ticker', 'matplotlib.scale', 'matplotlib._color_data', 'matplotlib.colors', 'pyparsing', 'matplotlib.fontconfig_pattern', 'matplotlib._enums', 'cycler', 'matplotlib.rcsetup', 'matplotlib._version', 'matplotlib.ft2font', 'kiwisolver', 'dateutil.rrule', 'matplotlib.units', 'matplotlib.dates']\n"
     ]
    },
    {
     "name": "stderr",
     "output_type": "stream",
     "text": [
      "2022-06-16 04:42:15 [matplotlib] DEBUG: CACHEDIR=C:\\Users\\ASUS\\.matplotlib\n"
     ]
    },
    {
     "name": "stderr",
     "output_type": "stream",
     "text": [
      "2022-06-16 04:42:15 [matplotlib.font_manager] DEBUG: Using fontManager instance from C:\\Users\\ASUS\\.matplotlib\\fontlist-v330.json\n"
     ]
    },
    {
     "name": "stderr",
     "output_type": "stream",
     "text": [
      "2022-06-16 04:42:15 [matplotlib.pyplot] DEBUG: Loaded backend module://matplotlib_inline.backend_inline version unknown.\n"
     ]
    },
    {
     "name": "stderr",
     "output_type": "stream",
     "text": [
      "2022-06-16 04:42:15 [matplotlib.pyplot] DEBUG: Loaded backend module://matplotlib_inline.backend_inline version unknown.\n"
     ]
    },
    {
     "name": "stderr",
     "output_type": "stream",
     "text": [
      "2022-06-16 04:42:15 [matplotlib.pyplot] DEBUG: Loaded backend module://matplotlib_inline.backend_inline version unknown.\n"
     ]
    }
   ],
   "source": [
    "# data visualisation and manipulation\n",
    "import numpy as np\n",
    "import pandas as pd\n",
    "import matplotlib.pyplot as plt\n",
    "from matplotlib import style\n",
    "import seaborn as sns\n",
    "#configure\n",
    "# sets matplotlib to inline and displays graphs below the corressponding cell.\n",
    "%matplotlib inline  \n",
    "style.use('fivethirtyeight')\n",
    "sns.set(style='whitegrid',color_codes=True)\n",
    "\n",
    "#import nltk\n",
    "import nltk\n",
    "from nltk.corpus import stopwords\n",
    "from nltk.tokenize import word_tokenize,sent_tokenize\n",
    "\n",
    "#preprocessing\n",
    "from nltk.corpus import stopwords  #stopwords\n",
    "from nltk import word_tokenize,sent_tokenize # tokenizing\n",
    "from nltk.stem import PorterStemmer,LancasterStemmer  # using the Porter Stemmer and Lancaster Stemmer and others\n",
    "from nltk.stem.snowball import SnowballStemmer\n",
    "from nltk.stem import WordNetLemmatizer  # lammatizer from WordNet\n",
    "\n",
    "# for named entity recognition (NER)\n",
    "from nltk import ne_chunk\n",
    "\n",
    "# vectorizers for creating the document-term-matrix (DTM)\n",
    "from sklearn.feature_extraction.text import TfidfVectorizer,CountVectorizer\n",
    "\n",
    "#stop-words\n",
    "stop_words=set(nltk.corpus.stopwords.words('english'))"
   ]
  },
  {
   "cell_type": "markdown",
   "metadata": {
    "id": "OExeGvk7PcMk"
   },
   "source": [
    "Melakukan Load Data"
   ]
  },
  {
   "cell_type": "code",
   "execution_count": 6,
   "metadata": {
    "colab": {
     "base_uri": "https://localhost:8080/",
     "height": 206
    },
    "id": "KAJ56dqqh_5a",
    "outputId": "c9db24a6-4a1f-484e-ba35-1aa20e792f90"
   },
   "outputs": [
    {
     "data": {
      "text/html": [
       "<div>\n",
       "<style scoped>\n",
       "    .dataframe tbody tr th:only-of-type {\n",
       "        vertical-align: middle;\n",
       "    }\n",
       "\n",
       "    .dataframe tbody tr th {\n",
       "        vertical-align: top;\n",
       "    }\n",
       "\n",
       "    .dataframe thead th {\n",
       "        text-align: right;\n",
       "    }\n",
       "</style>\n",
       "<table border=\"1\" class=\"dataframe\">\n",
       "  <thead>\n",
       "    <tr style=\"text-align: right;\">\n",
       "      <th></th>\n",
       "      <th>Kategori</th>\n",
       "      <th>Tanggal</th>\n",
       "      <th>Judul</th>\n",
       "      <th>Deskripsi</th>\n",
       "    </tr>\n",
       "  </thead>\n",
       "  <tbody>\n",
       "    <tr>\n",
       "      <th>0</th>\n",
       "      <td>Amerika</td>\n",
       "      <td>Kamis, 16 Juni 2022 - 04:15 WIB</td>\n",
       "      <td>AS Pantau Laporan Warganya Ditangkap Rusia di ...</td>\n",
       "      <td>Sebuah laporan menyatakan sepasang mantan pers...</td>\n",
       "    </tr>\n",
       "    <tr>\n",
       "      <th>1</th>\n",
       "      <td>Eropa</td>\n",
       "      <td>Kamis, 16 Juni 2022 - 03:15 WIB</td>\n",
       "      <td>Ramzan Kadyrov Klaim Rebut Kota Komyshuvakha d...</td>\n",
       "      <td>Pemimpin Chechnya, Ramzan Kadyrov, mengatakan ...</td>\n",
       "    </tr>\n",
       "    <tr>\n",
       "      <th>2</th>\n",
       "      <td>Eropa</td>\n",
       "      <td>Kamis, 16 Juni 2022 - 02:25 WIB</td>\n",
       "      <td>Milisi Donbass Tuding Pasukan Ukraina Gagalkan...</td>\n",
       "      <td>Tentara Ukraina yang bersembunyi di pabrik kim...</td>\n",
       "    </tr>\n",
       "    <tr>\n",
       "      <th>3</th>\n",
       "      <td>Video</td>\n",
       "      <td>Sabtu, 28 Mei 2022 - 17:39 WIB</td>\n",
       "      <td>Partai Perindo: Mars Partai Perindo dengan QR ...</td>\n",
       "      <td>Lahir dari semangat untuk mengembalikan cita-c...</td>\n",
       "    </tr>\n",
       "    <tr>\n",
       "      <th>4</th>\n",
       "      <td>Eropa</td>\n",
       "      <td>Kamis, 16 Juni 2022 - 02:13 WIB</td>\n",
       "      <td>Serang Bandara Suriah, Rusia Minta Klarifikasi...</td>\n",
       "      <td>Rusia menyatakan keprihatinan serius kepada Du...</td>\n",
       "    </tr>\n",
       "  </tbody>\n",
       "</table>\n",
       "</div>"
      ],
      "text/plain": [
       "  Kategori                          Tanggal  \\\n",
       "0  Amerika  Kamis, 16 Juni 2022 - 04:15 WIB   \n",
       "1    Eropa  Kamis, 16 Juni 2022 - 03:15 WIB   \n",
       "2    Eropa  Kamis, 16 Juni 2022 - 02:25 WIB   \n",
       "3    Video   Sabtu, 28 Mei 2022 - 17:39 WIB   \n",
       "4    Eropa  Kamis, 16 Juni 2022 - 02:13 WIB   \n",
       "\n",
       "                                               Judul  \\\n",
       "0  AS Pantau Laporan Warganya Ditangkap Rusia di ...   \n",
       "1  Ramzan Kadyrov Klaim Rebut Kota Komyshuvakha d...   \n",
       "2  Milisi Donbass Tuding Pasukan Ukraina Gagalkan...   \n",
       "3  Partai Perindo: Mars Partai Perindo dengan QR ...   \n",
       "4  Serang Bandara Suriah, Rusia Minta Klarifikasi...   \n",
       "\n",
       "                                           Deskripsi  \n",
       "0  Sebuah laporan menyatakan sepasang mantan pers...  \n",
       "1  Pemimpin Chechnya, Ramzan Kadyrov, mengatakan ...  \n",
       "2  Tentara Ukraina yang bersembunyi di pabrik kim...  \n",
       "3  Lahir dari semangat untuk mengembalikan cita-c...  \n",
       "4  Rusia menyatakan keprihatinan serius kepada Du...  "
      ]
     },
     "execution_count": 6,
     "metadata": {},
     "output_type": "execute_result"
    }
   ],
   "source": [
    "df=pd.read_csv('internasional.csv')\n",
    "df.head()"
   ]
  },
  {
   "cell_type": "markdown",
   "metadata": {
    "id": "kXZZQ02qPfjx"
   },
   "source": [
    "Menghapus kolom 'Kategori', 'Tanggal', 'Judul', karena tidak diperlukan"
   ]
  },
  {
   "cell_type": "code",
   "execution_count": 7,
   "metadata": {
    "id": "T1qkGu1CMuYo"
   },
   "outputs": [],
   "source": [
    "#drop the publish date\n",
    "df.drop(['Kategori'],axis=1,inplace=True)\n",
    "df.drop(['Tanggal'],axis=1,inplace=True)\n",
    "df.drop(['Judul'],axis=1,inplace=True)"
   ]
  },
  {
   "cell_type": "code",
   "execution_count": 8,
   "metadata": {
    "colab": {
     "base_uri": "https://localhost:8080/",
     "height": 206
    },
    "id": "dcHrQb4QNUBO",
    "outputId": "0e5b02a1-3559-4e0e-fb90-49d5942746ad"
   },
   "outputs": [
    {
     "data": {
      "text/html": [
       "<div>\n",
       "<style scoped>\n",
       "    .dataframe tbody tr th:only-of-type {\n",
       "        vertical-align: middle;\n",
       "    }\n",
       "\n",
       "    .dataframe tbody tr th {\n",
       "        vertical-align: top;\n",
       "    }\n",
       "\n",
       "    .dataframe thead th {\n",
       "        text-align: right;\n",
       "    }\n",
       "</style>\n",
       "<table border=\"1\" class=\"dataframe\">\n",
       "  <thead>\n",
       "    <tr style=\"text-align: right;\">\n",
       "      <th></th>\n",
       "      <th>Deskripsi</th>\n",
       "    </tr>\n",
       "  </thead>\n",
       "  <tbody>\n",
       "    <tr>\n",
       "      <th>0</th>\n",
       "      <td>Sebuah laporan menyatakan sepasang mantan pers...</td>\n",
       "    </tr>\n",
       "    <tr>\n",
       "      <th>1</th>\n",
       "      <td>Pemimpin Chechnya, Ramzan Kadyrov, mengatakan ...</td>\n",
       "    </tr>\n",
       "    <tr>\n",
       "      <th>2</th>\n",
       "      <td>Tentara Ukraina yang bersembunyi di pabrik kim...</td>\n",
       "    </tr>\n",
       "    <tr>\n",
       "      <th>3</th>\n",
       "      <td>Lahir dari semangat untuk mengembalikan cita-c...</td>\n",
       "    </tr>\n",
       "    <tr>\n",
       "      <th>4</th>\n",
       "      <td>Rusia menyatakan keprihatinan serius kepada Du...</td>\n",
       "    </tr>\n",
       "  </tbody>\n",
       "</table>\n",
       "</div>"
      ],
      "text/plain": [
       "                                           Deskripsi\n",
       "0  Sebuah laporan menyatakan sepasang mantan pers...\n",
       "1  Pemimpin Chechnya, Ramzan Kadyrov, mengatakan ...\n",
       "2  Tentara Ukraina yang bersembunyi di pabrik kim...\n",
       "3  Lahir dari semangat untuk mengembalikan cita-c...\n",
       "4  Rusia menyatakan keprihatinan serius kepada Du..."
      ]
     },
     "execution_count": 8,
     "metadata": {},
     "output_type": "execute_result"
    }
   ],
   "source": [
    "df.head()"
   ]
  },
  {
   "cell_type": "markdown",
   "metadata": {
    "id": "oDoKymDmliuy"
   },
   "source": [
    "**Data Cleaning & Pre-Processing**"
   ]
  },
  {
   "cell_type": "markdown",
   "metadata": {
    "id": "9fIJTx39P3XW"
   },
   "source": [
    "Di sini saya telah melakukan pra-pengolahan data. Saya sudah menggunakan lemmatizer dan bisa juga menggunakan stemmer. Juga kata-kata berhenti telah digunakan bersama dengan kata-kata dengan panjang lebih pendek dari 3 karakter untuk mengurangi beberapa kata yang menyimpang."
   ]
  },
  {
   "cell_type": "code",
   "execution_count": 9,
   "metadata": {
    "id": "7yTEUUK-lmSb"
   },
   "outputs": [],
   "source": [
    "def clean_text(Deskripsi):\n",
    "  le=WordNetLemmatizer()\n",
    "  word_tokens=word_tokenize(Deskripsi)\n",
    "  tokens=[le.lemmatize(w) for w in word_tokens if w not in stop_words and len(w)>3]\n",
    "  cleaned_text=\" \".join(tokens)\n",
    "  return cleaned_text"
   ]
  },
  {
   "cell_type": "code",
   "execution_count": 10,
   "metadata": {
    "colab": {
     "base_uri": "https://localhost:8080/"
    },
    "id": "FMkcnTy4pajW",
    "outputId": "16753e61-4f6e-49da-cd12-9ab8d0305583"
   },
   "outputs": [
    {
     "name": "stderr",
     "output_type": "stream",
     "text": [
      "[nltk_data] Downloading package wordnet to\n",
      "[nltk_data]     C:\\Users\\ASUS\\AppData\\Roaming\\nltk_data...\n",
      "[nltk_data]   Package wordnet is already up-to-date!\n"
     ]
    },
    {
     "data": {
      "text/plain": [
       "True"
      ]
     },
     "execution_count": 10,
     "metadata": {},
     "output_type": "execute_result"
    }
   ],
   "source": [
    "import nltk\n",
    "nltk.download('wordnet')"
   ]
  },
  {
   "cell_type": "code",
   "execution_count": 11,
   "metadata": {
    "colab": {
     "base_uri": "https://localhost:8080/"
    },
    "id": "1wlYdpTKp0mu",
    "outputId": "0bfc83de-2db5-4871-db8f-a9f30ee5f818"
   },
   "outputs": [
    {
     "name": "stderr",
     "output_type": "stream",
     "text": [
      "[nltk_data] Downloading package omw-1.4 to\n",
      "[nltk_data]     C:\\Users\\ASUS\\AppData\\Roaming\\nltk_data...\n"
     ]
    },
    {
     "name": "stderr",
     "output_type": "stream",
     "text": [
      "[nltk_data]   Package omw-1.4 is already up-to-date!\n"
     ]
    },
    {
     "data": {
      "text/plain": [
       "True"
      ]
     },
     "execution_count": 11,
     "metadata": {},
     "output_type": "execute_result"
    }
   ],
   "source": [
    "import nltk\n",
    "nltk.download('omw-1.4')"
   ]
  },
  {
   "cell_type": "code",
   "execution_count": 12,
   "metadata": {
    "colab": {
     "base_uri": "https://localhost:8080/"
    },
    "id": "LxgIffsxFMpR",
    "outputId": "9f3beedc-d132-4149-87af-8ba81e366feb"
   },
   "outputs": [
    {
     "name": "stderr",
     "output_type": "stream",
     "text": [
      "[nltk_data] Downloading package punkt to\n",
      "[nltk_data]     C:\\Users\\ASUS\\AppData\\Roaming\\nltk_data...\n",
      "[nltk_data]   Package punkt is already up-to-date!\n"
     ]
    },
    {
     "data": {
      "text/plain": [
       "True"
      ]
     },
     "execution_count": 12,
     "metadata": {},
     "output_type": "execute_result"
    }
   ],
   "source": [
    "import nltk\n",
    "nltk.download('punkt')"
   ]
  },
  {
   "cell_type": "markdown",
   "metadata": {
    "id": "Cg8fNLcWQHY5"
   },
   "source": [
    "Lalu hapus kolom yang belum di lakukan cleaning data."
   ]
  },
  {
   "cell_type": "code",
   "execution_count": 13,
   "metadata": {
    "id": "1M8X1waaoWan"
   },
   "outputs": [],
   "source": [
    "\n",
    "\n",
    "# time taking\n",
    "df['Deskripsi_cleaned_text']=df['Deskripsi'].apply(clean_text)\n",
    "\n"
   ]
  },
  {
   "cell_type": "code",
   "execution_count": 14,
   "metadata": {
    "colab": {
     "base_uri": "https://localhost:8080/",
     "height": 206
    },
    "id": "i0lSUxjnqAPL",
    "outputId": "e7262dca-4dd8-40e8-84e0-fcd3bc5a9c5e"
   },
   "outputs": [
    {
     "data": {
      "text/html": [
       "<div>\n",
       "<style scoped>\n",
       "    .dataframe tbody tr th:only-of-type {\n",
       "        vertical-align: middle;\n",
       "    }\n",
       "\n",
       "    .dataframe tbody tr th {\n",
       "        vertical-align: top;\n",
       "    }\n",
       "\n",
       "    .dataframe thead th {\n",
       "        text-align: right;\n",
       "    }\n",
       "</style>\n",
       "<table border=\"1\" class=\"dataframe\">\n",
       "  <thead>\n",
       "    <tr style=\"text-align: right;\">\n",
       "      <th></th>\n",
       "      <th>Deskripsi</th>\n",
       "      <th>Deskripsi_cleaned_text</th>\n",
       "    </tr>\n",
       "  </thead>\n",
       "  <tbody>\n",
       "    <tr>\n",
       "      <th>0</th>\n",
       "      <td>Sebuah laporan menyatakan sepasang mantan pers...</td>\n",
       "      <td>Sebuah laporan menyatakan sepasang mantan pers...</td>\n",
       "    </tr>\n",
       "    <tr>\n",
       "      <th>1</th>\n",
       "      <td>Pemimpin Chechnya, Ramzan Kadyrov, mengatakan ...</td>\n",
       "      <td>Pemimpin Chechnya Ramzan Kadyrov mengatakan ko...</td>\n",
       "    </tr>\n",
       "    <tr>\n",
       "      <th>2</th>\n",
       "      <td>Tentara Ukraina yang bersembunyi di pabrik kim...</td>\n",
       "      <td>Tentara Ukraina yang bersembunyi pabrik kimia ...</td>\n",
       "    </tr>\n",
       "    <tr>\n",
       "      <th>3</th>\n",
       "      <td>Lahir dari semangat untuk mengembalikan cita-c...</td>\n",
       "      <td>Lahir dari semangat untuk mengembalikan cita-c...</td>\n",
       "    </tr>\n",
       "    <tr>\n",
       "      <th>4</th>\n",
       "      <td>Rusia menyatakan keprihatinan serius kepada Du...</td>\n",
       "      <td>Rusia menyatakan keprihatinan serius kepada Du...</td>\n",
       "    </tr>\n",
       "  </tbody>\n",
       "</table>\n",
       "</div>"
      ],
      "text/plain": [
       "                                           Deskripsi  \\\n",
       "0  Sebuah laporan menyatakan sepasang mantan pers...   \n",
       "1  Pemimpin Chechnya, Ramzan Kadyrov, mengatakan ...   \n",
       "2  Tentara Ukraina yang bersembunyi di pabrik kim...   \n",
       "3  Lahir dari semangat untuk mengembalikan cita-c...   \n",
       "4  Rusia menyatakan keprihatinan serius kepada Du...   \n",
       "\n",
       "                              Deskripsi_cleaned_text  \n",
       "0  Sebuah laporan menyatakan sepasang mantan pers...  \n",
       "1  Pemimpin Chechnya Ramzan Kadyrov mengatakan ko...  \n",
       "2  Tentara Ukraina yang bersembunyi pabrik kimia ...  \n",
       "3  Lahir dari semangat untuk mengembalikan cita-c...  \n",
       "4  Rusia menyatakan keprihatinan serius kepada Du...  "
      ]
     },
     "execution_count": 14,
     "metadata": {},
     "output_type": "execute_result"
    }
   ],
   "source": [
    "df.head()"
   ]
  },
  {
   "cell_type": "code",
   "execution_count": 15,
   "metadata": {
    "id": "nErseu6wq9HZ"
   },
   "outputs": [],
   "source": [
    "df.drop(['Deskripsi'],axis=1,inplace=True)"
   ]
  },
  {
   "cell_type": "code",
   "execution_count": 16,
   "metadata": {
    "colab": {
     "base_uri": "https://localhost:8080/",
     "height": 206
    },
    "id": "OMhHMMpirCtd",
    "outputId": "691e1695-dafc-4ecb-d2c8-23de587522d5"
   },
   "outputs": [
    {
     "data": {
      "text/html": [
       "<div>\n",
       "<style scoped>\n",
       "    .dataframe tbody tr th:only-of-type {\n",
       "        vertical-align: middle;\n",
       "    }\n",
       "\n",
       "    .dataframe tbody tr th {\n",
       "        vertical-align: top;\n",
       "    }\n",
       "\n",
       "    .dataframe thead th {\n",
       "        text-align: right;\n",
       "    }\n",
       "</style>\n",
       "<table border=\"1\" class=\"dataframe\">\n",
       "  <thead>\n",
       "    <tr style=\"text-align: right;\">\n",
       "      <th></th>\n",
       "      <th>Deskripsi_cleaned_text</th>\n",
       "    </tr>\n",
       "  </thead>\n",
       "  <tbody>\n",
       "    <tr>\n",
       "      <th>0</th>\n",
       "      <td>Sebuah laporan menyatakan sepasang mantan pers...</td>\n",
       "    </tr>\n",
       "    <tr>\n",
       "      <th>1</th>\n",
       "      <td>Pemimpin Chechnya Ramzan Kadyrov mengatakan ko...</td>\n",
       "    </tr>\n",
       "    <tr>\n",
       "      <th>2</th>\n",
       "      <td>Tentara Ukraina yang bersembunyi pabrik kimia ...</td>\n",
       "    </tr>\n",
       "    <tr>\n",
       "      <th>3</th>\n",
       "      <td>Lahir dari semangat untuk mengembalikan cita-c...</td>\n",
       "    </tr>\n",
       "    <tr>\n",
       "      <th>4</th>\n",
       "      <td>Rusia menyatakan keprihatinan serius kepada Du...</td>\n",
       "    </tr>\n",
       "  </tbody>\n",
       "</table>\n",
       "</div>"
      ],
      "text/plain": [
       "                              Deskripsi_cleaned_text\n",
       "0  Sebuah laporan menyatakan sepasang mantan pers...\n",
       "1  Pemimpin Chechnya Ramzan Kadyrov mengatakan ko...\n",
       "2  Tentara Ukraina yang bersembunyi pabrik kimia ...\n",
       "3  Lahir dari semangat untuk mengembalikan cita-c...\n",
       "4  Rusia menyatakan keprihatinan serius kepada Du..."
      ]
     },
     "execution_count": 16,
     "metadata": {},
     "output_type": "execute_result"
    }
   ],
   "source": [
    "df.head()"
   ]
  },
  {
   "cell_type": "markdown",
   "metadata": {
    "id": "zFfPvCR_QnXu"
   },
   "source": [
    "Dapat dilihat deskripsi dari sebuah dokumen tertentu"
   ]
  },
  {
   "cell_type": "code",
   "execution_count": 17,
   "metadata": {
    "colab": {
     "base_uri": "https://localhost:8080/",
     "height": 35
    },
    "id": "Y5IskYbLrJpa",
    "outputId": "b0e3e418-30d7-4530-82c3-01102110c7a1"
   },
   "outputs": [
    {
     "data": {
      "text/plain": [
       "'Sebuah laporan menyatakan sepasang mantan personel militer Amerika Serikat yang berjuang sebagai sukarelawan Ukraina telah ditangkap oleh pasukan Rusia'"
      ]
     },
     "execution_count": 17,
     "metadata": {},
     "output_type": "execute_result"
    }
   ],
   "source": [
    "df['Deskripsi_cleaned_text'][0]"
   ]
  },
  {
   "cell_type": "markdown",
   "metadata": {
    "id": "t5ukmxxWrT-S"
   },
   "source": [
    "**EXTRACTING THE FEATURES AND CREATING THE DOCUMENT-TERM-MATRIX ( DTM )**\n",
    "**MENGEKSTRAK FITUR DAN MEMBUAT DOCUMENT-TERM-MATRIX ( DTM ) **"
   ]
  },
  {
   "cell_type": "markdown",
   "metadata": {
    "id": "zRtkXCplQ_qc"
   },
   "source": [
    "Dalam DTM nilainya adalah nilai TFidf.\n",
    "\n",
    "Saya juga telah menentukan beberapa parameter dari vectorizer Tfidf.\n",
    "\n",
    "Beberapa poin penting:\n",
    "\n",
    "1) LSA umumnya diimplementasikan dengan nilai Tfidf di mana-mana dan tidak dengan Count Vectorizer.\n",
    "\n",
    "2) max_features tergantung pada daya komputasi Anda dan juga pada eval. metrik (skor koherensi adalah metrik untuk model topik). Coba nilai yang memberikan evaluasi terbaik. metrik dan tidak membatasi kekuatan pemrosesan.\n",
    "\n",
    "3) Nilai default untuk min_df & max_df bekerja dengan baik.\n",
    "\n",
    "4) Dapat mencoba nilai yang berbeda untuk ngram_range."
   ]
  },
  {
   "cell_type": "code",
   "execution_count": 18,
   "metadata": {
    "id": "JP3JvTcYrWl7"
   },
   "outputs": [],
   "source": [
    "vect =TfidfVectorizer(stop_words=stop_words,max_features=1000) # to play with. min_df,max_df,max_features etc..."
   ]
  },
  {
   "cell_type": "code",
   "execution_count": 19,
   "metadata": {
    "id": "-H6kM_j9rhwo"
   },
   "outputs": [],
   "source": [
    "vect_text=vect.fit_transform(df['Deskripsi_cleaned_text'])"
   ]
  },
  {
   "cell_type": "markdown",
   "metadata": {
    "id": "VKwnzYRorn-x"
   },
   "source": [
    "Kita sekarang dapat melihat kata-kata yang paling sering dan langka di berita utama berdasarkan skor idf. Semakin kecil nilainya; lebih umum adalah kata dalam berita utama."
   ]
  },
  {
   "cell_type": "code",
   "execution_count": 20,
   "metadata": {
    "colab": {
     "base_uri": "https://localhost:8080/"
    },
    "id": "Cyv8hnpgrq84",
    "outputId": "174c11b2-b3e5-461d-b9e0-44db2a9c40f4"
   },
   "outputs": [
    {
     "name": "stdout",
     "output_type": "stream",
     "text": [
      "(33, 396)\n",
      "  (0, 302)\t0.15105308633404296\n",
      "  (0, 252)\t0.1810546243240502\n",
      "  (0, 244)\t0.23234259227587728\n",
      "  (0, 88)\t0.28363056022770433\n",
      "  (0, 355)\t0.1810546243240502\n",
      "  (0, 384)\t0.14513049450784313\n",
      "  (0, 344)\t0.28363056022770433\n",
      "  (0, 310)\t0.25362902223769707\n",
      "  (0, 46)\t0.25362902223769707\n",
      "  (0, 393)\t0.13454204852066717\n",
      "  (0, 330)\t0.2158315544625015\n",
      "  (0, 19)\t0.2158315544625015\n",
      "  (0, 235)\t0.20234105428587\n",
      "  (0, 276)\t0.25362902223769707\n",
      "  (0, 190)\t0.28363056022770433\n",
      "  (0, 328)\t0.28363056022770433\n",
      "  (0, 228)\t0.20234105428587\n",
      "  (0, 182)\t0.25362902223769707\n",
      "  (0, 312)\t0.25362902223769707\n",
      "  (1, 262)\t0.29475550947653695\n",
      "  (1, 71)\t0.15082300304627963\n",
      "  (1, 77)\t0.29475550947653695\n",
      "  (1, 186)\t0.2635772097607911\n",
      "  (1, 292)\t0.2635772097607911\n",
      "  (1, 295)\t0.2635772097607911\n",
      "  :\t:\n",
      "  (31, 15)\t0.2444133471216549\n",
      "  (31, 74)\t0.2444133471216549\n",
      "  (31, 140)\t0.2444133471216549\n",
      "  (31, 286)\t0.2185600811229266\n",
      "  (31, 359)\t0.2185600811229266\n",
      "  (31, 22)\t0.2185600811229266\n",
      "  (31, 231)\t0.3719776359663027\n",
      "  (31, 393)\t0.1159391018412844\n",
      "  (32, 196)\t0.26088151060878834\n",
      "  (32, 204)\t0.26088151060878834\n",
      "  (32, 83)\t0.26088151060878834\n",
      "  (32, 349)\t0.26088151060878834\n",
      "  (32, 281)\t0.26088151060878834\n",
      "  (32, 325)\t0.23328629468728643\n",
      "  (32, 11)\t0.23328629468728643\n",
      "  (32, 160)\t0.4274143548073988\n",
      "  (32, 212)\t0.23328629468728643\n",
      "  (32, 231)\t0.1985204341874035\n",
      "  (32, 385)\t0.1448594639360613\n",
      "  (32, 172)\t0.37222392296439505\n",
      "  (32, 302)\t0.13893762827710862\n",
      "  (32, 252)\t0.1665328441986105\n",
      "  (32, 384)\t0.13349006754494405\n",
      "  (32, 393)\t0.1237508850608127\n",
      "  (32, 235)\t0.18611196148219752\n"
     ]
    }
   ],
   "source": [
    "print(vect_text.shape)\n",
    "print(vect_text)"
   ]
  },
  {
   "cell_type": "code",
   "execution_count": 21,
   "metadata": {
    "id": "U7HiLqLUr8nr"
   },
   "outputs": [],
   "source": [
    "idf=vect.idf_"
   ]
  },
  {
   "cell_type": "code",
   "execution_count": 22,
   "metadata": {
    "colab": {
     "base_uri": "https://localhost:8080/"
    },
    "id": "Y1DUtm27tRCT",
    "outputId": "f2e5b203-db02-47d6-de4c-be8e1641d5c4"
   },
   "outputs": [
    {
     "name": "stderr",
     "output_type": "stream",
     "text": [
      "2022-06-16 04:42:17 [py.warnings] WARNING: C:\\Users\\ASUS\\AppData\\Local\\Programs\\Python\\Python38-32\\lib\\site-packages\\sklearn\\utils\\deprecation.py:87: FutureWarning: Function get_feature_names is deprecated; get_feature_names is deprecated in 1.0 and will be removed in 1.2. Please use get_feature_names_out instead.\n",
      "  warnings.warn(msg, category=FutureWarning)\n",
      "\n"
     ]
    },
    {
     "name": "stdout",
     "output_type": "stream",
     "text": [
      "yang yasser\n",
      "3.833213344056216\n",
      "2.041453874828161\n"
     ]
    }
   ],
   "source": [
    "dd=dict(zip(vect.get_feature_names(), idf))\n",
    "l=sorted(dd, key=(dd).get)\n",
    "# print(l)\n",
    "print(l[0],l[-1])\n",
    "print(dd['baru'])\n",
    "print(dd['rusia'])"
   ]
  },
  {
   "cell_type": "markdown",
   "metadata": {
    "id": "omjSfR1Rt6ka"
   },
   "source": [
    "# TOPIC MODELLING"
   ]
  },
  {
   "cell_type": "markdown",
   "metadata": {
    "id": "7IjTMkrAt7Xp"
   },
   "source": [
    "## **Latent Semantic Analysis (LSA)**"
   ]
  },
  {
   "cell_type": "markdown",
   "metadata": {
    "id": "9RMgXqryR2eK"
   },
   "source": [
    "Pendekatan pertama yang saya gunakan adalah LSA. LSA pada dasarnya adalah dekomposisi nilai tunggal.\n",
    "\n",
    "SVD menguraikan DTM asli menjadi tiga matriks S=U.(sigma).(V.T). Di sini matriks U menunjukkan matriks dokumen-topik sementara (V) adalah matriks topik-term.\n",
    "\n",
    "Setiap baris dari matriks U (matriks istilah dokumen) adalah representasi vektor dari dokumen yang sesuai. Panjang vektor ini adalah jumlah topik yang diinginkan. Representasi vektor untuk suku-suku dalam data kami dapat ditemukan dalam matriks V (matriks istilah-topik).\n",
    "\n",
    "Jadi, SVD memberi kita vektor untuk setiap dokumen dan istilah dalam data kita. Panjang setiap vektor adalah k. Kami kemudian dapat menggunakan vektor-vektor ini untuk menemukan kata-kata dan dokumen serupa menggunakan metode kesamaan kosinus.\n",
    "\n",
    "Kita dapat menggunakan fungsi truncatedSVD untuk mengimplementasikan LSA. Parameter n_components adalah jumlah topik yang ingin kita ekstrak. Model tersebut kemudian di fit dan ditransformasikan pada hasil yang diberikan oleh vectorizer."
   ]
  },
  {
   "cell_type": "markdown",
   "metadata": {
    "id": "rIz1De4sR_wS"
   },
   "source": [
    "**Terakhir perhatikan bahwa LSA dan LSI (I untuk pengindeksan) adalah sama dan yang terakhir kadang-kadang digunakan dalam konteks pencarian informasi.**"
   ]
  },
  {
   "cell_type": "code",
   "execution_count": 23,
   "metadata": {
    "id": "zG9sKYaruJ45"
   },
   "outputs": [],
   "source": [
    "from sklearn.decomposition import TruncatedSVD\n",
    "lsa_model = TruncatedSVD(n_components=10, algorithm='randomized', n_iter=10, random_state=42)\n",
    "\n",
    "lsa_top=lsa_model.fit_transform(vect_text)"
   ]
  },
  {
   "cell_type": "code",
   "execution_count": 24,
   "metadata": {
    "colab": {
     "base_uri": "https://localhost:8080/"
    },
    "id": "JwRj_YEJuSTR",
    "outputId": "18c175fe-4a73-4b33-f59d-ceb2c4f4b553"
   },
   "outputs": [
    {
     "name": "stdout",
     "output_type": "stream",
     "text": [
      "[[ 3.92411860e-01  8.88673354e-02  1.34814799e-01 -2.56784333e-01\n",
      "  -2.16122400e-01  5.49276509e-02 -1.74254535e-01 -8.71918700e-02\n",
      "  -2.03233549e-01  1.26867360e-01]\n",
      " [ 2.28830472e-01  2.61142106e-01  1.58167457e-01  1.99669174e-02\n",
      "  -1.67030766e-01 -2.09084973e-02  2.83782977e-01 -1.26287067e-01\n",
      "  -1.57152498e-01 -4.11293007e-01]\n",
      " [ 4.11886913e-01  4.68261413e-01  2.99835582e-01  3.50969536e-02\n",
      "   1.70205206e-01  4.84066357e-02  4.75704335e-03  1.04583227e-01\n",
      "  -7.75104547e-03  2.16084476e-01]\n",
      " [ 1.50490500e-01 -1.21711430e-02  1.51692542e-02 -9.26526460e-02\n",
      "   3.71943256e-02  7.10193885e-02 -3.53943426e-02  3.35788659e-01\n",
      "   2.61120960e-01 -4.20356282e-01]\n",
      " [ 1.59906732e-01  4.83543494e-02  4.48867753e-02 -7.80451340e-02\n",
      "   1.98313344e-02 -2.47037329e-01  8.08719013e-02 -3.79968491e-02\n",
      "   4.27362663e-02  4.41801909e-01]\n",
      " [ 3.46107892e-01  5.18797939e-02 -2.08384608e-01 -1.93010027e-01\n",
      "   2.10492589e-01 -1.62027946e-01  9.58357328e-02  2.46790963e-01\n",
      "  -3.30046453e-02  6.24164161e-02]\n",
      " [ 7.20253108e-02  2.93930549e-02  1.03083290e-01 -2.51861824e-01\n",
      "  -7.17560590e-02 -7.94540330e-02 -3.49606819e-02 -2.71172865e-01\n",
      "   1.37469551e-01 -2.85754548e-02]\n",
      " [ 1.57823259e-01 -1.70371210e-02  2.66800893e-01 -8.22108507e-02\n",
      "  -3.00781503e-01 -2.36377092e-01  1.79636321e-01 -7.41035990e-02\n",
      "  -7.72874036e-02 -3.76467394e-01]\n",
      " [ 2.63214866e-01 -3.25005327e-02 -1.80579437e-01  1.41064638e-01\n",
      "  -2.30568950e-01  4.22660398e-01  1.71833756e-01 -2.04550361e-01\n",
      "   3.90452091e-01  6.61904305e-02]\n",
      " [ 1.46178692e-01 -1.95603189e-01  2.77848727e-01 -2.82250100e-01\n",
      "  -2.51704462e-01  9.49672551e-02 -1.49567513e-01 -1.98954756e-01\n",
      "  -1.55797109e-01  2.30334679e-01]\n",
      " [ 2.39613076e-02 -1.59740970e-02 -3.66944074e-02 -1.69605687e-02\n",
      "  -5.38994362e-02 -1.09278388e-01  2.46874787e-01  1.94228021e-01\n",
      "  -3.48082952e-02  3.44433381e-01]\n",
      " [ 1.71651240e-01 -1.28648249e-01  4.55914194e-02  3.83145456e-01\n",
      "   5.42449786e-02 -1.48911629e-01 -3.02787104e-01 -2.09160456e-02\n",
      "  -2.43464033e-02 -1.78461195e-04]\n",
      " [ 3.14660900e-01 -7.08983115e-02 -2.93253098e-01  5.64294209e-02\n",
      "  -7.85050178e-02 -1.99543728e-01  2.90055855e-01  2.14425236e-01\n",
      "  -3.84189629e-01  2.82652090e-02]\n",
      " [ 1.30149896e-01 -2.50679934e-01  6.31215381e-02 -1.02035979e-01\n",
      "   4.97006509e-01  2.96833586e-01  3.28872126e-01 -1.72007611e-01\n",
      "  -1.90720691e-01 -1.18033214e-02]\n",
      " [ 3.42742508e-01 -2.35868949e-01  1.82305799e-01  3.68469980e-01\n",
      "  -1.11367693e-01 -3.57128171e-01  5.76865990e-02 -8.35550260e-02\n",
      "   1.60965060e-01 -8.00450093e-02]\n",
      " [ 1.56222911e-01 -3.00772956e-01  1.97109877e-01 -1.75685981e-01\n",
      "  -2.15415558e-01  6.32902581e-02 -8.59148049e-02  4.06908321e-01\n",
      "   6.21835007e-02 -1.20055574e-01]\n",
      " [ 5.44534932e-01  2.71670438e-01  2.37990892e-01  2.65433893e-01\n",
      "   1.61103295e-01  1.26538723e-01 -1.89121554e-01  1.35939889e-01\n",
      "   5.79062276e-02  4.85138826e-02]\n",
      " [ 3.19755059e-01 -2.32342406e-01  2.33120422e-02  4.39591439e-01\n",
      "   7.02199085e-02 -8.82712063e-02 -2.01115379e-01  2.75260419e-02\n",
      "   7.44105837e-02  1.11755225e-01]\n",
      " [ 2.48433200e-01 -2.63782673e-02 -1.38383852e-01 -1.69751686e-01\n",
      "   2.35645027e-02  1.63262072e-01 -1.83660267e-01  3.20662019e-01\n",
      "   1.03781933e-01 -8.23952368e-02]\n",
      " [ 1.43890013e-01  1.22928689e-02 -4.04932737e-02 -1.56538841e-01\n",
      "  -1.13482949e-01 -5.54774887e-02  2.70291860e-01  1.27241474e-01\n",
      "  -5.85600872e-02  9.56222089e-02]\n",
      " [ 1.33790381e-01 -1.58965849e-01 -6.02541560e-02  2.06488664e-02\n",
      "  -1.88286971e-01 -1.99806881e-03  3.84213192e-01  3.03300260e-01\n",
      "   2.78002182e-01  8.07467573e-02]\n",
      " [ 4.35158208e-01  3.87052585e-02 -4.14185243e-01  7.07307325e-02\n",
      "  -1.62179043e-01  1.08772587e-01  3.50649022e-02 -9.48104337e-02\n",
      "  -3.41059862e-01  1.58181561e-02]\n",
      " [ 3.90180036e-01 -4.58790343e-02 -3.74099363e-01  1.05314163e-01\n",
      "  -1.75197795e-01  2.56596922e-01 -9.97533878e-02 -1.46182133e-01\n",
      "   7.24934000e-02 -6.94598850e-02]\n",
      " [ 5.68542412e-02 -7.41779940e-02  6.90212612e-02 -1.82303018e-01\n",
      "  -5.08361265e-02  4.41961994e-02 -1.13762363e-01  2.20908814e-01\n",
      "  -3.75528212e-02  7.10930156e-02]\n",
      " [ 2.15309231e-01 -2.56329484e-01  2.23418937e-01 -3.83689996e-01\n",
      "  -8.46367663e-02  2.57653908e-01 -1.97326472e-01 -1.18186812e-02\n",
      "  -4.68966058e-03  5.79026760e-02]\n",
      " [ 2.30351339e-01  4.78649865e-01  4.17505996e-01  1.11890069e-01\n",
      "   2.48654615e-02  1.56535078e-01  1.52526767e-01  1.76873422e-02\n",
      "  -4.70671974e-02 -4.14424051e-02]\n",
      " [ 1.56687416e-01  5.90107272e-02 -3.70549322e-02 -3.77137945e-02\n",
      "  -1.93539461e-01  6.13736821e-02  2.76918309e-01 -2.75207115e-01\n",
      "   3.87497699e-01  1.41605537e-01]\n",
      " [ 3.44128976e-01  1.10226116e-01 -8.52059432e-02 -3.02173794e-01\n",
      "   2.99521677e-01 -2.68246425e-01 -4.98255621e-03 -2.53235868e-02\n",
      "   3.44703340e-01  3.54097444e-03]\n",
      " [ 2.90728189e-01 -3.54937627e-01  2.19012691e-01 -5.15339176e-02\n",
      "  -3.53418770e-02 -3.35850755e-01  2.35699590e-02 -1.77871493e-01\n",
      "  -8.44642449e-02 -3.87858334e-02]\n",
      " [ 2.10775276e-01 -3.94544212e-01  1.56839266e-01  9.03121522e-03\n",
      "   5.14625312e-01  2.23317581e-01  2.42306018e-01 -1.04711220e-01\n",
      "  -6.89164006e-02 -1.30884144e-01]\n",
      " [ 2.30491099e-01 -3.80684454e-01  9.45951150e-02  1.35361942e-01\n",
      "  -5.70957332e-03  7.02126194e-02 -1.66191902e-02  2.58500574e-02\n",
      "   2.52077147e-02  8.99546936e-02]\n",
      " [ 1.64055394e-01  5.88855944e-02 -1.95335665e-01 -3.09755977e-01\n",
      "   2.39758975e-01 -3.39217429e-01 -1.17012831e-01 -2.18507801e-01\n",
      "   2.29845183e-01 -9.72462240e-02]\n",
      " [ 4.46468241e-01  1.15277624e-01 -3.82676337e-01 -9.79088447e-02\n",
      "   3.60338967e-02 -2.42374612e-02 -2.22463264e-01 -1.30865479e-01\n",
      "  -1.50506820e-01 -1.67942208e-01]]\n",
      "(33, 10)\n"
     ]
    }
   ],
   "source": [
    "print(lsa_top)\n",
    "print(lsa_top.shape)  # (no_of_doc*no_of_topics)"
   ]
  },
  {
   "cell_type": "code",
   "execution_count": 25,
   "metadata": {
    "colab": {
     "base_uri": "https://localhost:8080/"
    },
    "id": "rgMWjwxUuZNt",
    "outputId": "f4ac21d5-b959-43f7-876f-00cadf9a91c0"
   },
   "outputs": [
    {
     "name": "stdout",
     "output_type": "stream",
     "text": [
      "Document 0 :\n",
      "Topic  0  :  39.241186029547514\n",
      "Topic  1  :  8.886733540458977\n",
      "Topic  2  :  13.481479931964937\n",
      "Topic  3  :  -25.67843332727573\n",
      "Topic  4  :  -21.61223999033706\n",
      "Topic  5  :  5.4927650909387244\n",
      "Topic  6  :  -17.425453491863504\n",
      "Topic  7  :  -8.719186999291557\n",
      "Topic  8  :  -20.323354852099097\n",
      "Topic  9  :  12.686735956748068\n"
     ]
    }
   ],
   "source": [
    "l=lsa_top[0]\n",
    "print(\"Document 0 :\")\n",
    "for i,topic in enumerate(l):\n",
    "  print(\"Topic \",i,\" : \",topic*100)"
   ]
  },
  {
   "cell_type": "markdown",
   "metadata": {
    "id": "ztEsVAjPSWZx"
   },
   "source": [
    "Mirip dengan dokumen lain kita bisa melakukan ini. Namun perhatikan bahwa nilai tidak menambah 1 seperti di LSA itu bukan kemungkinan topik dalam dokumen."
   ]
  },
  {
   "cell_type": "code",
   "execution_count": 26,
   "metadata": {
    "colab": {
     "base_uri": "https://localhost:8080/"
    },
    "id": "PJfgUngSudrL",
    "outputId": "73e20402-bbeb-48b2-c799-ac42bfa8c306"
   },
   "outputs": [
    {
     "name": "stdout",
     "output_type": "stream",
     "text": [
      "(10, 396)\n",
      "[[ 0.06177692  0.10989475  0.01291473 ...  0.23101544  0.00450402\n",
      "   0.06491295]\n",
      " [-0.15609243 -0.04974332 -0.02545269 ...  0.07078834 -0.00959231\n",
      "  -0.00367153]\n",
      " [ 0.06762613  0.06411882 -0.0100247  ... -0.06149316  0.00935965\n",
      "  -0.10467148]\n",
      " ...\n",
      " [-0.04545791  0.00817007  0.06118986 ...  0.04495795  0.03747786\n",
      "   0.01942606]\n",
      " [-0.02334145  0.04138792  0.05844335 ... -0.0617808  -0.00637797\n",
      "  -0.13437321]\n",
      " [-0.01425207  0.01612685  0.01833564 ...  0.10062677  0.01217577\n",
      "   0.00806635]]\n"
     ]
    }
   ],
   "source": [
    "print(lsa_model.components_.shape) # (no_of_topics*no_of_words)\n",
    "print(lsa_model.components_)"
   ]
  },
  {
   "cell_type": "markdown",
   "metadata": {
    "id": "sgFMJU96SgwX"
   },
   "source": [
    "Sekarang kita bisa mendapatkan daftar kata-kata penting untuk masing-masing dari 10 topik seperti yang ditunjukkan. Untuk kesederhanaan di sini saya telah menunjukkan 10 kata untuk setiap topik."
   ]
  },
  {
   "cell_type": "code",
   "execution_count": 27,
   "metadata": {
    "colab": {
     "base_uri": "https://localhost:8080/"
    },
    "id": "NXcecTJjukoG",
    "outputId": "e8c0fa60-4a24-4353-89ab-58d75bb7457c"
   },
   "outputs": [
    {
     "name": "stdout",
     "output_type": "stream",
     "text": [
      "Topic 0: \n",
      "untuk yang rusia ukraina pasukan dari kota pada kerugian mereka \n",
      "\n",
      "Topic 1: \n",
      "pabrik severodonetsk sipil warga azot luhansk rakyat republik kemanusiaan kimia \n",
      "\n",
      "Topic 2: \n",
      "dengan pabrik severodonetsk sipil menyatakan warga azot bahwa 2022 amerika \n",
      "\n",
      "Topic 3: \n",
      "15 rabu 2022 presiden pada nato mulai akan timur auditorium \n",
      "\n",
      "Topic 4: \n",
      "peluncuran mereka foto gurun landasan menunjukkan satelit iran yang untuk \n",
      "\n",
      "Topic 5: \n",
      "untuk bantuan ukraina peluncuran dalam biden mengumumkan dengan foto sekitar \n",
      "\n",
      "Topic 6: \n",
      "hingga peluncuran juta dari foto anak tidak telah gurun landasan \n",
      "\n",
      "Topic 7: \n",
      "lebih negara tahun hingga cita untuk tidak dengan dunia membangun \n",
      "\n",
      "Topic 8: \n",
      "juta israel untuk mereka triliun atau terus presiden akan cita \n",
      "\n",
      "Topic 9: \n",
      "lalu menyatakan israel yang hingga banting jurang kaget kuntilanak melihat \n",
      "\n"
     ]
    }
   ],
   "source": [
    "# most important words for each topic\n",
    "vocab = vect.get_feature_names()\n",
    "\n",
    "for i, comp in enumerate(lsa_model.components_):\n",
    "    vocab_comp = zip(vocab, comp)\n",
    "    sorted_words = sorted(vocab_comp, key= lambda x:x[1], reverse=True)[:10]\n",
    "    print(\"Topic \"+str(i)+\": \")\n",
    "    for t in sorted_words:\n",
    "        print(t[0],end=\" \")\n",
    "    print(\"\\n\")"
   ]
  }
 ],
 "metadata": {
  "colab": {
   "collapsed_sections": [],
   "name": "ppwajeng1",
   "provenance": []
  },
  "kernelspec": {
   "display_name": "Python 3",
   "name": "python3"
  },
  "language_info": {
   "codemirror_mode": {
    "name": "ipython",
    "version": 3
   },
   "file_extension": ".py",
   "mimetype": "text/x-python",
   "name": "python",
   "nbconvert_exporter": "python",
   "pygments_lexer": "ipython3",
   "version": "3.8.5"
  }
 },
 "nbformat": 4,
 "nbformat_minor": 0
}